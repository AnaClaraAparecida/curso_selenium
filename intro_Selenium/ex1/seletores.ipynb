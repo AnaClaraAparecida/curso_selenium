{
 "cells": [
  {
   "cell_type": "markdown",
   "id": "85d9ce1a",
   "metadata": {},
   "source": [
    "# aula_27 - usando_os_seletores"
   ]
  },
  {
   "cell_type": "code",
   "execution_count": null,
   "id": "bd41e059",
   "metadata": {
    "vscode": {
     "languageId": "plaintext"
    }
   },
   "outputs": [],
   "source": [
    "driver.find_elements(By.CSS_SELECTOR, '#social > a:nth-child(1)')\n"
   ]
  },
  {
   "cell_type": "code",
   "execution_count": null,
   "id": "a5e48b97",
   "metadata": {
    "vscode": {
     "languageId": "plaintext"
    }
   },
   "outputs": [],
   "source": [
    "driver.find_elements(By.XPATH, '//*[@id=\"social\"]/a[1]')"
   ]
  },
  {
   "cell_type": "code",
   "execution_count": null,
   "id": "aae2e6d0",
   "metadata": {
    "vscode": {
     "languageId": "plaintext"
    }
   },
   "outputs": [],
   "source": [
    "driver.find_elements(By.XPATH, '/html/body/div/div/div[2]/main/div[2]/div/div[2]/a[1]')"
   ]
  }
 ],
 "metadata": {
  "language_info": {
   "name": "python"
  }
 },
 "nbformat": 4,
 "nbformat_minor": 5
}
