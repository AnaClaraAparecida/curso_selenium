{
 "cells": [
  {
   "cell_type": "markdown",
   "id": "62a52a87",
   "metadata": {},
   "source": [
    "# aula_20 - elementos pelo NAME"
   ]
  },
  {
   "cell_type": "code",
   "execution_count": null,
   "id": "f17bd1a6",
   "metadata": {
    "vscode": {
     "languageId": "plaintext"
    }
   },
   "outputs": [],
   "source": [
    "from selenium.webdriver.common.by import By\n",
    "from selenium import webdriver\n",
    "\n",
    "driver = webdriver.Chrome()\n",
    "driver.get(\"https://curso-web-scraping.pages.dev/#/esmplo/1\")"
   ]
  },
  {
   "cell_type": "code",
   "execution_count": null,
   "id": "7172a5b7",
   "metadata": {
    "vscode": {
     "languageId": "plaintext"
    }
   },
   "outputs": [],
   "source": [
    "nome = driver.find_element(By.NAME, \"fullname\").get_property('value')\n",
    "profissao = driver.find_element(By.NAME, 'role').get_property('value')\n",
    "signo = driver.find_element(By.NAME, 'zodiacSign').get_property('value')\n",
    "genero = driver.find_element(By.NAME, 'genderOfBirth').get_property('value')\n",
    "\n",
    "print(f'''\n",
    "    {nome=}, \n",
    "    {profissao=},\n",
    "    {signo=},\n",
    "    {genero=},\n",
    "''')"
   ]
  },
  {
   "cell_type": "code",
   "execution_count": null,
   "id": "8f6919e7",
   "metadata": {
    "vscode": {
     "languageId": "plaintext"
    }
   },
   "outputs": [],
   "source": []
  }
 ],
 "metadata": {
  "language_info": {
   "name": "python"
  }
 },
 "nbformat": 4,
 "nbformat_minor": 5
}
