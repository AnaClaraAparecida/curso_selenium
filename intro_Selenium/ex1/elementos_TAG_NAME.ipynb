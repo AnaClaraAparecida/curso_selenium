{
 "cells": [
  {
   "cell_type": "markdown",
   "id": "49fa84af",
   "metadata": {},
   "source": [
    "# aula_21 - elementos pelo TAG_NAME"
   ]
  },
  {
   "cell_type": "code",
   "execution_count": null,
   "id": "4f77d084",
   "metadata": {
    "vscode": {
     "languageId": "plaintext"
    }
   },
   "outputs": [],
   "source": [
    "from selenium.webdriver.common.by import By\n",
    "from selenium import webdriver\n",
    "\n",
    "driver = webdriver.Chrome()\n",
    "driver.get(\"https://curso-web-scraping.pages.dev/#/esmplo/1\")"
   ]
  },
  {
   "cell_type": "code",
   "execution_count": null,
   "id": "664a4d4d",
   "metadata": {
    "vscode": {
     "languageId": "plaintext"
    }
   },
   "outputs": [],
   "source": [
    "campos = driver.find_elements(By.TAG_NAME, 'input')\n",
    "\n",
    "for campo in campos:\n",
    "    valor = campo.get_property('value')\n",
    "    print(valor)"
   ]
  },
  {
   "cell_type": "code",
   "execution_count": null,
   "id": "7a9228d3",
   "metadata": {
    "vscode": {
     "languageId": "plaintext"
    }
   },
   "outputs": [],
   "source": [
    "redes_sociais = driver.find_elements(By.TAG_NAME, 'span')\n",
    "\n",
    "\n",
    "for rs in redes_sociais:\n",
    "    valor = rs.text\n",
    "    print(valor)"
   ]
  },
  {
   "cell_type": "markdown",
   "id": "2aa2ccbf",
   "metadata": {},
   "source": [
    "concatenar buscas para registrar a area de busca "
   ]
  },
  {
   "cell_type": "code",
   "execution_count": null,
   "id": "a0b08333",
   "metadata": {
    "vscode": {
     "languageId": "plaintext"
    }
   },
   "outputs": [],
   "source": [
    "redes_sociais = driver. find_element(By.ID, 'social').find_elements(By.TAG_NAME, 'span')\n",
    "\n",
    "for rs in redes_sociais:\n",
    "    valor = rs. text\n",
    "    print(valor)"
   ]
  }
 ],
 "metadata": {
  "language_info": {
   "name": "python"
  }
 },
 "nbformat": 4,
 "nbformat_minor": 5
}
