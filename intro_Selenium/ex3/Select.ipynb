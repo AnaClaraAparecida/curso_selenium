{
 "cells": [
  {
   "cell_type": "markdown",
   "id": "187c8bb3",
   "metadata": {},
   "source": [
    "# aula_30 - Select: campos em dropdowns"
   ]
  },
  {
   "cell_type": "code",
   "execution_count": null,
   "id": "9d316416",
   "metadata": {
    "vscode": {
     "languageId": "plaintext"
    }
   },
   "outputs": [],
   "source": [
    "from selenium.webdriver.common.by import By\n",
    "from selenium import webdriver\n",
    "\n",
    "driver = webdriver.Chrome()\n",
    "driver.get(\"https://curso-web-scraping.pages.dev/#/esmplo/1\")"
   ]
  },
  {
   "cell_type": "code",
   "execution_count": null,
   "id": "9932cbed",
   "metadata": {
    "vscode": {
     "languageId": "plaintext"
    }
   },
   "outputs": [],
   "source": [
    "from selenium.webdriver.support.ui import Select"
   ]
  },
  {
   "cell_type": "code",
   "execution_count": null,
   "id": "261e892d",
   "metadata": {
    "vscode": {
     "languageId": "plaintext"
    }
   },
   "outputs": [],
   "source": [
    "select = Select(driver.find_element(By.NAME, 'regiao'))"
   ]
  },
  {
   "cell_type": "code",
   "execution_count": null,
   "id": "badacbf0",
   "metadata": {
    "vscode": {
     "languageId": "plaintext"
    }
   },
   "outputs": [],
   "source": [
    "for opt in select.options:\n",
    "    print(opt.get_attribute(\"value\"), opt.text)"
   ]
  },
  {
   "cell_type": "code",
   "execution_count": null,
   "id": "56bc07a0",
   "metadata": {
    "vscode": {
     "languageId": "plaintext"
    }
   },
   "outputs": [],
   "source": [
    "select.select_by_index(3)"
   ]
  },
  {
   "cell_type": "code",
   "execution_count": null,
   "id": "544e3367",
   "metadata": {
    "vscode": {
     "languageId": "plaintext"
    }
   },
   "outputs": [],
   "source": [
    "select.select_by_visible_text('Goiás')"
   ]
  },
  {
   "cell_type": "code",
   "execution_count": null,
   "id": "60bd0134",
   "metadata": {
    "vscode": {
     "languageId": "plaintext"
    }
   },
   "outputs": [],
   "source": [
    "select.first_selected_option.text"
   ]
  },
  {
   "cell_type": "markdown",
   "id": "4a3c631c",
   "metadata": {},
   "source": [
    "1. campos multiplos"
   ]
  },
  {
   "cell_type": "code",
   "execution_count": null,
   "id": "5aec6b63",
   "metadata": {
    "vscode": {
     "languageId": "plaintext"
    }
   },
   "outputs": [],
   "source": [
    "multi = Select(driver.find_element(By.CSS_SELECTOR, '#multi-select select'))"
   ]
  },
  {
   "cell_type": "code",
   "execution_count": null,
   "id": "7052b3da",
   "metadata": {
    "vscode": {
     "languageId": "plaintext"
    }
   },
   "outputs": [],
   "source": [
    "for opt in multi.options:\n",
    "    print(opt.get_attribute('value'), opt.text)"
   ]
  },
  {
   "cell_type": "code",
   "execution_count": null,
   "id": "23ae219b",
   "metadata": {
    "vscode": {
     "languageId": "plaintext"
    }
   },
   "outputs": [],
   "source": [
    "multi.select_by_index(1)"
   ]
  },
  {
   "cell_type": "code",
   "execution_count": null,
   "id": "11187b30",
   "metadata": {
    "vscode": {
     "languageId": "plaintext"
    }
   },
   "outputs": [],
   "source": [
    "multi.select_by_visible_text('Mato Grosso')"
   ]
  },
  {
   "cell_type": "code",
   "execution_count": null,
   "id": "81c9d248",
   "metadata": {
    "vscode": {
     "languageId": "plaintext"
    }
   },
   "outputs": [],
   "source": [
    "for aso in multi.all_selected_options:\n",
    "    print(aso.get_attribute('value'), aso.text)"
   ]
  },
  {
   "cell_type": "code",
   "execution_count": null,
   "id": "5aacee9c",
   "metadata": {
    "vscode": {
     "languageId": "plaintext"
    }
   },
   "outputs": [],
   "source": [
    "multi.deselect_by_index(3)"
   ]
  },
  {
   "cell_type": "code",
   "execution_count": null,
   "id": "a958a5af",
   "metadata": {
    "vscode": {
     "languageId": "plaintext"
    }
   },
   "outputs": [],
   "source": [
    "multi.deselect_by_value('2')"
   ]
  },
  {
   "cell_type": "code",
   "execution_count": null,
   "id": "1d79d360",
   "metadata": {
    "vscode": {
     "languageId": "plaintext"
    }
   },
   "outputs": [],
   "source": [
    "multi.deselect_by_visible_text('Goiás')"
   ]
  },
  {
   "cell_type": "code",
   "execution_count": null,
   "id": "45c5f25d",
   "metadata": {
    "vscode": {
     "languageId": "plaintext"
    }
   },
   "outputs": [],
   "source": [
    "multi.all_selected_options"
   ]
  },
  {
   "cell_type": "code",
   "execution_count": null,
   "id": "c3e51d2a",
   "metadata": {
    "vscode": {
     "languageId": "plaintext"
    }
   },
   "outputs": [],
   "source": [
    "for opt in multi.options:\n",
    "    multi.select_by_visible_text(opt.text)"
   ]
  },
  {
   "cell_type": "code",
   "execution_count": null,
   "id": "d3dbe585",
   "metadata": {
    "vscode": {
     "languageId": "plaintext"
    }
   },
   "outputs": [],
   "source": [
    "multi.deselect_all()"
   ]
  },
  {
   "cell_type": "markdown",
   "id": "dbf982ca",
   "metadata": {},
   "source": [
    "2.ex - selecionar dois elementos de cada Select"
   ]
  },
  {
   "cell_type": "code",
   "execution_count": null,
   "id": "397a5274",
   "metadata": {
    "vscode": {
     "languageId": "plaintext"
    }
   },
   "outputs": [],
   "source": [
    "all_selects = driver.find_elements(By.TAG_NAME, 'select')"
   ]
  },
  {
   "cell_type": "code",
   "execution_count": null,
   "id": "de9a563a",
   "metadata": {
    "vscode": {
     "languageId": "plaintext"
    }
   },
   "outputs": [],
   "source": [
    "for item in all_selects:\n",
    "    select = Select(item)\n",
    "    select.select_by_index(2)"
   ]
  }
 ],
 "metadata": {
  "language_info": {
   "name": "python"
  }
 },
 "nbformat": 4,
 "nbformat_minor": 5
}
