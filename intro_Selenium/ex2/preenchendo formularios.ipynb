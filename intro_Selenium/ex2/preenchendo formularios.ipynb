{
 "cells": [
  {
   "cell_type": "markdown",
   "id": "18c1213e",
   "metadata": {},
   "source": [
    "# aula_29 - preenchendo formularios"
   ]
  },
  {
   "cell_type": "code",
   "execution_count": null,
   "id": "c0cafda8",
   "metadata": {
    "vscode": {
     "languageId": "plaintext"
    }
   },
   "outputs": [],
   "source": [
    "from selenium.webdriver.common.by import By\n",
    "from selenium import webdriver\n",
    "\n",
    "driver = webdriver.Chrome()\n",
    "driver.get(\"https://curso-web-scraping.pages.dev/#/esmplo/1\")"
   ]
  },
  {
   "cell_type": "code",
   "execution_count": null,
   "id": "521f73c0",
   "metadata": {
    "vscode": {
     "languageId": "plaintext"
    }
   },
   "outputs": [],
   "source": [
    "email = driver.find_element(By.NAME, 'email')\n",
    "senha = driver.find_element(By.NAME, 'senha')\n",
    "enviar = driver.find_element(By.CSS_SELECTOR, 'button[type=\"submit\"]')"
   ]
  },
  {
   "cell_type": "code",
   "execution_count": null,
   "id": "5e9a362b",
   "metadata": {
    "vscode": {
     "languageId": "plaintext"
    }
   },
   "outputs": [],
   "source": [
    "email.send_keys('contato@anaclaraaparecida.com')"
   ]
  },
  {
   "cell_type": "code",
   "execution_count": null,
   "id": "9a816a66",
   "metadata": {
    "vscode": {
     "languageId": "plaintext"
    }
   },
   "outputs": [],
   "source": [
    "senha.send_keys('12345678')"
   ]
  },
  {
   "cell_type": "code",
   "execution_count": null,
   "id": "e09e298a",
   "metadata": {
    "vscode": {
     "languageId": "plaintext"
    }
   },
   "outputs": [],
   "source": [
    "enviar.click()"
   ]
  },
  {
   "cell_type": "code",
   "execution_count": null,
   "id": "fbdc64e5",
   "metadata": {
    "vscode": {
     "languageId": "plaintext"
    }
   },
   "outputs": [],
   "source": [
    "email.clear()\n",
    "senha.clear()\n",
    "\n",
    "email.send_keys('teste@anaclara.com')\n",
    "senha.send_keys('123')\n",
    "senha.submit()"
   ]
  },
  {
   "cell_type": "code",
   "execution_count": null,
   "id": "c44a1158",
   "metadata": {
    "vscode": {
     "languageId": "plaintext"
    }
   },
   "outputs": [],
   "source": [
    "from selenium.webdriver.common.keys import Keys"
   ]
  },
  {
   "cell_type": "code",
   "execution_count": null,
   "id": "58ce6148",
   "metadata": {
    "vscode": {
     "languageId": "plaintext"
    }
   },
   "outputs": [],
   "source": [
    "email.clear()\n",
    "senha.clear()\n",
    "\n",
    "email.send_keys('anaclar@gmail.com')\n",
    "senha.send_keys('jani1245')\n",
    "email.send_keys(Keys.ENTER)\n"
   ]
  }
 ],
 "metadata": {
  "language_info": {
   "name": "python"
  }
 },
 "nbformat": 4,
 "nbformat_minor": 5
}
