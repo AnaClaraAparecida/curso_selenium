{
 "cells": [
  {
   "cell_type": "markdown",
   "id": "3d1a508c",
   "metadata": {},
   "source": [
    "# aula_37/38 - Desafio e soluçao\n"
   ]
  },
  {
   "cell_type": "code",
   "execution_count": 3,
   "id": "6d5ef713",
   "metadata": {},
   "outputs": [],
   "source": [
    "from selenium.webdriver.common.by import By\n",
    "from selenium import webdriver\n",
    "from selenium.webdriver.support.ui import Select\n",
    "from selenium.webdriver.support.wait import WebDriverWait\n",
    "from selenium.webdriver.support import expected_conditions as EC\n",
    "\n",
    "\n",
    "driver = webdriver.Chrome()\n",
    "driver.get(\"https://curso-web-scraping.pages.dev/#/exemplo/5\")"
   ]
  },
  {
   "cell_type": "code",
   "execution_count": 20,
   "id": "e1c49fbf",
   "metadata": {},
   "outputs": [
    {
     "data": {
      "text/plain": [
       "['Dalton', 'Ana', 'Maria', 'João', 'Leonardo', 'Talita', 'Rafael']"
      ]
     },
     "execution_count": 20,
     "metadata": {},
     "output_type": "execute_result"
    }
   ],
   "source": [
    "usuarios = [\n",
    "    \"Dalton\",\n",
    "    \"Ana\",\n",
    "    \"Maria\",\n",
    "    \"João\",\n",
    "    \"Leonardo\",\n",
    "    \"Talita\",\n",
    "    \"Rafael\"\n",
    "]\n",
    "\n",
    "usuarios"
   ]
  },
  {
   "cell_type": "code",
   "execution_count": 21,
   "id": "9616352a",
   "metadata": {},
   "outputs": [],
   "source": [
    "driver.implicitly_wait(time_to_wait=10)"
   ]
  },
  {
   "cell_type": "code",
   "execution_count": 22,
   "id": "b95c4fcb",
   "metadata": {},
   "outputs": [],
   "source": [
    "inp = driver.find_element(By.CSS_SELECTOR, 'main input[type=\"text\"]')\n",
    "botao = driver.find_element(By.CSS_SELECTOR, 'main button')"
   ]
  },
  {
   "cell_type": "code",
   "execution_count": 23,
   "id": "baa64a3a",
   "metadata": {},
   "outputs": [
    {
     "data": {
      "text/plain": [
       "'Dalton'"
      ]
     },
     "execution_count": 23,
     "metadata": {},
     "output_type": "execute_result"
    }
   ],
   "source": [
    "usuario = usuarios[0]\n",
    "usuario"
   ]
  },
  {
   "cell_type": "code",
   "execution_count": 24,
   "id": "7c8ba13b",
   "metadata": {},
   "outputs": [],
   "source": [
    "inp.clear()\n",
    "inp.send_keys(usuario)"
   ]
  },
  {
   "cell_type": "code",
   "execution_count": 25,
   "id": "22683e20",
   "metadata": {},
   "outputs": [
    {
     "data": {
      "text/plain": [
       "<selenium.webdriver.remote.webelement.WebElement (session=\"746a17020b75918062a9d39c1579b434\", element=\"f.6E25BA66C956BC1E50FF3972E8AAE5BF.d.FB96B57C3554296B241EE5830D0923DD.e.35\")>"
      ]
     },
     "execution_count": 25,
     "metadata": {},
     "output_type": "execute_result"
    }
   ],
   "source": [
    "wait = WebDriverWait(driver=driver, timeout=5, poll_frequency=1)\n",
    "wait.until(EC.element_to_be_clickable(mark=botao))"
   ]
  },
  {
   "cell_type": "code",
   "execution_count": 26,
   "id": "40f8378d",
   "metadata": {},
   "outputs": [
    {
     "data": {
      "text/plain": [
       "[<selenium.webdriver.remote.webelement.WebElement (session=\"746a17020b75918062a9d39c1579b434\", element=\"f.6E25BA66C956BC1E50FF3972E8AAE5BF.d.FB96B57C3554296B241EE5830D0923DD.e.391\")>,\n",
       " <selenium.webdriver.remote.webelement.WebElement (session=\"746a17020b75918062a9d39c1579b434\", element=\"f.6E25BA66C956BC1E50FF3972E8AAE5BF.d.FB96B57C3554296B241EE5830D0923DD.e.392\")>,\n",
       " <selenium.webdriver.remote.webelement.WebElement (session=\"746a17020b75918062a9d39c1579b434\", element=\"f.6E25BA66C956BC1E50FF3972E8AAE5BF.d.FB96B57C3554296B241EE5830D0923DD.e.393\")>,\n",
       " <selenium.webdriver.remote.webelement.WebElement (session=\"746a17020b75918062a9d39c1579b434\", element=\"f.6E25BA66C956BC1E50FF3972E8AAE5BF.d.FB96B57C3554296B241EE5830D0923DD.e.394\")>,\n",
       " <selenium.webdriver.remote.webelement.WebElement (session=\"746a17020b75918062a9d39c1579b434\", element=\"f.6E25BA66C956BC1E50FF3972E8AAE5BF.d.FB96B57C3554296B241EE5830D0923DD.e.395\")>,\n",
       " <selenium.webdriver.remote.webelement.WebElement (session=\"746a17020b75918062a9d39c1579b434\", element=\"f.6E25BA66C956BC1E50FF3972E8AAE5BF.d.FB96B57C3554296B241EE5830D0923DD.e.396\")>,\n",
       " <selenium.webdriver.remote.webelement.WebElement (session=\"746a17020b75918062a9d39c1579b434\", element=\"f.6E25BA66C956BC1E50FF3972E8AAE5BF.d.FB96B57C3554296B241EE5830D0923DD.e.397\")>,\n",
       " <selenium.webdriver.remote.webelement.WebElement (session=\"746a17020b75918062a9d39c1579b434\", element=\"f.6E25BA66C956BC1E50FF3972E8AAE5BF.d.FB96B57C3554296B241EE5830D0923DD.e.398\")>,\n",
       " <selenium.webdriver.remote.webelement.WebElement (session=\"746a17020b75918062a9d39c1579b434\", element=\"f.6E25BA66C956BC1E50FF3972E8AAE5BF.d.FB96B57C3554296B241EE5830D0923DD.e.399\")>,\n",
       " <selenium.webdriver.remote.webelement.WebElement (session=\"746a17020b75918062a9d39c1579b434\", element=\"f.6E25BA66C956BC1E50FF3972E8AAE5BF.d.FB96B57C3554296B241EE5830D0923DD.e.400\")>]"
      ]
     },
     "execution_count": 26,
     "metadata": {},
     "output_type": "execute_result"
    }
   ],
   "source": [
    "users = driver.find_elements(By.CSS_SELECTOR, 'div.users-list > div')\n",
    "users"
   ]
  },
  {
   "cell_type": "code",
   "execution_count": 27,
   "id": "259ec215",
   "metadata": {},
   "outputs": [
    {
     "data": {
      "text/plain": [
       "<selenium.webdriver.remote.webelement.WebElement (session=\"746a17020b75918062a9d39c1579b434\", element=\"f.6E25BA66C956BC1E50FF3972E8AAE5BF.d.FB96B57C3554296B241EE5830D0923DD.e.391\")>"
      ]
     },
     "execution_count": 27,
     "metadata": {},
     "output_type": "execute_result"
    }
   ],
   "source": [
    "user = users[0]\n",
    "user"
   ]
  },
  {
   "cell_type": "code",
   "execution_count": 29,
   "id": "6f514433",
   "metadata": {},
   "outputs": [],
   "source": [
    "foto = user.find_element(By.TAG_NAME, 'img')\n",
    "nome = user.find_element(By.TAG_NAME, 'h3')\n",
    "profissao = user.find_element(By.TAG_NAME, 'span')\n",
    "email = user.find_element(By.CSS_SELECTOR, 'ul > li:nth-child(1)')\n",
    "telefone = user.find_element(By.CSS_SELECTOR, 'ul > li:nth-child(2)')\n",
    "perfil = user.find_element(By.CSS_SELECTOR, 'ul > li:nth-child(3)')\n",
    "estado = user.find_element(By.CSS_SELECTOR, 'ul > li:nth-child(4)')"
   ]
  },
  {
   "cell_type": "code",
   "execution_count": 30,
   "id": "395a26d9",
   "metadata": {},
   "outputs": [],
   "source": [
    "from dataclasses import dataclass\n",
    "\n",
    "@dataclass\n",
    "class Usuarios:\n",
    "    foto: str\n",
    "    nome: str\n",
    "    profissao: str\n",
    "    email:str\n",
    "    telefone: str\n",
    "    perfil: str\n",
    "    estado: str"
   ]
  },
  {
   "cell_type": "code",
   "execution_count": 39,
   "id": "b1f13fec",
   "metadata": {},
   "outputs": [],
   "source": [
    "dados_do_usuario = Usuarios(\n",
    "    foto = foto.get_attribute('src'),\n",
    "    nome = nome.text,\n",
    "    profissao = profissao.text,\n",
    "    email = email.text,\n",
    "    telefone = telefone.text[10:],\n",
    "    perfil = perfil.text[9:],\n",
    "    estado = estado.text[8:]\n",
    ")"
   ]
  },
  {
   "cell_type": "code",
   "execution_count": 40,
   "id": "9759d87e",
   "metadata": {},
   "outputs": [
    {
     "data": {
      "text/plain": [
       "'Associado'"
      ]
     },
     "execution_count": 40,
     "metadata": {},
     "output_type": "execute_result"
    }
   ],
   "source": [
    "dados_do_usuario.profissao"
   ]
  },
  {
   "cell_type": "markdown",
   "id": "6f4fe216",
   "metadata": {},
   "source": [
    "# automatizar e rodar "
   ]
  },
  {
   "cell_type": "code",
   "execution_count": 4,
   "id": "1bee62bf",
   "metadata": {},
   "outputs": [],
   "source": [
    "driver.refresh()"
   ]
  },
  {
   "cell_type": "code",
   "execution_count": 5,
   "id": "df02c3f7",
   "metadata": {},
   "outputs": [],
   "source": [
    "from dataclasses import dataclass\n",
    "\n",
    "@dataclass\n",
    "class Usuarios:\n",
    "    foto: str\n",
    "    nome: str\n",
    "    profissao: str\n",
    "    email:str\n",
    "    telefone: str\n",
    "    perfil: str\n",
    "    estado: str"
   ]
  },
  {
   "cell_type": "code",
   "execution_count": 6,
   "id": "45ad8041",
   "metadata": {},
   "outputs": [],
   "source": [
    "inp = driver.find_element(By.CSS_SELECTOR, 'main input[type=\"text\"]')\n",
    "botao = driver.find_element(By.CSS_SELECTOR, 'main button')"
   ]
  },
  {
   "cell_type": "code",
   "execution_count": 7,
   "id": "6ccc3939",
   "metadata": {},
   "outputs": [],
   "source": [
    "usuarios = [\n",
    "    \"Dalton\",\n",
    "    \"Ana\",\n",
    "    \"Maria\",\n",
    "    \"João\",\n",
    "    \"Leonardo\",\n",
    "    \"Talita\",\n",
    "    \"Rafael\"\n",
    "]"
   ]
  },
  {
   "cell_type": "code",
   "execution_count": 8,
   "id": "a97285e1",
   "metadata": {},
   "outputs": [],
   "source": [
    "data = []\n",
    "for usuario in usuarios:\n",
    "    # preenche as informaçoes para pesquisa\n",
    "    inp.clear()\n",
    "    inp.send_keys(usuario)\n",
    "    \n",
    "    # Aguardar o botao ser clicavel e fazer a busca\n",
    "    wait = WebDriverWait(driver=driver, timeout=15, poll_frequency=1)\n",
    "    wait.until(EC.element_to_be_clickable(mark=botao))\n",
    "    botao.click()\n",
    "\n",
    "    # Obtem todos os usuarios encontrados na busca \n",
    "    locator = (By.CSS_SELECTOR, 'div.users-list > div > img')\n",
    "    wait.until(EC.visibility_of_all_elements_located(locator=locator))\n",
    "    users = driver.find_elements(By.CSS_SELECTOR, 'div.users-list > div')\n",
    "\n",
    "    for user in users:\n",
    "        foto = user.find_element(By.TAG_NAME, 'img')\n",
    "        nome = user.find_element(By.TAG_NAME, 'h3')\n",
    "        profissao = user.find_element(By.TAG_NAME, 'span')\n",
    "        email = user.find_element(By.CSS_SELECTOR, 'ul > li:nth-child(1)')\n",
    "        telefone = user.find_element(By.CSS_SELECTOR, 'ul > li:nth-child(2)')\n",
    "        perfil = user.find_element(By.CSS_SELECTOR, 'ul > li:nth-child(3)')\n",
    "        estado = user.find_element(By.CSS_SELECTOR, 'ul > li:nth-child(4)')\n",
    "\n",
    "        dados_do_usuario = Usuarios(\n",
    "            foto = foto.get_attribute('src'),\n",
    "            nome = nome.text,\n",
    "            profissao = profissao.text,\n",
    "            email = email.text,\n",
    "            telefone = telefone.text[10:],\n",
    "            perfil = perfil.text[9:],\n",
    "            estado = estado.text[8:]\n",
    "        )\n",
    "\n",
    "        data.append(dados_do_usuario)"
   ]
  },
  {
   "cell_type": "code",
   "execution_count": 61,
   "id": "d6a47ff9",
   "metadata": {},
   "outputs": [
    {
     "data": {
      "text/plain": [
       "[Usuarios(foto='https://cloudflare-ipfs.com/ipfs/Qmd3W5DuhgHirLHGVixi6V76LhCkZUz6pnFt5AJBiyvHye/avatar/947.jpg', nome='Dalton Franco', profissao='Diretor', email='E-mail: dalton.franco67@example.net', telefone='+55 (58) 5449-2839', perfil='dalton.franco', estado='Rio Grande do Sul'),\n",
       " Usuarios(foto='https://avatars.githubusercontent.com/u/1540738', nome='Dalton Xavier', profissao='Executivo', email='E-mail: dalton_xavier58@example.org', telefone='(54) 1468-1522', perfil='dalton.xavier', estado='Bahia'),\n",
       " Usuarios(foto='https://cloudflare-ipfs.com/ipfs/Qmd3W5DuhgHirLHGVixi6V76LhCkZUz6pnFt5AJBiyvHye/avatar/597.jpg', nome='Dalton Macedo', profissao='Assistente', email='E-mail: dalton.macedo@example.net', telefone='(01) 68398-2897', perfil='dalton.macedo', estado='Rio de Janeiro'),\n",
       " Usuarios(foto='https://cloudflare-ipfs.com/ipfs/Qmd3W5DuhgHirLHGVixi6V76LhCkZUz6pnFt5AJBiyvHye/avatar/316.jpg', nome='Dalton Oliveira', profissao='Designer', email='E-mail: dalton.oliveira@example.net', telefone='(34) 1572-1793', perfil='dalton.oliveira91', estado='Alagoas'),\n",
       " Usuarios(foto='https://avatars.githubusercontent.com/u/33245058', nome='Dalton Souza', profissao='Gerente', email='E-mail: dalton.souza@example.net', telefone='(88) 4450-2561', perfil='dalton.souza16', estado='Rio Grande do Norte'),\n",
       " Usuarios(foto='https://cloudflare-ipfs.com/ipfs/Qmd3W5DuhgHirLHGVixi6V76LhCkZUz6pnFt5AJBiyvHye/avatar/970.jpg', nome='Dalton Braga', profissao='Coordenador', email='E-mail: dalton.braga@example.com', telefone='(03) 57425-4884', perfil='dalton_braga', estado='Bahia'),\n",
       " Usuarios(foto='https://cloudflare-ipfs.com/ipfs/Qmd3W5DuhgHirLHGVixi6V76LhCkZUz6pnFt5AJBiyvHye/avatar/922.jpg', nome='Dalton Braga', profissao='Executivo', email='E-mail: dalton_braga18@example.com', telefone='(96) 5633-2115', perfil='dalton_braga95', estado='Paraná'),\n",
       " Usuarios(foto='https://cloudflare-ipfs.com/ipfs/Qmd3W5DuhgHirLHGVixi6V76LhCkZUz6pnFt5AJBiyvHye/avatar/964.jpg', nome='Dalton Nogueira', profissao='Especialista', email='E-mail: dalton_nogueira34@example.com', telefone='(48) 37818-2709', perfil='dalton.nogueira36', estado='Mato Grosso do Sul'),\n",
       " Usuarios(foto='https://cloudflare-ipfs.com/ipfs/Qmd3W5DuhgHirLHGVixi6V76LhCkZUz6pnFt5AJBiyvHye/avatar/1193.jpg', nome='Dalton Martins', profissao='Assistente', email='E-mail: dalton.martins@example.net', telefone='(53) 3123-3257', perfil='dalton_martins', estado='Bahia'),\n",
       " Usuarios(foto='https://avatars.githubusercontent.com/u/98060010', nome='Srta. Dalton Nogueira', profissao='Especialista', email='E-mail: dalton.nogueira@example.net', telefone='(91) 89738-0672', perfil='dalton.nogueira', estado='Rio de Janeiro'),\n",
       " Usuarios(foto='https://cloudflare-ipfs.com/ipfs/Qmd3W5DuhgHirLHGVixi6V76LhCkZUz6pnFt5AJBiyvHye/avatar/364.jpg', nome='Ana Moraes', profissao='Administrador', email='E-mail: ana.moraes48@example.com', telefone='(91) 8185-9280', perfil='ana_moraes73', estado='Tocantins'),\n",
       " Usuarios(foto='https://avatars.githubusercontent.com/u/75877498', nome='Ana Franco', profissao='Técnico', email='E-mail: ana.franco14@example.org', telefone='+55 (43) 9911-4531', perfil='ana_franco', estado='Rondônia'),\n",
       " Usuarios(foto='https://cloudflare-ipfs.com/ipfs/Qmd3W5DuhgHirLHGVixi6V76LhCkZUz6pnFt5AJBiyvHye/avatar/130.jpg', nome='Ana Xavier', profissao='Planejador', email='E-mail: ana.xavier94@example.net', telefone='(72) 21411-1705', perfil='ana.xavier', estado='Amazonas'),\n",
       " Usuarios(foto='https://cloudflare-ipfs.com/ipfs/Qmd3W5DuhgHirLHGVixi6V76LhCkZUz6pnFt5AJBiyvHye/avatar/539.jpg', nome='Ana Macedo', profissao='Designer', email='E-mail: ana.macedo@example.net', telefone='(63) 2989-6712', perfil='ana.macedo', estado='Rio de Janeiro'),\n",
       " Usuarios(foto='https://cloudflare-ipfs.com/ipfs/Qmd3W5DuhgHirLHGVixi6V76LhCkZUz6pnFt5AJBiyvHye/avatar/75.jpg', nome='Ana Carvalho', profissao='Designer', email='E-mail: ana_carvalho74@example.org', telefone='+55 (20) 3322-6333', perfil='ana_carvalho', estado='Mato Grosso do Sul'),\n",
       " Usuarios(foto='https://avatars.githubusercontent.com/u/87388888', nome='Ana Reis', profissao='Assistente', email='E-mail: ana.reis2@example.org', telefone='(56) 2696-4167', perfil='ana.reis27', estado='Rio Grande do Norte'),\n",
       " Usuarios(foto='https://cloudflare-ipfs.com/ipfs/Qmd3W5DuhgHirLHGVixi6V76LhCkZUz6pnFt5AJBiyvHye/avatar/1096.jpg', nome='Ana Albuquerque', profissao='Orquestrador', email='E-mail: ana.albuquerque@example.com', telefone='(50) 4485-6423', perfil='ana.albuquerque', estado='Amazonas'),\n",
       " Usuarios(foto='https://avatars.githubusercontent.com/u/54578143', nome='Ana Pereira', profissao='Planejador', email='E-mail: ana_pereira@example.org', telefone='+55 (65) 3502-0375', perfil='ana.pereira', estado='Sergipe'),\n",
       " Usuarios(foto='https://cloudflare-ipfs.com/ipfs/Qmd3W5DuhgHirLHGVixi6V76LhCkZUz6pnFt5AJBiyvHye/avatar/838.jpg', nome='Ana Franco', profissao='Planejador', email='E-mail: ana.franco@example.com', telefone='+55 (82) 4307-7539', perfil='ana_franco', estado='Tocantins'),\n",
       " Usuarios(foto='https://cloudflare-ipfs.com/ipfs/Qmd3W5DuhgHirLHGVixi6V76LhCkZUz6pnFt5AJBiyvHye/avatar/1166.jpg', nome='Ana Barros', profissao='Consultor', email='E-mail: ana.barros38@example.net', telefone='(81) 3649-6289', perfil='ana_barros69', estado='Rondônia'),\n",
       " Usuarios(foto='https://cloudflare-ipfs.com/ipfs/Qmd3W5DuhgHirLHGVixi6V76LhCkZUz6pnFt5AJBiyvHye/avatar/892.jpg', nome='Maria Melo', profissao='Produtor', email='E-mail: maria_melo@example.org', telefone='+55 (72) 7702-4635', perfil='maria.melo59', estado='Mato Grosso'),\n",
       " Usuarios(foto='https://avatars.githubusercontent.com/u/7318968', nome='Maria Barros', profissao='Representante', email='E-mail: maria_barros33@example.net', telefone='+55 (18) 7749-0083', perfil='maria.barros20', estado='Mato Grosso do Sul'),\n",
       " Usuarios(foto='https://avatars.githubusercontent.com/u/13297992', nome='Maria Melo', profissao='Orquestrador', email='E-mail: maria_melo@example.com', telefone='(12) 0466-5021', perfil='maria_melo', estado='Goiás'),\n",
       " Usuarios(foto='https://avatars.githubusercontent.com/u/53937472', nome='Maria Costa', profissao='Assistente', email='E-mail: maria_costa73@example.com', telefone='+55 (14) 1515-2423', perfil='maria.costa38', estado='Sergipe'),\n",
       " Usuarios(foto='https://cloudflare-ipfs.com/ipfs/Qmd3W5DuhgHirLHGVixi6V76LhCkZUz6pnFt5AJBiyvHye/avatar/1018.jpg', nome='Maria Moraes', profissao='Gerente', email='E-mail: maria_moraes6@example.com', telefone='+55 (22) 5035-7994', perfil='maria_moraes', estado='Bahia'),\n",
       " Usuarios(foto='https://cloudflare-ipfs.com/ipfs/Qmd3W5DuhgHirLHGVixi6V76LhCkZUz6pnFt5AJBiyvHye/avatar/1108.jpg', nome='Maria Nogueira', profissao='Diretor', email='E-mail: maria.nogueira36@example.net', telefone='(71) 0672-7122', perfil='maria_nogueira', estado='Piauí'),\n",
       " Usuarios(foto='https://avatars.githubusercontent.com/u/92964528', nome='Maria Barros', profissao='Representante', email='E-mail: maria_barros@example.net', telefone='(85) 3107-7604', perfil='maria.barros', estado='Rio de Janeiro'),\n",
       " Usuarios(foto='https://avatars.githubusercontent.com/u/11225765', nome='Srta. Maria Saraiva', profissao='Gerente', email='E-mail: maria_saraiva@example.org', telefone='+55 (91) 5702-9076', perfil='maria.saraiva', estado='Mato Grosso'),\n",
       " Usuarios(foto='https://avatars.githubusercontent.com/u/71348768', nome='Maria Franco', profissao='Policial', email='E-mail: maria_franco8@example.org', telefone='+55 (30) 7338-9177', perfil='maria_franco34', estado='Goiás'),\n",
       " Usuarios(foto='https://cloudflare-ipfs.com/ipfs/Qmd3W5DuhgHirLHGVixi6V76LhCkZUz6pnFt5AJBiyvHye/avatar/10.jpg', nome='Maria Batista', profissao='Facilitador', email='E-mail: maria_batista73@example.net', telefone='(13) 98900-5896', perfil='maria.batista42', estado='Espírito Santo'),\n",
       " Usuarios(foto='https://cloudflare-ipfs.com/ipfs/Qmd3W5DuhgHirLHGVixi6V76LhCkZUz6pnFt5AJBiyvHye/avatar/264.jpg', nome='João Silva', profissao='Diretor', email='E-mail: joao_silva@example.org', telefone='+55 (40) 4127-9598', perfil='joao.silva', estado='Amapá'),\n",
       " Usuarios(foto='https://cloudflare-ipfs.com/ipfs/Qmd3W5DuhgHirLHGVixi6V76LhCkZUz6pnFt5AJBiyvHye/avatar/147.jpg', nome='João Pereira', profissao='Arquiteto', email='E-mail: joao_pereira@example.com', telefone='+55 (76) 7488-5137', perfil='joao_pereira9', estado='Espírito Santo'),\n",
       " Usuarios(foto='https://cloudflare-ipfs.com/ipfs/Qmd3W5DuhgHirLHGVixi6V76LhCkZUz6pnFt5AJBiyvHye/avatar/965.jpg', nome='Sra. João Silva', profissao='Produtor', email='E-mail: joao_silva@example.org', telefone='(86) 5101-1614', perfil='joao_silva', estado='Goiás'),\n",
       " Usuarios(foto='https://cloudflare-ipfs.com/ipfs/Qmd3W5DuhgHirLHGVixi6V76LhCkZUz6pnFt5AJBiyvHye/avatar/594.jpg', nome='João Batista', profissao='Administrador', email='E-mail: joao.batista@example.org', telefone='+55 (25) 5187-9479', perfil='joao_batista68', estado='Rio de Janeiro'),\n",
       " Usuarios(foto='https://avatars.githubusercontent.com/u/21338835', nome='João Barros', profissao='Planejador', email='E-mail: joao_barros@example.net', telefone='(67) 08556-9295', perfil='joao_barros77', estado='Sergipe'),\n",
       " Usuarios(foto='https://cloudflare-ipfs.com/ipfs/Qmd3W5DuhgHirLHGVixi6V76LhCkZUz6pnFt5AJBiyvHye/avatar/1144.jpg', nome='João Pereira', profissao='Policial', email='E-mail: joao.pereira9@example.com', telefone='(40) 19688-0711', perfil='joao_pereira', estado='Mato Grosso do Sul'),\n",
       " Usuarios(foto='https://avatars.githubusercontent.com/u/34116273', nome='João Macedo', profissao='Gerente', email='E-mail: joao.macedo46@example.net', telefone='(44) 0615-3298', perfil='joao.macedo', estado='Mato Grosso'),\n",
       " Usuarios(foto='https://avatars.githubusercontent.com/u/98402395', nome='João Moraes', profissao='Executivo', email='E-mail: joao.moraes75@example.org', telefone='(22) 84743-9209', perfil='joao_moraes52', estado='Mato Grosso do Sul'),\n",
       " Usuarios(foto='https://cloudflare-ipfs.com/ipfs/Qmd3W5DuhgHirLHGVixi6V76LhCkZUz6pnFt5AJBiyvHye/avatar/819.jpg', nome='João Barros', profissao='Diretor', email='E-mail: joao_barros@example.net', telefone='(40) 2913-8419', perfil='joao_barros10', estado='Paraíba'),\n",
       " Usuarios(foto='https://cloudflare-ipfs.com/ipfs/Qmd3W5DuhgHirLHGVixi6V76LhCkZUz6pnFt5AJBiyvHye/avatar/389.jpg', nome='João Pereira', profissao='Diretor', email='E-mail: joao.pereira@example.net', telefone='(24) 4284-1208', perfil='joao.pereira30', estado='Tocantins'),\n",
       " Usuarios(foto='https://cloudflare-ipfs.com/ipfs/Qmd3W5DuhgHirLHGVixi6V76LhCkZUz6pnFt5AJBiyvHye/avatar/1066.jpg', nome='Leonardo Costa', profissao='Analista', email='E-mail: leonardo_costa26@example.com', telefone='(46) 76489-0945', perfil='leonardo.costa', estado='Pará'),\n",
       " Usuarios(foto='https://cloudflare-ipfs.com/ipfs/Qmd3W5DuhgHirLHGVixi6V76LhCkZUz6pnFt5AJBiyvHye/avatar/864.jpg', nome='Leonardo Melo', profissao='Estrategista', email='E-mail: leonardo_melo@example.com', telefone='(74) 94364-2392', perfil='leonardo.melo79', estado='Sergipe'),\n",
       " Usuarios(foto='https://cloudflare-ipfs.com/ipfs/Qmd3W5DuhgHirLHGVixi6V76LhCkZUz6pnFt5AJBiyvHye/avatar/900.jpg', nome='Leonardo Macedo', profissao='Representante', email='E-mail: leonardo.macedo@example.com', telefone='(89) 3883-3605', perfil='leonardo_macedo', estado='Maranhão'),\n",
       " Usuarios(foto='https://avatars.githubusercontent.com/u/87215005', nome='Leonardo Macedo', profissao='Supervisor', email='E-mail: leonardo_macedo@example.net', telefone='(71) 6344-1128', perfil='leonardo_macedo38', estado='Espírito Santo'),\n",
       " Usuarios(foto='https://cloudflare-ipfs.com/ipfs/Qmd3W5DuhgHirLHGVixi6V76LhCkZUz6pnFt5AJBiyvHye/avatar/691.jpg', nome='Leonardo Silva', profissao='Analista', email='E-mail: leonardo.silva@example.net', telefone='(03) 59224-4807', perfil='leonardo_silva99', estado='Maranhão'),\n",
       " Usuarios(foto='https://avatars.githubusercontent.com/u/95119288', nome='Leonardo Melo', profissao='Consultor', email='E-mail: leonardo_melo@example.com', telefone='(29) 6153-4978', perfil='leonardo_melo', estado='Pará'),\n",
       " Usuarios(foto='https://cloudflare-ipfs.com/ipfs/Qmd3W5DuhgHirLHGVixi6V76LhCkZUz6pnFt5AJBiyvHye/avatar/82.jpg', nome='Leonardo Costa', profissao='Produtor', email='E-mail: leonardo_costa10@example.com', telefone='(17) 1546-3659', perfil='leonardo_costa69', estado='Tocantins'),\n",
       " Usuarios(foto='https://avatars.githubusercontent.com/u/50891040', nome='Leonardo Macedo Jr.', profissao='Orquestrador', email='E-mail: leonardo_macedo23@example.com', telefone='(59) 4154-2147', perfil='leonardo_macedo', estado='Distrito Federal'),\n",
       " Usuarios(foto='https://cloudflare-ipfs.com/ipfs/Qmd3W5DuhgHirLHGVixi6V76LhCkZUz6pnFt5AJBiyvHye/avatar/369.jpg', nome='Leonardo Albuquerque', profissao='Técnico', email='E-mail: leonardo.albuquerque15@example.net', telefone='(39) 9287-8083', perfil='leonardo_albuquerque58', estado='Santa Catarina'),\n",
       " Usuarios(foto='https://avatars.githubusercontent.com/u/23578798', nome='Leonardo Macedo', profissao='Gerente', email='E-mail: leonardo_macedo@example.com', telefone='(66) 1519-9099', perfil='leonardo.macedo', estado='Acre'),\n",
       " Usuarios(foto='https://cloudflare-ipfs.com/ipfs/Qmd3W5DuhgHirLHGVixi6V76LhCkZUz6pnFt5AJBiyvHye/avatar/1164.jpg', nome='Talita Souza', profissao='Assistente', email='E-mail: talita.souza11@example.com', telefone='+55 (95) 5392-8542', perfil='talita_souza61', estado='Pará'),\n",
       " Usuarios(foto='https://avatars.githubusercontent.com/u/41677889', nome='Talita Martins', profissao='Estrategista', email='E-mail: talita_martins29@example.net', telefone='(46) 19448-0371', perfil='talita.martins53', estado='Mato Grosso'),\n",
       " Usuarios(foto='https://cloudflare-ipfs.com/ipfs/Qmd3W5DuhgHirLHGVixi6V76LhCkZUz6pnFt5AJBiyvHye/avatar/628.jpg', nome='Talita Melo', profissao='Engenheiro', email='E-mail: talita_melo21@example.net', telefone='(71) 76603-6210', perfil='talita.melo47', estado='Distrito Federal'),\n",
       " Usuarios(foto='https://cloudflare-ipfs.com/ipfs/Qmd3W5DuhgHirLHGVixi6V76LhCkZUz6pnFt5AJBiyvHye/avatar/732.jpg', nome='Talita Batista', profissao='Arquiteto', email='E-mail: talita_batista1@example.com', telefone='(14) 6464-7387', perfil='talita_batista70', estado='Amapá'),\n",
       " Usuarios(foto='https://avatars.githubusercontent.com/u/57500350', nome='Srta. Talita Franco', profissao='Supervisor', email='E-mail: talita_franco@example.org', telefone='+55 (36) 2514-7373', perfil='talita.franco7', estado='Bahia'),\n",
       " Usuarios(foto='https://cloudflare-ipfs.com/ipfs/Qmd3W5DuhgHirLHGVixi6V76LhCkZUz6pnFt5AJBiyvHye/avatar/873.jpg', nome='Talita Saraiva', profissao='Diretor', email='E-mail: talita_saraiva36@example.org', telefone='(85) 5856-6396', perfil='talita.saraiva', estado='Rio de Janeiro'),\n",
       " Usuarios(foto='https://cloudflare-ipfs.com/ipfs/Qmd3W5DuhgHirLHGVixi6V76LhCkZUz6pnFt5AJBiyvHye/avatar/522.jpg', nome='Talita Batista', profissao='Arquiteto', email='E-mail: talita_batista79@example.com', telefone='+55 (32) 1910-9424', perfil='talita_batista75', estado='Sergipe'),\n",
       " Usuarios(foto='https://avatars.githubusercontent.com/u/23800468', nome='Talita Braga', profissao='Produtor', email='E-mail: talita.braga@example.org', telefone='(94) 12033-0787', perfil='talita_braga', estado='Minas Gerais'),\n",
       " Usuarios(foto='https://cloudflare-ipfs.com/ipfs/Qmd3W5DuhgHirLHGVixi6V76LhCkZUz6pnFt5AJBiyvHye/avatar/253.jpg', nome='Talita Martins', profissao='Representante', email='E-mail: talita.martins77@example.net', telefone='+55 (63) 5126-5577', perfil='talita_martins', estado='Roraima'),\n",
       " Usuarios(foto='https://cloudflare-ipfs.com/ipfs/Qmd3W5DuhgHirLHGVixi6V76LhCkZUz6pnFt5AJBiyvHye/avatar/490.jpg', nome='Talita Oliveira', profissao='Consultor', email='E-mail: talita.oliveira@example.com', telefone='(26) 3487-0596', perfil='talita_oliveira22', estado='Rondônia'),\n",
       " Usuarios(foto='https://avatars.githubusercontent.com/u/35073160', nome='Rafael Braga', profissao='Gerente', email='E-mail: rafael.braga28@example.com', telefone='(76) 1487-6635', perfil='rafael_braga', estado='Pará'),\n",
       " Usuarios(foto='https://avatars.githubusercontent.com/u/99120533', nome='Rafael Souza', profissao='Agente', email='E-mail: rafael_souza97@example.org', telefone='(34) 05814-3879', perfil='rafael.souza', estado='Ceará'),\n",
       " Usuarios(foto='https://avatars.githubusercontent.com/u/18692742', nome='Rafael Moreira', profissao='Engenheiro', email='E-mail: rafael_moreira45@example.com', telefone='+55 (64) 4197-8141', perfil='rafael_moreira60', estado='Rio Grande do Sul'),\n",
       " Usuarios(foto='https://avatars.githubusercontent.com/u/82570263', nome='Rafael Braga', profissao='Planejador', email='E-mail: rafael_braga@example.com', telefone='+55 (64) 6476-0859', perfil='rafael.braga', estado='Mato Grosso do Sul'),\n",
       " Usuarios(foto='https://cloudflare-ipfs.com/ipfs/Qmd3W5DuhgHirLHGVixi6V76LhCkZUz6pnFt5AJBiyvHye/avatar/1131.jpg', nome='Rafael Martins', profissao='Desenvolvedor', email='E-mail: rafael_martins45@example.com', telefone='(14) 9186-2117', perfil='rafael.martins40', estado='Santa Catarina'),\n",
       " Usuarios(foto='https://cloudflare-ipfs.com/ipfs/Qmd3W5DuhgHirLHGVixi6V76LhCkZUz6pnFt5AJBiyvHye/avatar/696.jpg', nome='Rafael Batista', profissao='Planejador', email='E-mail: rafael_batista18@example.com', telefone='(01) 7024-3735', perfil='rafael_batista89', estado='Maranhão'),\n",
       " Usuarios(foto='https://cloudflare-ipfs.com/ipfs/Qmd3W5DuhgHirLHGVixi6V76LhCkZUz6pnFt5AJBiyvHye/avatar/778.jpg', nome='Rafael Oliveira', profissao='Estrategista', email='E-mail: rafael_oliveira70@example.org', telefone='(74) 2485-8195', perfil='rafael.oliveira11', estado='Espírito Santo'),\n",
       " Usuarios(foto='https://cloudflare-ipfs.com/ipfs/Qmd3W5DuhgHirLHGVixi6V76LhCkZUz6pnFt5AJBiyvHye/avatar/147.jpg', nome='Rafael Melo', profissao='Desenvolvedor', email='E-mail: rafael_melo33@example.org', telefone='(01) 28615-5882', perfil='rafael.melo', estado='Minas Gerais'),\n",
       " Usuarios(foto='https://cloudflare-ipfs.com/ipfs/Qmd3W5DuhgHirLHGVixi6V76LhCkZUz6pnFt5AJBiyvHye/avatar/699.jpg', nome='Rafael Melo', profissao='Desenvolvedor', email='E-mail: rafael.melo@example.org', telefone='(66) 00534-6230', perfil='rafael.melo96', estado='Distrito Federal'),\n",
       " Usuarios(foto='https://avatars.githubusercontent.com/u/69144633', nome='Rafael Nogueira', profissao='Técnico', email='E-mail: rafael.nogueira30@example.com', telefone='(34) 6637-1089', perfil='rafael.nogueira59', estado='Paraíba')]"
      ]
     },
     "execution_count": 61,
     "metadata": {},
     "output_type": "execute_result"
    }
   ],
   "source": [
    "data"
   ]
  },
  {
   "cell_type": "code",
   "execution_count": 9,
   "id": "c10cb446",
   "metadata": {},
   "outputs": [],
   "source": [
    "from dataclasses import asdict"
   ]
  },
  {
   "cell_type": "code",
   "execution_count": 10,
   "id": "b9596239",
   "metadata": {},
   "outputs": [
    {
     "data": {
      "text/plain": [
       "{'foto': 'https://avatars.githubusercontent.com/u/44112139',\n",
       " 'nome': 'Dalton Barros',\n",
       " 'profissao': 'Estrategista',\n",
       " 'email': 'E-mail: dalton_barros@example.net',\n",
       " 'telefone': '+55 (87) 6399-0545',\n",
       " 'perfil': 'dalton.barros',\n",
       " 'estado': 'Acre'}"
      ]
     },
     "execution_count": 10,
     "metadata": {},
     "output_type": "execute_result"
    }
   ],
   "source": [
    "asdict(data[0])"
   ]
  },
  {
   "cell_type": "markdown",
   "id": "c7f28538",
   "metadata": {},
   "source": [
    "# Salvando em JSON"
   ]
  },
  {
   "cell_type": "code",
   "execution_count": 69,
   "id": "0ff0939f",
   "metadata": {},
   "outputs": [],
   "source": [
    "import json\n",
    "\n",
    "with open('dados_capturados.json', 'w') as file:\n",
    "    data_formatted = [asdict(d) for d in data]\n",
    "    json.dump(data_formatted, file, ensure_ascii=False)"
   ]
  },
  {
   "cell_type": "markdown",
   "id": "cad762e0",
   "metadata": {},
   "source": [
    "# Salvando no CSV"
   ]
  },
  {
   "cell_type": "code",
   "execution_count": 12,
   "id": "bed0698c",
   "metadata": {},
   "outputs": [],
   "source": [
    "import csv\n",
    "from dataclasses import fields"
   ]
  },
  {
   "cell_type": "code",
   "execution_count": 19,
   "id": "8dc92f38",
   "metadata": {},
   "outputs": [],
   "source": [
    "with open('dados_capturados.csv', 'w') as csvfile:\n",
    "    headers = [field.name for field in fields(Usuarios)]\n",
    "    file = csv.DictWriter(csvfile, fieldnames=headers)\n",
    "\n",
    "    file.writeheader()\n",
    "\n",
    "    data_formatted = [asdict(d) for d in data]\n",
    "    file.writerows(data_formatted)"
   ]
  },
  {
   "cell_type": "code",
   "execution_count": 16,
   "id": "d400d3f6",
   "metadata": {},
   "outputs": [
    {
     "data": {
      "text/plain": [
       "(Field(name='foto',type=<class 'str'>,default=<dataclasses._MISSING_TYPE object at 0x000002224B861D30>,default_factory=<dataclasses._MISSING_TYPE object at 0x000002224B861D30>,init=True,repr=True,hash=None,compare=True,metadata=mappingproxy({}),kw_only=False,_field_type=_FIELD),\n",
       " Field(name='nome',type=<class 'str'>,default=<dataclasses._MISSING_TYPE object at 0x000002224B861D30>,default_factory=<dataclasses._MISSING_TYPE object at 0x000002224B861D30>,init=True,repr=True,hash=None,compare=True,metadata=mappingproxy({}),kw_only=False,_field_type=_FIELD),\n",
       " Field(name='profissao',type=<class 'str'>,default=<dataclasses._MISSING_TYPE object at 0x000002224B861D30>,default_factory=<dataclasses._MISSING_TYPE object at 0x000002224B861D30>,init=True,repr=True,hash=None,compare=True,metadata=mappingproxy({}),kw_only=False,_field_type=_FIELD),\n",
       " Field(name='email',type=<class 'str'>,default=<dataclasses._MISSING_TYPE object at 0x000002224B861D30>,default_factory=<dataclasses._MISSING_TYPE object at 0x000002224B861D30>,init=True,repr=True,hash=None,compare=True,metadata=mappingproxy({}),kw_only=False,_field_type=_FIELD),\n",
       " Field(name='telefone',type=<class 'str'>,default=<dataclasses._MISSING_TYPE object at 0x000002224B861D30>,default_factory=<dataclasses._MISSING_TYPE object at 0x000002224B861D30>,init=True,repr=True,hash=None,compare=True,metadata=mappingproxy({}),kw_only=False,_field_type=_FIELD),\n",
       " Field(name='perfil',type=<class 'str'>,default=<dataclasses._MISSING_TYPE object at 0x000002224B861D30>,default_factory=<dataclasses._MISSING_TYPE object at 0x000002224B861D30>,init=True,repr=True,hash=None,compare=True,metadata=mappingproxy({}),kw_only=False,_field_type=_FIELD),\n",
       " Field(name='estado',type=<class 'str'>,default=<dataclasses._MISSING_TYPE object at 0x000002224B861D30>,default_factory=<dataclasses._MISSING_TYPE object at 0x000002224B861D30>,init=True,repr=True,hash=None,compare=True,metadata=mappingproxy({}),kw_only=False,_field_type=_FIELD))"
      ]
     },
     "execution_count": 16,
     "metadata": {},
     "output_type": "execute_result"
    }
   ],
   "source": [
    "fields(Usuarios)"
   ]
  }
 ],
 "metadata": {
  "kernelspec": {
   "display_name": "venv",
   "language": "python",
   "name": "python3"
  },
  "language_info": {
   "codemirror_mode": {
    "name": "ipython",
    "version": 3
   },
   "file_extension": ".py",
   "mimetype": "text/x-python",
   "name": "python",
   "nbconvert_exporter": "python",
   "pygments_lexer": "ipython3",
   "version": "3.13.5"
  }
 },
 "nbformat": 4,
 "nbformat_minor": 5
}
