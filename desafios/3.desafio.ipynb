{
 "cells": [
  {
   "cell_type": "markdown",
   "id": "3eb03020",
   "metadata": {},
   "source": [
    "# aula_45/46 - Desafio e Soluçao"
   ]
  },
  {
   "cell_type": "code",
   "execution_count": 36,
   "id": "8b760134",
   "metadata": {},
   "outputs": [],
   "source": [
    "from selenium.webdriver.common.by import By\n",
    "from selenium import webdriver\n",
    "from selenium.webdriver.support.ui import Select\n",
    "from selenium.webdriver.support.wait import WebDriverWait\n",
    "from selenium.webdriver.support import expected_conditions as EC\n",
    "\n",
    "\n",
    "driver = webdriver.Chrome()\n",
    "driver.get(\"https://curso-web-scraping.pages.dev/#/exemplo/7\")\n",
    "\n",
    "driver.implicitly_wait(time_to_wait=10)"
   ]
  },
  {
   "cell_type": "code",
   "execution_count": 4,
   "id": "b4a75d3e",
   "metadata": {},
   "outputs": [],
   "source": [
    "driver.switch_to.new_window('tab')"
   ]
  },
  {
   "cell_type": "code",
   "execution_count": 12,
   "id": "dbd86964",
   "metadata": {},
   "outputs": [],
   "source": [
    "driver.get(\"https://curso-web-scraping.pages.dev/#/desafio/3\")"
   ]
  },
  {
   "cell_type": "code",
   "execution_count": 6,
   "id": "e14660ec",
   "metadata": {},
   "outputs": [],
   "source": [
    "windows ={\n",
    "    'busca': driver.window_handles[0], \n",
    "    'cadastro': driver.window_handles[1], \n",
    "}"
   ]
  },
  {
   "cell_type": "code",
   "execution_count": 10,
   "id": "9130924d",
   "metadata": {},
   "outputs": [],
   "source": [
    "driver.switch_to.window(windows['cadastro'])"
   ]
  },
  {
   "cell_type": "code",
   "execution_count": 13,
   "id": "c99d3d80",
   "metadata": {},
   "outputs": [
    {
     "data": {
      "text/plain": [
       "'Dalton'"
      ]
     },
     "execution_count": 13,
     "metadata": {},
     "output_type": "execute_result"
    }
   ],
   "source": [
    "usuario_busca = driver.find_element(By.ID, 'usuario').text\n",
    "usuario_busca"
   ]
  },
  {
   "cell_type": "code",
   "execution_count": 14,
   "id": "bba3f5c4",
   "metadata": {},
   "outputs": [],
   "source": [
    "driver.switch_to.window(window_name=windows['busca'])"
   ]
  },
  {
   "cell_type": "code",
   "execution_count": 15,
   "id": "2737f1b2",
   "metadata": {},
   "outputs": [],
   "source": [
    "from dataclasses import dataclass\n",
    "\n",
    "@dataclass\n",
    "class Usuarios:\n",
    "    foto: str\n",
    "    nome: str\n",
    "    profissao: str\n",
    "    email: str\n",
    "    telefone: str \n",
    "    perfil: str\n",
    "    estado: str"
   ]
  },
  {
   "cell_type": "code",
   "execution_count": 19,
   "id": "3bd16758",
   "metadata": {},
   "outputs": [],
   "source": [
    "data = []\n",
    "# preenche as informaçoes para pesquisa\n",
    "inp = driver.find_element(By.CSS_SELECTOR, 'main input')\n",
    "inp.clear()\n",
    "inp.send_keys(usuario_busca)\n",
    "                    \n",
    "# Aguardar o botao ser clicavel e fazer a busca\n",
    "botao = driver.find_element(By.CSS_SELECTOR, 'main button')\n",
    "wait = WebDriverWait(driver=driver, timeout=15, poll_frequency=1)\n",
    "wait.until(EC.element_to_be_clickable(mark=botao))\n",
    "botao.click()\n",
    "\n",
    "# Obtem todos os usuarios encontrados na busca \n",
    "wait.until(EC.visibility_of_all_elements_located((By.CSS_SELECTOR, 'div.users-list > div')))\n",
    "users = driver.find_elements(By.CSS_SELECTOR, 'div.users-list > div')\n",
    "\n",
    "# Obtem os dados de cada usuario\n",
    "for user in users:\n",
    "    # Aguarde a imagem ser carregada completamente \n",
    "    foto = user.find_element(By.TAG_NAME, 'img')\n",
    "    nome = user.find_element(By.TAG_NAME, 'h3')\n",
    "    profissao = user.find_element(By.TAG_NAME, 'span')\n",
    "    email = user.find_element(By.CSS_SELECTOR, 'ul > li:nth-child(1)')\n",
    "    telefone = user.find_element(By.CSS_SELECTOR, 'ul > li:nth-child(2)')\n",
    "    perfil = user.find_element(By.CSS_SELECTOR, 'ul > li:nth-child(3)')\n",
    "    estado = user.find_element(By.CSS_SELECTOR, 'ul > li:nth-child(4)')\n",
    "\n",
    "    dados_do_usuario = Usuarios(\n",
    "        foto = foto.get_attribute('src'),\n",
    "        nome = nome.text,\n",
    "        profissao = profissao.text,\n",
    "        email = email.text,\n",
    "        telefone = telefone.text[10:],\n",
    "        perfil = perfil.text[9:],\n",
    "        estado = estado.text[8:]\n",
    "    )\n",
    "\n",
    "    data.append(dados_do_usuario)\n",
    "\n",
    "                "
   ]
  },
  {
   "cell_type": "code",
   "execution_count": 20,
   "id": "a3008fdc",
   "metadata": {},
   "outputs": [],
   "source": [
    "driver.switch_to.window(window_name=windows['cadastro'])"
   ]
  },
  {
   "cell_type": "code",
   "execution_count": 23,
   "id": "e5fc8611",
   "metadata": {},
   "outputs": [],
   "source": [
    "from selenium.webdriver.support.ui import Select"
   ]
  },
  {
   "cell_type": "code",
   "execution_count": 26,
   "id": "d9b2ef40",
   "metadata": {},
   "outputs": [],
   "source": [
    "nome_cadastro = driver.find_element(By.NAME, 'nome')\n",
    "profissao_cadastro = driver.find_element(By.NAME, 'profissao')\n",
    "email_cadastro = driver.find_element(By.NAME, 'email')\n",
    "telefone_cadastro = driver.find_element(By.NAME, 'telefone')\n",
    "perfil_cadastro = driver.find_element(By.NAME, 'usuario')\n",
    "estado_cadastro = Select(driver.find_element(By.NAME, 'estado'))"
   ]
  },
  {
   "cell_type": "code",
   "execution_count": 27,
   "id": "f3efbe2f",
   "metadata": {},
   "outputs": [],
   "source": [
    "dt = data[0]"
   ]
  },
  {
   "cell_type": "code",
   "execution_count": null,
   "id": "dbc113e8",
   "metadata": {},
   "outputs": [],
   "source": [
    "nome_cadastro.clear()\n",
    "profissao_cadastro.clear()\n",
    "email_cadastro.clear()\n",
    "telefone_cadastro.clear()\n",
    "perfil_cadastro.clear()\n",
    "\n",
    "nome_cadastro.send_keys(dt.nome)\n",
    "profissao_cadastro.send_keys(dt.profissao)\n",
    "email_cadastro.send_keys(dt.email)\n",
    "telefone_cadastro.send_keys(dt.telefone)\n",
    "perfil_cadastro.send_keys(dt.perfil)\n",
    "estado_cadastro.select_by_visible_text(dt.estado)"
   ]
  },
  {
   "cell_type": "code",
   "execution_count": 32,
   "id": "794a5e0f",
   "metadata": {},
   "outputs": [],
   "source": [
    "nome_cadastro.submit()"
   ]
  },
  {
   "cell_type": "markdown",
   "id": "b635d21d",
   "metadata": {},
   "source": [
    "~~ Automatizando"
   ]
  },
  {
   "cell_type": "code",
   "execution_count": 37,
   "id": "1190dedc",
   "metadata": {},
   "outputs": [],
   "source": [
    "from dataclasses import dataclass\n",
    "\n",
    "@dataclass\n",
    "class Usuarios:\n",
    "    foto: str\n",
    "    nome: str\n",
    "    profissao: str\n",
    "    email: str\n",
    "    telefone: str \n",
    "    perfil: str\n",
    "    estado: str"
   ]
  },
  {
   "cell_type": "code",
   "execution_count": 38,
   "id": "78206737",
   "metadata": {},
   "outputs": [],
   "source": [
    "driver.switch_to.window(driver.window_handles[0])\n",
    "# driver = driver.Chrome()"
   ]
  },
  {
   "cell_type": "code",
   "execution_count": 39,
   "id": "21d57508",
   "metadata": {},
   "outputs": [],
   "source": [
    "driver.get(\"https://curso-web-scraping.pages.dev/#/desafio/2\")\n",
    "driver.implicitly_wait(time_to_wait=10)\n",
    "\n",
    "driver.switch_to.new_window('tab')\n",
    "driver.get(\"https://curso-web-scraping.pages.dev/#/desafio/3\")\n",
    "windows ={\n",
    "    'busca': driver.window_handles[0], \n",
    "    'cadastro': driver.window_handles[1], \n",
    "}\n",
    "\n"
   ]
  },
  {
   "cell_type": "code",
   "execution_count": null,
   "id": "0a9f5f5e",
   "metadata": {},
   "outputs": [
    {
     "ename": "",
     "evalue": "",
     "output_type": "error",
     "traceback": [
      "\u001b[1;31mO Kernel deu pane ao executar o código na célula atual ou em uma célula anterior. \n",
      "\u001b[1;31mAnalise o código nas células para identificar uma possível causa da pane. \n",
      "\u001b[1;31mClique <a href='https://aka.ms/vscodeJupyterKernelCrash'>aqui</a> para obter mais informações. \n",
      "\u001b[1;31mConsulte Jupyter <a href='command:jupyter.viewOutput'>log</a> para obter mais detalhes."
     ]
    }
   ],
   "source": [
    "while True:\n",
    "    # Garante que estamos na tela de cadastro\n",
    "    driver.switch_to.window(windows['cadastro'])\n",
    "\n",
    "    try:\n",
    "        # Obter o usuario a ser cadstrado \n",
    "        usuario_busca = driver.find_element(By.ID, 'usuario').text\n",
    "    except:\n",
    "        # Interronper a execuçao qunado nao houver mais usuarios \n",
    "        break\n",
    "\n",
    "    # ir para a aba com os dados de busca \n",
    "    driver.switch_to.window(window_name=windows['busca'])\n",
    "\n",
    "\n",
    "    # Pesquisar e obter os dados do usuario buscado\n",
    "    data = []\n",
    "\n",
    "    # preenche as informaçoes para pesquisa\n",
    "    inp = driver.find_element(By.CSS_SELECTOR, 'main input')\n",
    "    inp.clear()\n",
    "    inp.send_keys(usuario_busca)\n",
    "                        \n",
    "    # Aguardar o botao ser clicavel e fazer a busca\n",
    "    botao = driver.find_element(By.CSS_SELECTOR, 'main button')\n",
    "    wait = WebDriverWait(driver=driver, timeout=15, poll_frequency=1)\n",
    "    wait.until(EC.element_to_be_clickable(mark=botao))\n",
    "    botao.click()\n",
    "\n",
    "    # Obtem todos os usuarios encontrados na busca \n",
    "    wait.until(EC.visibility_of_all_elements_located((By.CSS_SELECTOR, 'div.users-list > div')))\n",
    "    users = driver.find_elements(By.CSS_SELECTOR, 'div.users-list > div')\n",
    "\n",
    "    # Obtem os dados de cada usuario\n",
    "    for user in users:\n",
    "        # Aguarde a imagem ser carregada completamente \n",
    "        foto = user.find_element(By.TAG_NAME, 'img')\n",
    "        nome = user.find_element(By.TAG_NAME, 'h3')\n",
    "        profissao = user.find_element(By.TAG_NAME, 'span')\n",
    "        email = user.find_element(By.CSS_SELECTOR, 'ul > li:nth-child(1)')\n",
    "        telefone = user.find_element(By.CSS_SELECTOR, 'ul > li:nth-child(2)')\n",
    "        perfil = user.find_element(By.CSS_SELECTOR, 'ul > li:nth-child(3)')\n",
    "        estado = user.find_element(By.CSS_SELECTOR, 'ul > li:nth-child(4)')\n",
    "\n",
    "        dados_do_usuario = Usuarios(\n",
    "            foto = foto.get_attribute('src'),\n",
    "            nome = nome.text,\n",
    "            profissao = profissao.text,\n",
    "            email = email.text,\n",
    "            telefone = telefone.text[10:],\n",
    "            perfil = perfil.text[9:],\n",
    "            estado = estado.text[8:]\n",
    "        )\n",
    "\n",
    "        data.append(dados_do_usuario)\n",
    "\n",
    "    # Ir para a aba da cadastro \n",
    "    driver.switch_to.window(window_name=windows['cadastro'])\n",
    "\n",
    "    # Selecionar os elemento de entrada de dados \n",
    "    nome_cadastro = driver.find_element(By.NAME, 'nome')\n",
    "    profissao_cadastro = driver.find_element(By.NAME, 'profissao')\n",
    "    email_cadastro = driver.find_element(By.NAME, 'email')\n",
    "    telefone_cadastro = driver.find_element(By.NAME, 'telefone')\n",
    "    perfil_cadastro = driver.find_element(By.NAME, 'usuario')\n",
    "    estado_cadastro = Select(driver.find_element(By.NAME, 'estado'))\n",
    "\n",
    "    # Preencher cada um dos usuarios encontrados na busca \n",
    "    for dt in data:\n",
    "        nome_cadastro.clear()\n",
    "        profissao_cadastro.clear()\n",
    "        email_cadastro.clear()\n",
    "        telefone_cadastro.clear()\n",
    "        perfil_cadastro.clear()\n",
    "\n",
    "        nome_cadastro.send_keys(dt.nome)\n",
    "        profissao_cadastro.send_keys(dt.profissao)\n",
    "        email_cadastro.send_keys(dt.email)\n",
    "        telefone_cadastro.send_keys(dt.telefone)\n",
    "        perfil_cadastro.send_keys(dt.perfil)\n",
    "        estado_cadastro.select_by_visible_text(dt.estado)\n",
    "        \n",
    "        # Enviar o formulario \n",
    "        nome_cadastro.submit()"
   ]
  }
 ],
 "metadata": {
  "kernelspec": {
   "display_name": "venv",
   "language": "python",
   "name": "python3"
  },
  "language_info": {
   "codemirror_mode": {
    "name": "ipython",
    "version": 3
   },
   "file_extension": ".py",
   "mimetype": "text/x-python",
   "name": "python",
   "nbconvert_exporter": "python",
   "pygments_lexer": "ipython3",
   "version": "3.13.5"
  }
 },
 "nbformat": 4,
 "nbformat_minor": 5
}
