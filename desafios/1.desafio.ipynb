{
 "cells": [
  {
   "cell_type": "markdown",
   "id": "dd0f40ba",
   "metadata": {},
   "source": [
    "# aula_31/32 - desafio e soluçao"
   ]
  },
  {
   "cell_type": "code",
   "execution_count": null,
   "id": "87ef6d23",
   "metadata": {
    "vscode": {
     "languageId": "plaintext"
    }
   },
   "outputs": [],
   "source": [
    "from selenium.webdriver.common.by import By\n",
    "from selenium import webdriver\n",
    "\n",
    "driver = webdriver.Chrome()\n",
    "driver.get(\"https://curso-web-scraping.pages.dev/#/esmplo/1\")"
   ]
  },
  {
   "cell_type": "code",
   "execution_count": null,
   "id": "829fee63",
   "metadata": {
    "vscode": {
     "languageId": "plaintext"
    }
   },
   "outputs": [],
   "source": [
    "data = [\n",
    "    {\n",
    "        \"email\": \"lda-mota@example.net\",\n",
    "        \"senha\": \"*V03BSlEA*\",\n",
    "        \"data-de-nascimento\": \"1983-08-27\",\n",
    "        \"newsletter\": False\n",
    "    },\n",
    "    {\n",
    "        \"email\": \"sda-luz@example.org\",\n",
    "        \"senha\": \"Qa8_2C0o5_\",\n",
    "        \"data-de-nascimento\": \"2003-07-16\",\n",
    "        \"newsletter\": True\n",
    "    },\n",
    "    {\n",
    "        \"email\": \"daniela00@example.com\",\n",
    "        \"senha\": \"zZz4@J3ec@\",\n",
    "        \"data-de-nascimento\": \"1971-08-24\",\n",
    "        \"newsletter\": True\n",
    "    },\n",
    "    {\n",
    "        \"email\": \"nogueiralorenzo@example.com\",\n",
    "        \"senha\": \"%8h&@B6IgJ\",\n",
    "        \"data-de-nascimento\": \"1996-08-14\",\n",
    "        \"newsletter\": True\n",
    "    },\n",
    "    {\n",
    "        \"email\": \"gcardoso@example.net\",\n",
    "        \"senha\": \"OAHsP2Eu_h\",\n",
    "        \"data-de-nascimento\": \"1990-04-20\",\n",
    "        \"newsletter\": True\n",
    "    },\n",
    "    {\n",
    "        \"email\": \"lorenzoaragao@example.org\",\n",
    "        \"senha\": \"240iCRzfO_\",\n",
    "        \"data-de-nascimento\": \"1998-12-10\",\n",
    "        \"newsletter\": True\n",
    "    },\n",
    "    {\n",
    "        \"email\": \"sofia65@example.org\",\n",
    "        \"senha\": \"!ytSm4@x0w\",\n",
    "        \"data-de-nascimento\": \"1971-06-01\",\n",
    "        \"newsletter\": True\n",
    "    },\n",
    "    {\n",
    "        \"email\": \"joao08@example.com\",\n",
    "        \"senha\": \"J4d5A5nD)A\",\n",
    "        \"data-de-nascimento\": \"1954-10-27\",\n",
    "        \"newsletter\": False\n",
    "    },\n",
    "    {\n",
    "        \"email\": \"wduarte@example.org\",\n",
    "        \"senha\": \"$V0TkvNYzd\",\n",
    "        \"data-de-nascimento\": \"1979-05-02\",\n",
    "        \"newsletter\": False\n",
    "    },\n",
    "    {\n",
    "        \"email\": \"mariada-rocha@example.com\",\n",
    "        \"senha\": \"%0t$9CKq3P\",\n",
    "        \"data-de-nascimento\": \"2003-09-10\",\n",
    "        \"newsletter\": True\n",
    "    }\n",
    "]"
   ]
  },
  {
   "cell_type": "code",
   "execution_count": null,
   "id": "d6150674",
   "metadata": {
    "vscode": {
     "languageId": "plaintext"
    }
   },
   "outputs": [],
   "source": [
    "email = driver.find_element(By.NAME, 'email')\n",
    "senha = driver.find_element(By.NAME, 'senha')"
   ]
  },
  {
   "cell_type": "code",
   "execution_count": null,
   "id": "fb357054",
   "metadata": {
    "vscode": {
     "languageId": "plaintext"
    }
   },
   "outputs": [],
   "source": [
    "data[0]['email']\n",
    "data[0]['senha']"
   ]
  },
  {
   "cell_type": "code",
   "execution_count": null,
   "id": "ac7f52e7",
   "metadata": {
    "vscode": {
     "languageId": "plaintext"
    }
   },
   "outputs": [],
   "source": [
    "email.send_keys(data[0]['email'])\n",
    "senha.send_keys(data[0]['senha'])"
   ]
  },
  {
   "cell_type": "code",
   "execution_count": null,
   "id": "b8b7bf0e",
   "metadata": {
    "vscode": {
     "languageId": "plaintext"
    }
   },
   "outputs": [],
   "source": [
    "data[0]['data-de-nascimento']"
   ]
  },
  {
   "cell_type": "code",
   "execution_count": null,
   "id": "1470b4e0",
   "metadata": {
    "vscode": {
     "languageId": "plaintext"
    }
   },
   "outputs": [],
   "source": [
    "import datetime "
   ]
  },
  {
   "cell_type": "code",
   "execution_count": null,
   "id": "10a9cde8",
   "metadata": {
    "vscode": {
     "languageId": "plaintext"
    }
   },
   "outputs": [],
   "source": [
    "dt = datetime.datetime.strptime(data[0]['data-de-nascimento'], '%Y-%m-%d')"
   ]
  },
  {
   "cell_type": "code",
   "execution_count": null,
   "id": "f6dba8e8",
   "metadata": {
    "vscode": {
     "languageId": "plaintext"
    }
   },
   "outputs": [],
   "source": [
    "dt.year, dt.month, dt.day"
   ]
  },
  {
   "cell_type": "markdown",
   "id": "0dbe96fc",
   "metadata": {},
   "source": [
    "2.forma "
   ]
  },
  {
   "cell_type": "code",
   "execution_count": null,
   "id": "88e33412",
   "metadata": {
    "vscode": {
     "languageId": "plaintext"
    }
   },
   "outputs": [],
   "source": [
    "ano, mes, dia = (data[0]['data-de-nascimento']).split('-')"
   ]
  },
  {
   "cell_type": "code",
   "execution_count": null,
   "id": "948616c6",
   "metadata": {
    "vscode": {
     "languageId": "plaintext"
    }
   },
   "outputs": [],
   "source": [
    "ano, mes, dia "
   ]
  },
  {
   "cell_type": "markdown",
   "id": "6c0a23bf",
   "metadata": {},
   "source": [
    "3.forma"
   ]
  },
  {
   "cell_type": "code",
   "execution_count": null,
   "id": "822fe695",
   "metadata": {
    "vscode": {
     "languageId": "plaintext"
    }
   },
   "outputs": [],
   "source": [
    "ano = data[0]['data-de-nascimento'][:4]\n",
    "mes = data[0]['data-de-nascimento'][5:7]\n",
    "dia = data[0]['data-de-nascimento'][8:]\n",
    "\n",
    "ano, mes, dia"
   ]
  },
  {
   "cell_type": "code",
   "execution_count": null,
   "id": "4760f3dc",
   "metadata": {
    "vscode": {
     "languageId": "plaintext"
    }
   },
   "outputs": [],
   "source": [
    "from selenium.webdriver.support.ui import Select"
   ]
  },
  {
   "cell_type": "code",
   "execution_count": null,
   "id": "fbdbd53e",
   "metadata": {
    "vscode": {
     "languageId": "plaintext"
    }
   },
   "outputs": [],
   "source": [
    "dia = Select(driver.find_element(By.NAME, 'dia'))\n",
    "mes = Select(driver.find_element(By.NAME, 'mes'))\n",
    "ano = Select(driver.find_element(By.NAME, 'ano'))"
   ]
  },
  {
   "cell_type": "code",
   "execution_count": null,
   "id": "c07fffa4",
   "metadata": {
    "vscode": {
     "languageId": "plaintext"
    }
   },
   "outputs": [],
   "source": [
    "ano.select_by_visible_text(str(dt.year))"
   ]
  },
  {
   "cell_type": "code",
   "execution_count": null,
   "id": "a55af229",
   "metadata": {
    "vscode": {
     "languageId": "plaintext"
    }
   },
   "outputs": [],
   "source": [
    "mes.select_by_visible_text(str(dt.month))"
   ]
  },
  {
   "cell_type": "code",
   "execution_count": null,
   "id": "16e8e2c5",
   "metadata": {
    "vscode": {
     "languageId": "plaintext"
    }
   },
   "outputs": [],
   "source": [
    "dia.select_by_visible_text(str(dt.day))"
   ]
  },
  {
   "cell_type": "code",
   "execution_count": null,
   "id": "acb5eaa7",
   "metadata": {
    "vscode": {
     "languageId": "plaintext"
    }
   },
   "outputs": [],
   "source": [
    "newsletter = driver.find_element(By.ID, 'airplane-mode')"
   ]
  },
  {
   "cell_type": "code",
   "execution_count": null,
   "id": "1fcb98ac",
   "metadata": {
    "vscode": {
     "languageId": "plaintext"
    }
   },
   "outputs": [],
   "source": [
    "switch_on = True if newsletter.get_attribute('aria-checked') == 'true' else False"
   ]
  },
  {
   "cell_type": "code",
   "execution_count": null,
   "id": "19ebe050",
   "metadata": {
    "vscode": {
     "languageId": "plaintext"
    }
   },
   "outputs": [],
   "source": [
    "switch_on\n"
   ]
  },
  {
   "cell_type": "code",
   "execution_count": null,
   "id": "e9780ca8",
   "metadata": {
    "vscode": {
     "languageId": "plaintext"
    }
   },
   "outputs": [],
   "source": [
    "if switch_on != data[0]['newsletter']:\n",
    "    newsletter.click()"
   ]
  },
  {
   "cell_type": "code",
   "execution_count": null,
   "id": "1a05a12d",
   "metadata": {
    "vscode": {
     "languageId": "plaintext"
    }
   },
   "outputs": [],
   "source": [
    "# email.submit()\n",
    "enviar = driver.find_element(By.CSS_SELECTOR, 'form button[type=\"submit\"]')"
   ]
  },
  {
   "cell_type": "code",
   "execution_count": null,
   "id": "342e817e",
   "metadata": {
    "vscode": {
     "languageId": "plaintext"
    }
   },
   "outputs": [],
   "source": [
    "enviar.click()"
   ]
  },
  {
   "cell_type": "markdown",
   "id": "d3d7c4c9",
   "metadata": {},
   "source": [
    "AUTOMATIZANDO..."
   ]
  },
  {
   "cell_type": "code",
   "execution_count": null,
   "id": "0eecc000",
   "metadata": {
    "vscode": {
     "languageId": "plaintext"
    }
   },
   "outputs": [],
   "source": [
    "data = [\n",
    "    {\n",
    "        \"email\": \"lda-mota@example.net\",\n",
    "        \"senha\": \"*V03BSlEA*\",\n",
    "        \"data-de-nascimento\": \"1983-08-27\",\n",
    "        \"newsletter\": False\n",
    "    },\n",
    "    {\n",
    "        \"email\": \"sda-luz@example.org\",\n",
    "        \"senha\": \"Qa8_2C0o5_\",\n",
    "        \"data-de-nascimento\": \"2003-07-16\",\n",
    "        \"newsletter\": True\n",
    "    },\n",
    "    {\n",
    "        \"email\": \"daniela00@example.com\",\n",
    "        \"senha\": \"zZz4@J3ec@\",\n",
    "        \"data-de-nascimento\": \"1971-08-24\",\n",
    "        \"newsletter\": True\n",
    "    },\n",
    "    {\n",
    "        \"email\": \"nogueiralorenzo@example.com\",\n",
    "        \"senha\": \"%8h&@B6IgJ\",\n",
    "        \"data-de-nascimento\": \"1996-08-14\",\n",
    "        \"newsletter\": True\n",
    "    },\n",
    "    {\n",
    "        \"email\": \"gcardoso@example.net\",\n",
    "        \"senha\": \"OAHsP2Eu_h\",\n",
    "        \"data-de-nascimento\": \"1990-04-20\",\n",
    "        \"newsletter\": True\n",
    "    },\n",
    "    {\n",
    "        \"email\": \"lorenzoaragao@example.org\",\n",
    "        \"senha\": \"240iCRzfO_\",\n",
    "        \"data-de-nascimento\": \"1998-12-10\",\n",
    "        \"newsletter\": True\n",
    "    },\n",
    "    {\n",
    "        \"email\": \"sofia65@example.org\",\n",
    "        \"senha\": \"!ytSm4@x0w\",\n",
    "        \"data-de-nascimento\": \"1971-06-01\",\n",
    "        \"newsletter\": True\n",
    "    },\n",
    "    {\n",
    "        \"email\": \"joao08@example.com\",\n",
    "        \"senha\": \"J4d5A5nD)A\",\n",
    "        \"data-de-nascimento\": \"1954-10-27\",\n",
    "        \"newsletter\": False\n",
    "    },\n",
    "    {\n",
    "        \"email\": \"wduarte@example.org\",\n",
    "        \"senha\": \"$V0TkvNYzd\",\n",
    "        \"data-de-nascimento\": \"1979-05-02\",\n",
    "        \"newsletter\": False\n",
    "    },\n",
    "    {\n",
    "        \"email\": \"mariada-rocha@example.com\",\n",
    "        \"senha\": \"%0t$9CKq3P\",\n",
    "        \"data-de-nascimento\": \"2003-09-10\",\n",
    "        \"newsletter\": True\n",
    "    }\n",
    "]"
   ]
  },
  {
   "cell_type": "code",
   "execution_count": null,
   "id": "4b8d9382",
   "metadata": {
    "vscode": {
     "languageId": "plaintext"
    }
   },
   "outputs": [],
   "source": [
    "for item in data:\n",
    "    email = driver.find_element(By.NAME, 'email')\n",
    "    senha = driver.find_element(By.NAME, 'senha')\n",
    "\n",
    "    email.clear()\n",
    "    senha.clear()\n",
    "\n",
    "    email.send_keys(item['email'])\n",
    "    senha.send_keys(item['senha'])\n",
    "\n",
    "    dt = datetime.datetime.strptime(item['data-de-nascimento'], '%Y-%m-%d')\n",
    "\n",
    "    dia = Select(driver.find_element(By.NAME, 'dia'))\n",
    "    mes = Select(driver.find_element(By.NAME, 'mes'))\n",
    "    ano = Select(driver.find_element(By.NAME, 'ano'))\n",
    "\n",
    "    dia.select_by_visible_text(str(dt.day))\n",
    "    mes.select_by_visible_text(str(dt.month))\n",
    "    ano.select_by_visible_text(str(dt.year))\n",
    "\n",
    "    newsletter = driver.find_element(By.ID, 'airplane-mode')\n",
    "    switch_on = True if newsletter.get_attribute('aria-checked') == 'true' else False\n",
    "\n",
    "    if switch_on != item['newsletter']:\n",
    "        newsletter.click()\n",
    "\n",
    "    enviar = driver.find_element(By.CSS_SELECTOR, 'form button[type=\"submit\"]')\n",
    "    enviar.click()"
   ]
  }
 ],
 "metadata": {
  "language_info": {
   "name": "python"
  }
 },
 "nbformat": 4,
 "nbformat_minor": 5
}
