{
 "cells": [
  {
   "cell_type": "markdown",
   "id": "5f398f39",
   "metadata": {},
   "source": [
    "# aula_51/52 - Desafio e Soluçao"
   ]
  },
  {
   "cell_type": "code",
   "execution_count": 127,
   "id": "18cc7dc1",
   "metadata": {},
   "outputs": [],
   "source": [
    "from selenium.webdriver.common.by import By\n",
    "from selenium import webdriver\n",
    "from selenium.webdriver.support.ui import Select\n",
    "from selenium.webdriver.support.wait import WebDriverWait\n",
    "from selenium.webdriver.support import expected_conditions as EC\n",
    "from selenium.webdriver.common.action_chains import ActionChains\n",
    "from selenium.webdriver.common.keys import Keys\n",
    "\n",
    "\n",
    "driver = webdriver.Chrome()\n",
    "driver.get(\"https://curso-web-scraping.pages.dev/#/desafio/4\")"
   ]
  },
  {
   "cell_type": "code",
   "execution_count": 128,
   "id": "0973d27b",
   "metadata": {},
   "outputs": [],
   "source": [
    "categoria = \"Celulares\""
   ]
  },
  {
   "cell_type": "code",
   "execution_count": 129,
   "id": "fb3aeee6",
   "metadata": {},
   "outputs": [],
   "source": [
    "(\n",
    "    ActionChains(driver)\n",
    "    .click(driver.find_element(By.XPATH, f'//h1[contains(text(), \"{categoria}\")]'))\n",
    "    .perform()\n",
    "    \n",
    ")"
   ]
  },
  {
   "cell_type": "markdown",
   "id": "35231456",
   "metadata": {},
   "source": [
    "~~ capturar dados do produto"
   ]
  },
  {
   "cell_type": "code",
   "execution_count": 130,
   "id": "aa838123",
   "metadata": {},
   "outputs": [
    {
     "data": {
      "text/plain": [
       "[<selenium.webdriver.remote.webelement.WebElement (session=\"f8e2152d96a05ee114d794d641db3084\", element=\"f.1ACB55B7292201E1D2330894A986F35E.d.2F4542318108B37A624FF416631927AF.e.23\")>,\n",
       " <selenium.webdriver.remote.webelement.WebElement (session=\"f8e2152d96a05ee114d794d641db3084\", element=\"f.1ACB55B7292201E1D2330894A986F35E.d.2F4542318108B37A624FF416631927AF.e.24\")>,\n",
       " <selenium.webdriver.remote.webelement.WebElement (session=\"f8e2152d96a05ee114d794d641db3084\", element=\"f.1ACB55B7292201E1D2330894A986F35E.d.2F4542318108B37A624FF416631927AF.e.25\")>,\n",
       " <selenium.webdriver.remote.webelement.WebElement (session=\"f8e2152d96a05ee114d794d641db3084\", element=\"f.1ACB55B7292201E1D2330894A986F35E.d.2F4542318108B37A624FF416631927AF.e.26\")>,\n",
       " <selenium.webdriver.remote.webelement.WebElement (session=\"f8e2152d96a05ee114d794d641db3084\", element=\"f.1ACB55B7292201E1D2330894A986F35E.d.2F4542318108B37A624FF416631927AF.e.27\")>,\n",
       " <selenium.webdriver.remote.webelement.WebElement (session=\"f8e2152d96a05ee114d794d641db3084\", element=\"f.1ACB55B7292201E1D2330894A986F35E.d.2F4542318108B37A624FF416631927AF.e.28\")>,\n",
       " <selenium.webdriver.remote.webelement.WebElement (session=\"f8e2152d96a05ee114d794d641db3084\", element=\"f.1ACB55B7292201E1D2330894A986F35E.d.2F4542318108B37A624FF416631927AF.e.29\")>,\n",
       " <selenium.webdriver.remote.webelement.WebElement (session=\"f8e2152d96a05ee114d794d641db3084\", element=\"f.1ACB55B7292201E1D2330894A986F35E.d.2F4542318108B37A624FF416631927AF.e.30\")>,\n",
       " <selenium.webdriver.remote.webelement.WebElement (session=\"f8e2152d96a05ee114d794d641db3084\", element=\"f.1ACB55B7292201E1D2330894A986F35E.d.2F4542318108B37A624FF416631927AF.e.31\")>]"
      ]
     },
     "execution_count": 130,
     "metadata": {},
     "output_type": "execute_result"
    }
   ],
   "source": [
    "produtos = driver.find_elements(By.CSS_SELECTOR, 'form#filtros + div div:has(>img)')\n",
    "produtos "
   ]
  },
  {
   "cell_type": "code",
   "execution_count": 131,
   "id": "23dbecc0",
   "metadata": {},
   "outputs": [],
   "source": [
    "from dataclasses import dataclass\n",
    "\n",
    "@dataclass\n",
    "class Produto:\n",
    "    titulo: str\n",
    "    e_frete_gratis: bool\n",
    "    e_parcelamento_sem_juros: bool\n",
    "    e_envio_internacional: bool\n",
    "    esta_em_oferta: bool\n",
    "    numero_estrelas: int\n",
    "    descriçao: str\n",
    "    foto: str\n",
    "    preço: int\n"
   ]
  },
  {
   "cell_type": "code",
   "execution_count": 132,
   "id": "90ad5963",
   "metadata": {},
   "outputs": [],
   "source": [
    "produto = produtos[0]"
   ]
  },
  {
   "cell_type": "code",
   "execution_count": 133,
   "id": "9405d6b9",
   "metadata": {},
   "outputs": [],
   "source": [
    "dados = []\n",
    "dados_do_produto = Produto(\n",
    "    titulo = produto.find_element(By.TAG_NAME, 'h5').text,\n",
    "    e_frete_gratis = True if produto.find_elements(By.CSS_SELECTOR, 'div.bg-blue-100') else False, \n",
    "    e_parcelamento_sem_juros = True if produto.find_elements(By.CSS_SELECTOR, 'div.bg-green-100') else False, \n",
    "    e_envio_internacional = True if produto.find_elements(By.CSS_SELECTOR, 'div.bg-orange-100') else False, \n",
    "    esta_em_oferta = True if produto.find_elements(By.CSS_SELECTOR, 'div.bg-purple-100') else False, \n",
    "    numero_estrelas = len(produtos[0].find_elements(By.CSS_SELECTOR, 'svg.text-yellow-300')), \n",
    "    descriçao = driver.find_element(By.TAG_NAME, 'p').text, \n",
    "    foto = driver.find_element(By.TAG_NAME, 'img').get_attribute('src'), \n",
    "    preço = produtos[0].find_element(By.CSS_SELECTOR, 'div:has(>span:nth-last-child(2)) > span:nth-child(2)').text, \n",
    ")\n",
    "\n",
    "dados.append(dados_do_produto)"
   ]
  },
  {
   "cell_type": "code",
   "execution_count": 134,
   "id": "42a4a0e1",
   "metadata": {},
   "outputs": [
    {
     "data": {
      "text/plain": [
       "[Produto(titulo='Teclado', e_frete_gratis=True, e_parcelamento_sem_juros=False, e_envio_internacional=False, esta_em_oferta=False, numero_estrelas=5, descriçao='Aprenda programação desde o zero! 👨🏻\\u200d💻', foto='https://curso-web-scraping.pages.dev/assets/logo-CiMlYpgZ.png', preço='2087')]"
      ]
     },
     "execution_count": 134,
     "metadata": {},
     "output_type": "execute_result"
    }
   ],
   "source": [
    "dados"
   ]
  },
  {
   "cell_type": "code",
   "execution_count": 135,
   "id": "553c24c6",
   "metadata": {},
   "outputs": [],
   "source": [
    "from IPython.display import HTML \n",
    "# HTML(produto.get_property('outerHTML'))"
   ]
  },
  {
   "cell_type": "code",
   "execution_count": 136,
   "id": "516a9241",
   "metadata": {},
   "outputs": [
    {
     "data": {
      "text/plain": [
       "<selenium.webdriver.remote.webelement.WebElement (session=\"f8e2152d96a05ee114d794d641db3084\", element=\"f.1ACB55B7292201E1D2330894A986F35E.d.2F4542318108B37A624FF416631927AF.e.53\")>"
      ]
     },
     "execution_count": 136,
     "metadata": {},
     "output_type": "execute_result"
    }
   ],
   "source": [
    "proximo = driver.find_element(By.CSS_SELECTOR, 'form#filtros + div button:last-child')\n",
    "proximo"
   ]
  },
  {
   "cell_type": "code",
   "execution_count": 137,
   "id": "48daf5b8",
   "metadata": {},
   "outputs": [],
   "source": [
    "proximo.click()"
   ]
  },
  {
   "cell_type": "markdown",
   "id": "a6262e2e",
   "metadata": {},
   "source": [
    "~~ modificar filtros "
   ]
  },
  {
   "cell_type": "code",
   "execution_count": 138,
   "id": "7f7e0356",
   "metadata": {},
   "outputs": [],
   "source": [
    "# filtros \n",
    "frete = driver.find_element(By.ID, 'frete')\n",
    "parcelamento = driver.find_element(By.ID, 'parcelamento')\n",
    "internacional = driver.find_element(By.ID, 'envio-internacional')\n",
    "oferta = driver.find_element(By.ID, 'oferta')"
   ]
  },
  {
   "cell_type": "code",
   "execution_count": 139,
   "id": "c9f868cd",
   "metadata": {},
   "outputs": [],
   "source": [
    "# preço\n",
    "preço_de = driver.find_element(By.ID, 'price-from')\n",
    "preço_ate = driver.find_element(By.ID, 'price-to')"
   ]
  },
  {
   "cell_type": "code",
   "execution_count": 140,
   "id": "15f15fb2",
   "metadata": {},
   "outputs": [],
   "source": [
    "# classificaçao \n",
    "nota5 = driver.find_element(By.ID, 'five-stars')\n",
    "nota4 = driver.find_element(By.ID, 'four-stars')\n",
    "nota3 = driver.find_element(By.ID, 'three-stars')\n",
    "nota2 = driver.find_element(By.ID, 'two-stars')\n",
    "nota1 = driver.find_element(By.ID, 'one-star')"
   ]
  },
  {
   "cell_type": "code",
   "execution_count": 141,
   "id": "bff6fea7",
   "metadata": {},
   "outputs": [],
   "source": [
    "enviar = driver.find_element(By.CSS_SELECTOR, 'form#filtros button[type=\"submit\"]')\n",
    "limpar = driver.find_element(By.CSS_SELECTOR, 'form#filtros button[type=\"reset\"]')"
   ]
  },
  {
   "cell_type": "code",
   "execution_count": 142,
   "id": "3c17c7ea",
   "metadata": {},
   "outputs": [],
   "source": [
    "limpar.click()"
   ]
  },
  {
   "cell_type": "code",
   "execution_count": null,
   "id": "c9faecde",
   "metadata": {},
   "outputs": [],
   "source": [
    "actions = ActionChains(driver)\n",
    "actions.click(limpar)"
   ]
  },
  {
   "cell_type": "code",
   "execution_count": 144,
   "id": "7597522a",
   "metadata": {},
   "outputs": [
    {
     "data": {
      "text/plain": [
       "<selenium.webdriver.common.action_chains.ActionChains at 0x22ed0677ed0>"
      ]
     },
     "execution_count": 144,
     "metadata": {},
     "output_type": "execute_result"
    }
   ],
   "source": [
    "actions.click(limpar)"
   ]
  },
  {
   "cell_type": "code",
   "execution_count": 145,
   "id": "de1d61e9",
   "metadata": {},
   "outputs": [],
   "source": [
    "frete_gratis = True\n",
    "parcelamento_sem_juros = True\n",
    "envio_internacional = True\n",
    "em_oferta = True \n",
    "preço_minimo = 100\n",
    "preço_maximo = 7000\n",
    "nota = 5"
   ]
  },
  {
   "cell_type": "code",
   "execution_count": null,
   "id": "c41b8d4d",
   "metadata": {},
   "outputs": [],
   "source": [
    "if frete_gratis:\n",
    "    actions.click(frete)"
   ]
  },
  {
   "cell_type": "code",
   "execution_count": 147,
   "id": "8eff7e1d",
   "metadata": {},
   "outputs": [],
   "source": [
    "if parcelamento_sem_juros:\n",
    "    actions.click(parcelamento)"
   ]
  },
  {
   "cell_type": "code",
   "execution_count": 148,
   "id": "680a4f82",
   "metadata": {},
   "outputs": [],
   "source": [
    "if envio_internacional:\n",
    "    actions.click(internacional)"
   ]
  },
  {
   "cell_type": "code",
   "execution_count": 149,
   "id": "ca899272",
   "metadata": {},
   "outputs": [],
   "source": [
    "if em_oferta:\n",
    "    actions.click(oferta)"
   ]
  },
  {
   "cell_type": "code",
   "execution_count": 150,
   "id": "ab88ca76",
   "metadata": {},
   "outputs": [
    {
     "data": {
      "text/plain": [
       "<selenium.webdriver.common.action_chains.ActionChains at 0x22ed0677ed0>"
      ]
     },
     "execution_count": 150,
     "metadata": {},
     "output_type": "execute_result"
    }
   ],
   "source": [
    "# limpar \n",
    "actions.key_down(Keys.META)\n",
    "actions.send_keys_to_element(preço_de, 'a')\n",
    "actions.key_up(Keys.META)\n",
    "actions.send_keys_to_element(preço_de, Keys.DELETE)\n",
    "\n",
    "actions.key_down(Keys.META)\n",
    "actions.send_keys_to_element(preço_ate, 'a')\n",
    "actions.key_up(Keys.META)\n",
    "actions.send_keys_to_element(preço_ate, Keys.DELETE)\n",
    "\n",
    "# alternativa\n",
    "# actions.send_keys_to_element(preço_ate, [Keys.DELETE for _ in range(10)]\n",
    "\n",
    "actions.send_keys_to_element(preço_de, preço_minimo)\n",
    "actions.send_keys_to_element(preço_ate, preço_maximo)"
   ]
  },
  {
   "cell_type": "code",
   "execution_count": 151,
   "id": "b1c2f5a6",
   "metadata": {},
   "outputs": [],
   "source": [
    "match nota: \n",
    "    case 5: \n",
    "        actions.click(nota5)\n",
    "    case 4: \n",
    "        actions.click(nota4)\n",
    "    case 3: \n",
    "        actions.click(nota3)\n",
    "    case 2: \n",
    "        actions.click(nota2)\n",
    "    case 1: \n",
    "        actions.click(nota1)"
   ]
  },
  {
   "cell_type": "code",
   "execution_count": 152,
   "id": "4e2e9b72",
   "metadata": {},
   "outputs": [
    {
     "data": {
      "text/plain": [
       "<selenium.webdriver.common.action_chains.ActionChains at 0x22ed0677ed0>"
      ]
     },
     "execution_count": 152,
     "metadata": {},
     "output_type": "execute_result"
    }
   ],
   "source": [
    "actions.click(enviar)"
   ]
  },
  {
   "cell_type": "code",
   "execution_count": 153,
   "id": "0915f53e",
   "metadata": {},
   "outputs": [],
   "source": [
    "actions.perform()"
   ]
  },
  {
   "cell_type": "markdown",
   "id": "96d908da",
   "metadata": {},
   "source": [
    "# Automatizando"
   ]
  },
  {
   "cell_type": "code",
   "execution_count": 162,
   "id": "afe5ae53",
   "metadata": {},
   "outputs": [],
   "source": [
    "from dataclasses import dataclass\n",
    "\n",
    "@dataclass\n",
    "class Produto:\n",
    "    titulo: str\n",
    "    e_frete_gratis: bool\n",
    "    e_parcelamento_sem_juros: bool\n",
    "    e_envio_internacional: bool\n",
    "    esta_em_oferta: bool\n",
    "    numero_estrelas: int\n",
    "    descriçao: str\n",
    "    foto: str\n",
    "    preço: int"
   ]
  },
  {
   "cell_type": "code",
   "execution_count": 163,
   "id": "7429218b",
   "metadata": {},
   "outputs": [],
   "source": [
    "wait = WebDriverWait(driver=driver, timeout=5, poll_frequency=1)\n",
    "driver.implicitly_wait(time_to_wait=10)"
   ]
  },
  {
   "cell_type": "code",
   "execution_count": 164,
   "id": "dad8200b",
   "metadata": {},
   "outputs": [],
   "source": [
    "def acessar_produtos(categoria: str):\n",
    "    driver.get(\"https://curso-web-scraping.pages.dev/#/desafio/4\")\n",
    "\n",
    "    (\n",
    "        ActionChains(driver)\n",
    "        .click(driver.find_element(By.XPATH, f'//h1[contains(text(), \"{categoria}\")]'))\n",
    "        .perform()\n",
    "    )"
   ]
  },
  {
   "cell_type": "code",
   "execution_count": 165,
   "id": "6001e141",
   "metadata": {},
   "outputs": [],
   "source": [
    "def capturar_dados_dos_produtos():\n",
    "    dados = []\n",
    "\n",
    "    while True:\n",
    "        wait.until(EC.visibility_of_all_elements_located(\n",
    "            locator=(By.CSS_SELECTOR, 'form#filtros + div div > img')\n",
    "        ))\n",
    "        produtos = driver.find_elements(By.CSS_SELECTOR, 'form#filtros + div div:has(>img)')\n",
    "\n",
    "        for produto in produtos:\n",
    "            dados_do_produto = Produto(\n",
    "                titulo=produto.find_element(By.TAG_NAME, 'h5').text,\n",
    "                e_frete_gratis=True if produto.find_elements(By.CSS_SELECTOR, 'div.bg-blue-100') else False,\n",
    "                e_parcelamento_sem_juros=True if produto.find_elements(By.CSS_SELECTOR, 'div.bg-green-100') else False,\n",
    "                e_envio_internacional=True if produto.find_elements(By.CSS_SELECTOR, 'div.bg-orange-100') else False,\n",
    "                esta_em_oferta=True if produto.find_elements(By.CSS_SELECTOR, 'div.bg-purple-100') else False,\n",
    "                numero_estrelas=len(produto.find_elements(By.CSS_SELECTOR, 'svg.text-yellow-300')),\n",
    "                descriçao=produto.find_element(By.TAG_NAME, 'p').text,\n",
    "                foto=produto.find_element(By.TAG_NAME, 'img').get_attribute('src'),\n",
    "                preço=produto.find_element(By.CSS_SELECTOR, 'div:has(>span:nth-last-child(2)) > span:nth-child(2)').text,\n",
    "            )\n",
    "\n",
    "            dados.append(dados_do_produto)\n",
    "\n",
    "        proximo = driver.find_element(By.CSS_SELECTOR, 'form#filtros + div button:last-child')\n",
    "\n",
    "        try:\n",
    "            proximo.click()\n",
    "        except:\n",
    "            break\n",
    "\n",
    "    return dados"
   ]
  },
  {
   "cell_type": "code",
   "execution_count": 166,
   "id": "198ba0d6",
   "metadata": {},
   "outputs": [],
   "source": [
    "def preencher_filtros(\n",
    "        frete_gratis = bool,\n",
    "        parcelamento_sem_juros = bool,\n",
    "        envio_internacional = bool,\n",
    "        em_oferta = bool,\n",
    "        preço_minimo = int,\n",
    "        preço_maximo = int,\n",
    "        nota = int,\n",
    "    ):\n",
    "    # Filtros \n",
    "    frete = driver.find_element(By.ID, 'frete')\n",
    "    parcelamento = driver.find_element(By.ID, 'parcelamento')\n",
    "    internacional = driver.find_element(By.ID, 'envio-internacional')\n",
    "    oferta = driver.find_element(By.ID, 'oferta')\n",
    "\n",
    "    # Preços\n",
    "    preço_de = driver.find_element(By.ID, 'price-from')\n",
    "    preço_ate = driver.find_element(By.ID, 'price-to')\n",
    "\n",
    "    # Classificaçao \n",
    "    nota5 = driver.find_element(By.ID, 'five-stars')\n",
    "    nota4 = driver.find_element(By.ID, 'four-stars')\n",
    "    nota3 = driver.find_element(By.ID, 'three-stars')\n",
    "    nota2 = driver.find_element(By.ID, 'two-stars')\n",
    "    nota1 = driver.find_element(By.ID, 'one-star')\n",
    " \n",
    "    # Açoes \n",
    "    enviar = driver.find_element(By.CSS_SELECTOR, 'form#filtros button[type=\"submit\"]')\n",
    "    limpar = driver.find_element(By.CSS_SELECTOR, 'form#filtros button[type=\"reset\"]')\n",
    "\n",
    "    actions = ActionChains(driver)\n",
    "    actions.click(limpar)\n",
    "\n",
    "        \n",
    "    if frete_gratis:\n",
    "        actions.click(frete)\n",
    "\n",
    "    if parcelamento_sem_juros:\n",
    "        actions.click(parcelamento)\n",
    "\n",
    "    if envio_internacional:\n",
    "        actions.click(internacional)\n",
    "\n",
    "    if em_oferta:\n",
    "        actions.click(oferta)\n",
    "\n",
    "    # limpar \n",
    "    actions.key_down(Keys.META)\n",
    "    actions.send_keys_to_element(preço_de, 'a')\n",
    "    actions.key_up(Keys.META)\n",
    "    actions.send_keys_to_element(preço_de, Keys.DELETE)\n",
    "\n",
    "    actions.key_down(Keys.META)\n",
    "    actions.send_keys_to_element(preço_ate, 'a')\n",
    "    actions.key_up(Keys.META)\n",
    "    actions.send_keys_to_element(preço_ate, Keys.DELETE)\n",
    "\n",
    "    actions.send_keys_to_element(preço_de, preço_minimo)\n",
    "    actions.send_keys_to_element(preço_ate, preço_maximo)\n",
    "    \n",
    "    match nota: \n",
    "        case 5: \n",
    "            actions.click(nota5)\n",
    "        case 4: \n",
    "            actions.click(nota4)\n",
    "        case 3: \n",
    "            actions.click(nota3)\n",
    "        case 2: \n",
    "            actions.click(nota2)\n",
    "        case 1: \n",
    "            actions.click(nota1)\n",
    "\n",
    "    actions.click(enviar)\n",
    "    actions.perform()"
   ]
  },
  {
   "cell_type": "markdown",
   "id": "b931063f",
   "metadata": {},
   "source": [
    "selecionar todos os produtos da categoria celulares com frete gratis, em oferta, preço entre R$ 500 e R$ 2.500 reais e com 4 estrelas "
   ]
  },
  {
   "cell_type": "code",
   "execution_count": 168,
   "id": "b4f4542a",
   "metadata": {},
   "outputs": [],
   "source": [
    "acessar_produtos(categoria='Celulares')"
   ]
  },
  {
   "cell_type": "code",
   "execution_count": null,
   "id": "1bb567b0",
   "metadata": {},
   "outputs": [],
   "source": [
    "\n",
    "preencher_filtros(\n",
    "    frete_gratis = True,\n",
    "    parcelamento_sem_juros = False,\n",
    "    envio_internacional = False,\n",
    "    em_oferta = True,\n",
    "    preço_minimo = 500,\n",
    "    preço_maximo = 2500,\n",
    "    nota = 4,\n",
    ")"
   ]
  },
  {
   "cell_type": "code",
   "execution_count": null,
   "id": "d25b3ab3",
   "metadata": {},
   "outputs": [],
   "source": [
    "celulares = capturar_dados_dos_produtos()\n",
    "celulares "
   ]
  },
  {
   "cell_type": "code",
   "execution_count": 178,
   "id": "8ed4f38d",
   "metadata": {},
   "outputs": [],
   "source": [
    "acessar_produtos(categoria='TVs')"
   ]
  },
  {
   "cell_type": "code",
   "execution_count": null,
   "id": "8a8cdb93",
   "metadata": {},
   "outputs": [],
   "source": [
    "preencher_filtros(\n",
    "    frete_gratis = False,\n",
    "    parcelamento_sem_juros = False,\n",
    "    envio_internacional = True,\n",
    "    em_oferta = False,\n",
    "    preço_minimo = 1,\n",
    "    preço_maximo = 5000,\n",
    "    nota = 5,\n",
    ")"
   ]
  },
  {
   "cell_type": "code",
   "execution_count": null,
   "id": "548899a7",
   "metadata": {},
   "outputs": [],
   "source": [
    "tvs = capturar_dados_dos_produtos()\n",
    "tvs"
   ]
  },
  {
   "cell_type": "code",
   "execution_count": 182,
   "id": "6eb4600c",
   "metadata": {},
   "outputs": [],
   "source": [
    "acessar_produtos(categoria='Games')"
   ]
  },
  {
   "cell_type": "code",
   "execution_count": 183,
   "id": "f7c45951",
   "metadata": {},
   "outputs": [],
   "source": [
    "preencher_filtros(\n",
    "    frete_gratis = True,\n",
    "    parcelamento_sem_juros = True,\n",
    "    envio_internacional = False,\n",
    "    em_oferta = False,\n",
    "    preço_minimo = 2000,\n",
    "    preço_maximo = 8000,\n",
    "    nota = 3,\n",
    ")"
   ]
  },
  {
   "cell_type": "code",
   "execution_count": 184,
   "id": "5b55b141",
   "metadata": {},
   "outputs": [
    {
     "ename": "ProtocolError",
     "evalue": "('Connection aborted.', ConnectionResetError(10054, 'Foi forçado o cancelamento de uma conexão existente pelo host remoto', None, 10054, None))",
     "output_type": "error",
     "traceback": [
      "\u001b[31m---------------------------------------------------------------------------\u001b[39m",
      "\u001b[31mConnectionResetError\u001b[39m                      Traceback (most recent call last)",
      "\u001b[36mFile \u001b[39m\u001b[32mc:\\Users\\clayt\\OneDrive\\Área de Trabalho\\ambiente_virtual_\\venv\\Lib\\site-packages\\urllib3\\connectionpool.py:787\u001b[39m, in \u001b[36mHTTPConnectionPool.urlopen\u001b[39m\u001b[34m(self, method, url, body, headers, retries, redirect, assert_same_host, timeout, pool_timeout, release_conn, chunked, body_pos, preload_content, decode_content, **response_kw)\u001b[39m\n\u001b[32m    786\u001b[39m \u001b[38;5;66;03m# Make the request on the HTTPConnection object\u001b[39;00m\n\u001b[32m--> \u001b[39m\u001b[32m787\u001b[39m response = \u001b[38;5;28;43mself\u001b[39;49m\u001b[43m.\u001b[49m\u001b[43m_make_request\u001b[49m\u001b[43m(\u001b[49m\n\u001b[32m    788\u001b[39m \u001b[43m    \u001b[49m\u001b[43mconn\u001b[49m\u001b[43m,\u001b[49m\n\u001b[32m    789\u001b[39m \u001b[43m    \u001b[49m\u001b[43mmethod\u001b[49m\u001b[43m,\u001b[49m\n\u001b[32m    790\u001b[39m \u001b[43m    \u001b[49m\u001b[43murl\u001b[49m\u001b[43m,\u001b[49m\n\u001b[32m    791\u001b[39m \u001b[43m    \u001b[49m\u001b[43mtimeout\u001b[49m\u001b[43m=\u001b[49m\u001b[43mtimeout_obj\u001b[49m\u001b[43m,\u001b[49m\n\u001b[32m    792\u001b[39m \u001b[43m    \u001b[49m\u001b[43mbody\u001b[49m\u001b[43m=\u001b[49m\u001b[43mbody\u001b[49m\u001b[43m,\u001b[49m\n\u001b[32m    793\u001b[39m \u001b[43m    \u001b[49m\u001b[43mheaders\u001b[49m\u001b[43m=\u001b[49m\u001b[43mheaders\u001b[49m\u001b[43m,\u001b[49m\n\u001b[32m    794\u001b[39m \u001b[43m    \u001b[49m\u001b[43mchunked\u001b[49m\u001b[43m=\u001b[49m\u001b[43mchunked\u001b[49m\u001b[43m,\u001b[49m\n\u001b[32m    795\u001b[39m \u001b[43m    \u001b[49m\u001b[43mretries\u001b[49m\u001b[43m=\u001b[49m\u001b[43mretries\u001b[49m\u001b[43m,\u001b[49m\n\u001b[32m    796\u001b[39m \u001b[43m    \u001b[49m\u001b[43mresponse_conn\u001b[49m\u001b[43m=\u001b[49m\u001b[43mresponse_conn\u001b[49m\u001b[43m,\u001b[49m\n\u001b[32m    797\u001b[39m \u001b[43m    \u001b[49m\u001b[43mpreload_content\u001b[49m\u001b[43m=\u001b[49m\u001b[43mpreload_content\u001b[49m\u001b[43m,\u001b[49m\n\u001b[32m    798\u001b[39m \u001b[43m    \u001b[49m\u001b[43mdecode_content\u001b[49m\u001b[43m=\u001b[49m\u001b[43mdecode_content\u001b[49m\u001b[43m,\u001b[49m\n\u001b[32m    799\u001b[39m \u001b[43m    \u001b[49m\u001b[43m*\u001b[49m\u001b[43m*\u001b[49m\u001b[43mresponse_kw\u001b[49m\u001b[43m,\u001b[49m\n\u001b[32m    800\u001b[39m \u001b[43m\u001b[49m\u001b[43m)\u001b[49m\n\u001b[32m    802\u001b[39m \u001b[38;5;66;03m# Everything went great!\u001b[39;00m\n",
      "\u001b[36mFile \u001b[39m\u001b[32mc:\\Users\\clayt\\OneDrive\\Área de Trabalho\\ambiente_virtual_\\venv\\Lib\\site-packages\\urllib3\\connectionpool.py:534\u001b[39m, in \u001b[36mHTTPConnectionPool._make_request\u001b[39m\u001b[34m(self, conn, method, url, body, headers, retries, timeout, chunked, response_conn, preload_content, decode_content, enforce_content_length)\u001b[39m\n\u001b[32m    533\u001b[39m \u001b[38;5;28;01mtry\u001b[39;00m:\n\u001b[32m--> \u001b[39m\u001b[32m534\u001b[39m     response = \u001b[43mconn\u001b[49m\u001b[43m.\u001b[49m\u001b[43mgetresponse\u001b[49m\u001b[43m(\u001b[49m\u001b[43m)\u001b[49m\n\u001b[32m    535\u001b[39m \u001b[38;5;28;01mexcept\u001b[39;00m (BaseSSLError, \u001b[38;5;167;01mOSError\u001b[39;00m) \u001b[38;5;28;01mas\u001b[39;00m e:\n",
      "\u001b[36mFile \u001b[39m\u001b[32mc:\\Users\\clayt\\OneDrive\\Área de Trabalho\\ambiente_virtual_\\venv\\Lib\\site-packages\\urllib3\\connection.py:565\u001b[39m, in \u001b[36mHTTPConnection.getresponse\u001b[39m\u001b[34m(self)\u001b[39m\n\u001b[32m    564\u001b[39m \u001b[38;5;66;03m# Get the response from http.client.HTTPConnection\u001b[39;00m\n\u001b[32m--> \u001b[39m\u001b[32m565\u001b[39m httplib_response = \u001b[38;5;28;43msuper\u001b[39;49m\u001b[43m(\u001b[49m\u001b[43m)\u001b[49m\u001b[43m.\u001b[49m\u001b[43mgetresponse\u001b[49m\u001b[43m(\u001b[49m\u001b[43m)\u001b[49m\n\u001b[32m    567\u001b[39m \u001b[38;5;28;01mtry\u001b[39;00m:\n",
      "\u001b[36mFile \u001b[39m\u001b[32m~\\anaconda3\\Lib\\http\\client.py:1430\u001b[39m, in \u001b[36mHTTPConnection.getresponse\u001b[39m\u001b[34m(self)\u001b[39m\n\u001b[32m   1429\u001b[39m \u001b[38;5;28;01mtry\u001b[39;00m:\n\u001b[32m-> \u001b[39m\u001b[32m1430\u001b[39m     \u001b[43mresponse\u001b[49m\u001b[43m.\u001b[49m\u001b[43mbegin\u001b[49m\u001b[43m(\u001b[49m\u001b[43m)\u001b[49m\n\u001b[32m   1431\u001b[39m \u001b[38;5;28;01mexcept\u001b[39;00m \u001b[38;5;167;01mConnectionError\u001b[39;00m:\n",
      "\u001b[36mFile \u001b[39m\u001b[32m~\\anaconda3\\Lib\\http\\client.py:331\u001b[39m, in \u001b[36mHTTPResponse.begin\u001b[39m\u001b[34m(self)\u001b[39m\n\u001b[32m    330\u001b[39m \u001b[38;5;28;01mwhile\u001b[39;00m \u001b[38;5;28;01mTrue\u001b[39;00m:\n\u001b[32m--> \u001b[39m\u001b[32m331\u001b[39m     version, status, reason = \u001b[38;5;28;43mself\u001b[39;49m\u001b[43m.\u001b[49m\u001b[43m_read_status\u001b[49m\u001b[43m(\u001b[49m\u001b[43m)\u001b[49m\n\u001b[32m    332\u001b[39m     \u001b[38;5;28;01mif\u001b[39;00m status != CONTINUE:\n",
      "\u001b[36mFile \u001b[39m\u001b[32m~\\anaconda3\\Lib\\http\\client.py:292\u001b[39m, in \u001b[36mHTTPResponse._read_status\u001b[39m\u001b[34m(self)\u001b[39m\n\u001b[32m    291\u001b[39m \u001b[38;5;28;01mdef\u001b[39;00m\u001b[38;5;250m \u001b[39m\u001b[34m_read_status\u001b[39m(\u001b[38;5;28mself\u001b[39m):\n\u001b[32m--> \u001b[39m\u001b[32m292\u001b[39m     line = \u001b[38;5;28mstr\u001b[39m(\u001b[38;5;28;43mself\u001b[39;49m\u001b[43m.\u001b[49m\u001b[43mfp\u001b[49m\u001b[43m.\u001b[49m\u001b[43mreadline\u001b[49m\u001b[43m(\u001b[49m\u001b[43m_MAXLINE\u001b[49m\u001b[43m \u001b[49m\u001b[43m+\u001b[49m\u001b[43m \u001b[49m\u001b[32;43m1\u001b[39;49m\u001b[43m)\u001b[49m, \u001b[33m\"\u001b[39m\u001b[33miso-8859-1\u001b[39m\u001b[33m\"\u001b[39m)\n\u001b[32m    293\u001b[39m     \u001b[38;5;28;01mif\u001b[39;00m \u001b[38;5;28mlen\u001b[39m(line) > _MAXLINE:\n",
      "\u001b[36mFile \u001b[39m\u001b[32m~\\anaconda3\\Lib\\socket.py:719\u001b[39m, in \u001b[36mSocketIO.readinto\u001b[39m\u001b[34m(self, b)\u001b[39m\n\u001b[32m    718\u001b[39m \u001b[38;5;28;01mtry\u001b[39;00m:\n\u001b[32m--> \u001b[39m\u001b[32m719\u001b[39m     \u001b[38;5;28;01mreturn\u001b[39;00m \u001b[38;5;28;43mself\u001b[39;49m\u001b[43m.\u001b[49m\u001b[43m_sock\u001b[49m\u001b[43m.\u001b[49m\u001b[43mrecv_into\u001b[49m\u001b[43m(\u001b[49m\u001b[43mb\u001b[49m\u001b[43m)\u001b[49m\n\u001b[32m    720\u001b[39m \u001b[38;5;28;01mexcept\u001b[39;00m timeout:\n",
      "\u001b[31mConnectionResetError\u001b[39m: [WinError 10054] Foi forçado o cancelamento de uma conexão existente pelo host remoto",
      "\nDuring handling of the above exception, another exception occurred:\n",
      "\u001b[31mProtocolError\u001b[39m                             Traceback (most recent call last)",
      "\u001b[36mCell\u001b[39m\u001b[36m \u001b[39m\u001b[32mIn[184]\u001b[39m\u001b[32m, line 1\u001b[39m\n\u001b[32m----> \u001b[39m\u001b[32m1\u001b[39m games = \u001b[43mcapturar_dados_dos_produtos\u001b[49m\u001b[43m(\u001b[49m\u001b[43m)\u001b[49m\n\u001b[32m      2\u001b[39m games\n",
      "\u001b[36mCell\u001b[39m\u001b[36m \u001b[39m\u001b[32mIn[165]\u001b[39m\u001b[32m, line 16\u001b[39m, in \u001b[36mcapturar_dados_dos_produtos\u001b[39m\u001b[34m()\u001b[39m\n\u001b[32m      8\u001b[39m produtos = driver.find_elements(By.CSS_SELECTOR, \u001b[33m'\u001b[39m\u001b[33mform#filtros + div div:has(>img)\u001b[39m\u001b[33m'\u001b[39m)\n\u001b[32m     10\u001b[39m \u001b[38;5;28;01mfor\u001b[39;00m produto \u001b[38;5;129;01min\u001b[39;00m produtos:\n\u001b[32m     11\u001b[39m     dados_do_produto = Produto(\n\u001b[32m     12\u001b[39m         titulo=produto.find_element(By.TAG_NAME, \u001b[33m'\u001b[39m\u001b[33mh5\u001b[39m\u001b[33m'\u001b[39m).text,\n\u001b[32m     13\u001b[39m         e_frete_gratis=\u001b[38;5;28;01mTrue\u001b[39;00m \u001b[38;5;28;01mif\u001b[39;00m produto.find_elements(By.CSS_SELECTOR, \u001b[33m'\u001b[39m\u001b[33mdiv.bg-blue-100\u001b[39m\u001b[33m'\u001b[39m) \u001b[38;5;28;01melse\u001b[39;00m \u001b[38;5;28;01mFalse\u001b[39;00m,\n\u001b[32m     14\u001b[39m         e_parcelamento_sem_juros=\u001b[38;5;28;01mTrue\u001b[39;00m \u001b[38;5;28;01mif\u001b[39;00m produto.find_elements(By.CSS_SELECTOR, \u001b[33m'\u001b[39m\u001b[33mdiv.bg-green-100\u001b[39m\u001b[33m'\u001b[39m) \u001b[38;5;28;01melse\u001b[39;00m \u001b[38;5;28;01mFalse\u001b[39;00m,\n\u001b[32m     15\u001b[39m         e_envio_internacional=\u001b[38;5;28;01mTrue\u001b[39;00m \u001b[38;5;28;01mif\u001b[39;00m produto.find_elements(By.CSS_SELECTOR, \u001b[33m'\u001b[39m\u001b[33mdiv.bg-orange-100\u001b[39m\u001b[33m'\u001b[39m) \u001b[38;5;28;01melse\u001b[39;00m \u001b[38;5;28;01mFalse\u001b[39;00m,\n\u001b[32m---> \u001b[39m\u001b[32m16\u001b[39m         esta_em_oferta=\u001b[38;5;28;01mTrue\u001b[39;00m \u001b[38;5;28;01mif\u001b[39;00m \u001b[43mproduto\u001b[49m\u001b[43m.\u001b[49m\u001b[43mfind_elements\u001b[49m\u001b[43m(\u001b[49m\u001b[43mBy\u001b[49m\u001b[43m.\u001b[49m\u001b[43mCSS_SELECTOR\u001b[49m\u001b[43m,\u001b[49m\u001b[43m \u001b[49m\u001b[33;43m'\u001b[39;49m\u001b[33;43mdiv.bg-purple-100\u001b[39;49m\u001b[33;43m'\u001b[39;49m\u001b[43m)\u001b[49m \u001b[38;5;28;01melse\u001b[39;00m \u001b[38;5;28;01mFalse\u001b[39;00m,\n\u001b[32m     17\u001b[39m         numero_estrelas=\u001b[38;5;28mlen\u001b[39m(produto.find_elements(By.CSS_SELECTOR, \u001b[33m'\u001b[39m\u001b[33msvg.text-yellow-300\u001b[39m\u001b[33m'\u001b[39m)),\n\u001b[32m     18\u001b[39m         descriçao=produto.find_element(By.TAG_NAME, \u001b[33m'\u001b[39m\u001b[33mp\u001b[39m\u001b[33m'\u001b[39m).text,\n\u001b[32m     19\u001b[39m         foto=produto.find_element(By.TAG_NAME, \u001b[33m'\u001b[39m\u001b[33mimg\u001b[39m\u001b[33m'\u001b[39m).get_attribute(\u001b[33m'\u001b[39m\u001b[33msrc\u001b[39m\u001b[33m'\u001b[39m),\n\u001b[32m     20\u001b[39m         preço=produto.find_element(By.CSS_SELECTOR, \u001b[33m'\u001b[39m\u001b[33mdiv:has(>span:nth-last-child(2)) > span:nth-child(2)\u001b[39m\u001b[33m'\u001b[39m).text,\n\u001b[32m     21\u001b[39m     )\n\u001b[32m     23\u001b[39m     dados.append(dados_do_produto)\n\u001b[32m     25\u001b[39m proximo = driver.find_element(By.CSS_SELECTOR, \u001b[33m'\u001b[39m\u001b[33mform#filtros + div button:last-child\u001b[39m\u001b[33m'\u001b[39m)\n",
      "\u001b[36mFile \u001b[39m\u001b[32mc:\\Users\\clayt\\OneDrive\\Área de Trabalho\\ambiente_virtual_\\venv\\Lib\\site-packages\\selenium\\webdriver\\remote\\webelement.py:631\u001b[39m, in \u001b[36mWebElement.find_elements\u001b[39m\u001b[34m(self, by, value)\u001b[39m\n\u001b[32m    605\u001b[39m \u001b[38;5;250m\u001b[39m\u001b[33;03m\"\"\"Find elements given a By strategy and locator.\u001b[39;00m\n\u001b[32m    606\u001b[39m \n\u001b[32m    607\u001b[39m \u001b[33;03mParameters:\u001b[39;00m\n\u001b[32m   (...)\u001b[39m\u001b[32m    628\u001b[39m \u001b[33;03m    list of `WebElements` matching locator strategy found on the page.\u001b[39;00m\n\u001b[32m    629\u001b[39m \u001b[33;03m\"\"\"\u001b[39;00m\n\u001b[32m    630\u001b[39m by, value = \u001b[38;5;28mself\u001b[39m._parent.locator_converter.convert(by, value)\n\u001b[32m--> \u001b[39m\u001b[32m631\u001b[39m \u001b[38;5;28;01mreturn\u001b[39;00m \u001b[38;5;28;43mself\u001b[39;49m\u001b[43m.\u001b[49m\u001b[43m_execute\u001b[49m\u001b[43m(\u001b[49m\u001b[43mCommand\u001b[49m\u001b[43m.\u001b[49m\u001b[43mFIND_CHILD_ELEMENTS\u001b[49m\u001b[43m,\u001b[49m\u001b[43m \u001b[49m\u001b[43m{\u001b[49m\u001b[33;43m\"\u001b[39;49m\u001b[33;43musing\u001b[39;49m\u001b[33;43m\"\u001b[39;49m\u001b[43m:\u001b[49m\u001b[43m \u001b[49m\u001b[43mby\u001b[49m\u001b[43m,\u001b[49m\u001b[43m \u001b[49m\u001b[33;43m\"\u001b[39;49m\u001b[33;43mvalue\u001b[39;49m\u001b[33;43m\"\u001b[39;49m\u001b[43m:\u001b[49m\u001b[43m \u001b[49m\u001b[43mvalue\u001b[49m\u001b[43m}\u001b[49m\u001b[43m)\u001b[49m[\u001b[33m\"\u001b[39m\u001b[33mvalue\u001b[39m\u001b[33m\"\u001b[39m]\n",
      "\u001b[36mFile \u001b[39m\u001b[32mc:\\Users\\clayt\\OneDrive\\Área de Trabalho\\ambiente_virtual_\\venv\\Lib\\site-packages\\selenium\\webdriver\\remote\\webelement.py:573\u001b[39m, in \u001b[36mWebElement._execute\u001b[39m\u001b[34m(self, command, params)\u001b[39m\n\u001b[32m    571\u001b[39m     params = {}\n\u001b[32m    572\u001b[39m params[\u001b[33m\"\u001b[39m\u001b[33mid\u001b[39m\u001b[33m\"\u001b[39m] = \u001b[38;5;28mself\u001b[39m._id\n\u001b[32m--> \u001b[39m\u001b[32m573\u001b[39m \u001b[38;5;28;01mreturn\u001b[39;00m \u001b[38;5;28;43mself\u001b[39;49m\u001b[43m.\u001b[49m\u001b[43m_parent\u001b[49m\u001b[43m.\u001b[49m\u001b[43mexecute\u001b[49m\u001b[43m(\u001b[49m\u001b[43mcommand\u001b[49m\u001b[43m,\u001b[49m\u001b[43m \u001b[49m\u001b[43mparams\u001b[49m\u001b[43m)\u001b[49m\n",
      "\u001b[36mFile \u001b[39m\u001b[32mc:\\Users\\clayt\\OneDrive\\Área de Trabalho\\ambiente_virtual_\\venv\\Lib\\site-packages\\selenium\\webdriver\\remote\\webdriver.py:451\u001b[39m, in \u001b[36mWebDriver.execute\u001b[39m\u001b[34m(self, driver_command, params)\u001b[39m\n\u001b[32m    448\u001b[39m     \u001b[38;5;28;01melif\u001b[39;00m \u001b[33m\"\u001b[39m\u001b[33msessionId\u001b[39m\u001b[33m\"\u001b[39m \u001b[38;5;129;01mnot\u001b[39;00m \u001b[38;5;129;01min\u001b[39;00m params:\n\u001b[32m    449\u001b[39m         params[\u001b[33m\"\u001b[39m\u001b[33msessionId\u001b[39m\u001b[33m\"\u001b[39m] = \u001b[38;5;28mself\u001b[39m.session_id\n\u001b[32m--> \u001b[39m\u001b[32m451\u001b[39m response = \u001b[43mcast\u001b[49m\u001b[43m(\u001b[49m\u001b[43mRemoteConnection\u001b[49m\u001b[43m,\u001b[49m\u001b[43m \u001b[49m\u001b[38;5;28;43mself\u001b[39;49m\u001b[43m.\u001b[49m\u001b[43mcommand_executor\u001b[49m\u001b[43m)\u001b[49m\u001b[43m.\u001b[49m\u001b[43mexecute\u001b[49m\u001b[43m(\u001b[49m\u001b[43mdriver_command\u001b[49m\u001b[43m,\u001b[49m\u001b[43m \u001b[49m\u001b[43mparams\u001b[49m\u001b[43m)\u001b[49m\n\u001b[32m    453\u001b[39m \u001b[38;5;28;01mif\u001b[39;00m response:\n\u001b[32m    454\u001b[39m     \u001b[38;5;28mself\u001b[39m.error_handler.check_response(response)\n",
      "\u001b[36mFile \u001b[39m\u001b[32mc:\\Users\\clayt\\OneDrive\\Área de Trabalho\\ambiente_virtual_\\venv\\Lib\\site-packages\\selenium\\webdriver\\remote\\remote_connection.py:404\u001b[39m, in \u001b[36mRemoteConnection.execute\u001b[39m\u001b[34m(self, command, params)\u001b[39m\n\u001b[32m    402\u001b[39m trimmed = \u001b[38;5;28mself\u001b[39m._trim_large_entries(params)\n\u001b[32m    403\u001b[39m LOGGER.debug(\u001b[33m\"\u001b[39m\u001b[38;5;132;01m%s\u001b[39;00m\u001b[33m \u001b[39m\u001b[38;5;132;01m%s\u001b[39;00m\u001b[33m \u001b[39m\u001b[38;5;132;01m%s\u001b[39;00m\u001b[33m\"\u001b[39m, command_info[\u001b[32m0\u001b[39m], url, \u001b[38;5;28mstr\u001b[39m(trimmed))\n\u001b[32m--> \u001b[39m\u001b[32m404\u001b[39m \u001b[38;5;28;01mreturn\u001b[39;00m \u001b[38;5;28;43mself\u001b[39;49m\u001b[43m.\u001b[49m\u001b[43m_request\u001b[49m\u001b[43m(\u001b[49m\u001b[43mcommand_info\u001b[49m\u001b[43m[\u001b[49m\u001b[32;43m0\u001b[39;49m\u001b[43m]\u001b[49m\u001b[43m,\u001b[49m\u001b[43m \u001b[49m\u001b[43murl\u001b[49m\u001b[43m,\u001b[49m\u001b[43m \u001b[49m\u001b[43mbody\u001b[49m\u001b[43m=\u001b[49m\u001b[43mdata\u001b[49m\u001b[43m)\u001b[49m\n",
      "\u001b[36mFile \u001b[39m\u001b[32mc:\\Users\\clayt\\OneDrive\\Área de Trabalho\\ambiente_virtual_\\venv\\Lib\\site-packages\\selenium\\webdriver\\remote\\remote_connection.py:428\u001b[39m, in \u001b[36mRemoteConnection._request\u001b[39m\u001b[34m(self, method, url, body)\u001b[39m\n\u001b[32m    425\u001b[39m     body = \u001b[38;5;28;01mNone\u001b[39;00m\n\u001b[32m    427\u001b[39m \u001b[38;5;28;01mif\u001b[39;00m \u001b[38;5;28mself\u001b[39m._client_config.keep_alive:\n\u001b[32m--> \u001b[39m\u001b[32m428\u001b[39m     response = \u001b[38;5;28;43mself\u001b[39;49m\u001b[43m.\u001b[49m\u001b[43m_conn\u001b[49m\u001b[43m.\u001b[49m\u001b[43mrequest\u001b[49m\u001b[43m(\u001b[49m\u001b[43mmethod\u001b[49m\u001b[43m,\u001b[49m\u001b[43m \u001b[49m\u001b[43murl\u001b[49m\u001b[43m,\u001b[49m\u001b[43m \u001b[49m\u001b[43mbody\u001b[49m\u001b[43m=\u001b[49m\u001b[43mbody\u001b[49m\u001b[43m,\u001b[49m\u001b[43m \u001b[49m\u001b[43mheaders\u001b[49m\u001b[43m=\u001b[49m\u001b[43mheaders\u001b[49m\u001b[43m,\u001b[49m\u001b[43m \u001b[49m\u001b[43mtimeout\u001b[49m\u001b[43m=\u001b[49m\u001b[38;5;28;43mself\u001b[39;49m\u001b[43m.\u001b[49m\u001b[43m_client_config\u001b[49m\u001b[43m.\u001b[49m\u001b[43mtimeout\u001b[49m\u001b[43m)\u001b[49m\n\u001b[32m    429\u001b[39m     statuscode = response.status\n\u001b[32m    430\u001b[39m \u001b[38;5;28;01melse\u001b[39;00m:\n",
      "\u001b[36mFile \u001b[39m\u001b[32mc:\\Users\\clayt\\OneDrive\\Área de Trabalho\\ambiente_virtual_\\venv\\Lib\\site-packages\\urllib3\\_request_methods.py:143\u001b[39m, in \u001b[36mRequestMethods.request\u001b[39m\u001b[34m(self, method, url, body, fields, headers, json, **urlopen_kw)\u001b[39m\n\u001b[32m    135\u001b[39m     \u001b[38;5;28;01mreturn\u001b[39;00m \u001b[38;5;28mself\u001b[39m.request_encode_url(\n\u001b[32m    136\u001b[39m         method,\n\u001b[32m    137\u001b[39m         url,\n\u001b[32m   (...)\u001b[39m\u001b[32m    140\u001b[39m         **urlopen_kw,\n\u001b[32m    141\u001b[39m     )\n\u001b[32m    142\u001b[39m \u001b[38;5;28;01melse\u001b[39;00m:\n\u001b[32m--> \u001b[39m\u001b[32m143\u001b[39m     \u001b[38;5;28;01mreturn\u001b[39;00m \u001b[38;5;28;43mself\u001b[39;49m\u001b[43m.\u001b[49m\u001b[43mrequest_encode_body\u001b[49m\u001b[43m(\u001b[49m\n\u001b[32m    144\u001b[39m \u001b[43m        \u001b[49m\u001b[43mmethod\u001b[49m\u001b[43m,\u001b[49m\u001b[43m \u001b[49m\u001b[43murl\u001b[49m\u001b[43m,\u001b[49m\u001b[43m \u001b[49m\u001b[43mfields\u001b[49m\u001b[43m=\u001b[49m\u001b[43mfields\u001b[49m\u001b[43m,\u001b[49m\u001b[43m \u001b[49m\u001b[43mheaders\u001b[49m\u001b[43m=\u001b[49m\u001b[43mheaders\u001b[49m\u001b[43m,\u001b[49m\u001b[43m \u001b[49m\u001b[43m*\u001b[49m\u001b[43m*\u001b[49m\u001b[43murlopen_kw\u001b[49m\n\u001b[32m    145\u001b[39m \u001b[43m    \u001b[49m\u001b[43m)\u001b[49m\n",
      "\u001b[36mFile \u001b[39m\u001b[32mc:\\Users\\clayt\\OneDrive\\Área de Trabalho\\ambiente_virtual_\\venv\\Lib\\site-packages\\urllib3\\_request_methods.py:278\u001b[39m, in \u001b[36mRequestMethods.request_encode_body\u001b[39m\u001b[34m(self, method, url, fields, headers, encode_multipart, multipart_boundary, **urlopen_kw)\u001b[39m\n\u001b[32m    274\u001b[39m     extra_kw[\u001b[33m\"\u001b[39m\u001b[33mheaders\u001b[39m\u001b[33m\"\u001b[39m].setdefault(\u001b[33m\"\u001b[39m\u001b[33mContent-Type\u001b[39m\u001b[33m\"\u001b[39m, content_type)\n\u001b[32m    276\u001b[39m extra_kw.update(urlopen_kw)\n\u001b[32m--> \u001b[39m\u001b[32m278\u001b[39m \u001b[38;5;28;01mreturn\u001b[39;00m \u001b[38;5;28;43mself\u001b[39;49m\u001b[43m.\u001b[49m\u001b[43murlopen\u001b[49m\u001b[43m(\u001b[49m\u001b[43mmethod\u001b[49m\u001b[43m,\u001b[49m\u001b[43m \u001b[49m\u001b[43murl\u001b[49m\u001b[43m,\u001b[49m\u001b[43m \u001b[49m\u001b[43m*\u001b[49m\u001b[43m*\u001b[49m\u001b[43mextra_kw\u001b[49m\u001b[43m)\u001b[49m\n",
      "\u001b[36mFile \u001b[39m\u001b[32mc:\\Users\\clayt\\OneDrive\\Área de Trabalho\\ambiente_virtual_\\venv\\Lib\\site-packages\\urllib3\\poolmanager.py:459\u001b[39m, in \u001b[36mPoolManager.urlopen\u001b[39m\u001b[34m(self, method, url, redirect, **kw)\u001b[39m\n\u001b[32m    457\u001b[39m     response = conn.urlopen(method, url, **kw)\n\u001b[32m    458\u001b[39m \u001b[38;5;28;01melse\u001b[39;00m:\n\u001b[32m--> \u001b[39m\u001b[32m459\u001b[39m     response = \u001b[43mconn\u001b[49m\u001b[43m.\u001b[49m\u001b[43murlopen\u001b[49m\u001b[43m(\u001b[49m\u001b[43mmethod\u001b[49m\u001b[43m,\u001b[49m\u001b[43m \u001b[49m\u001b[43mu\u001b[49m\u001b[43m.\u001b[49m\u001b[43mrequest_uri\u001b[49m\u001b[43m,\u001b[49m\u001b[43m \u001b[49m\u001b[43m*\u001b[49m\u001b[43m*\u001b[49m\u001b[43mkw\u001b[49m\u001b[43m)\u001b[49m\n\u001b[32m    461\u001b[39m redirect_location = redirect \u001b[38;5;129;01mand\u001b[39;00m response.get_redirect_location()\n\u001b[32m    462\u001b[39m \u001b[38;5;28;01mif\u001b[39;00m \u001b[38;5;129;01mnot\u001b[39;00m redirect_location:\n",
      "\u001b[36mFile \u001b[39m\u001b[32mc:\\Users\\clayt\\OneDrive\\Área de Trabalho\\ambiente_virtual_\\venv\\Lib\\site-packages\\urllib3\\connectionpool.py:841\u001b[39m, in \u001b[36mHTTPConnectionPool.urlopen\u001b[39m\u001b[34m(self, method, url, body, headers, retries, redirect, assert_same_host, timeout, pool_timeout, release_conn, chunked, body_pos, preload_content, decode_content, **response_kw)\u001b[39m\n\u001b[32m    838\u001b[39m \u001b[38;5;28;01melif\u001b[39;00m \u001b[38;5;28misinstance\u001b[39m(new_e, (\u001b[38;5;167;01mOSError\u001b[39;00m, HTTPException)):\n\u001b[32m    839\u001b[39m     new_e = ProtocolError(\u001b[33m\"\u001b[39m\u001b[33mConnection aborted.\u001b[39m\u001b[33m\"\u001b[39m, new_e)\n\u001b[32m--> \u001b[39m\u001b[32m841\u001b[39m retries = \u001b[43mretries\u001b[49m\u001b[43m.\u001b[49m\u001b[43mincrement\u001b[49m\u001b[43m(\u001b[49m\n\u001b[32m    842\u001b[39m \u001b[43m    \u001b[49m\u001b[43mmethod\u001b[49m\u001b[43m,\u001b[49m\u001b[43m \u001b[49m\u001b[43murl\u001b[49m\u001b[43m,\u001b[49m\u001b[43m \u001b[49m\u001b[43merror\u001b[49m\u001b[43m=\u001b[49m\u001b[43mnew_e\u001b[49m\u001b[43m,\u001b[49m\u001b[43m \u001b[49m\u001b[43m_pool\u001b[49m\u001b[43m=\u001b[49m\u001b[38;5;28;43mself\u001b[39;49m\u001b[43m,\u001b[49m\u001b[43m \u001b[49m\u001b[43m_stacktrace\u001b[49m\u001b[43m=\u001b[49m\u001b[43msys\u001b[49m\u001b[43m.\u001b[49m\u001b[43mexc_info\u001b[49m\u001b[43m(\u001b[49m\u001b[43m)\u001b[49m\u001b[43m[\u001b[49m\u001b[32;43m2\u001b[39;49m\u001b[43m]\u001b[49m\n\u001b[32m    843\u001b[39m \u001b[43m\u001b[49m\u001b[43m)\u001b[49m\n\u001b[32m    844\u001b[39m retries.sleep()\n\u001b[32m    846\u001b[39m \u001b[38;5;66;03m# Keep track of the error for the retry warning.\u001b[39;00m\n",
      "\u001b[36mFile \u001b[39m\u001b[32mc:\\Users\\clayt\\OneDrive\\Área de Trabalho\\ambiente_virtual_\\venv\\Lib\\site-packages\\urllib3\\util\\retry.py:474\u001b[39m, in \u001b[36mRetry.increment\u001b[39m\u001b[34m(self, method, url, response, error, _pool, _stacktrace)\u001b[39m\n\u001b[32m    471\u001b[39m \u001b[38;5;28;01melif\u001b[39;00m error \u001b[38;5;129;01mand\u001b[39;00m \u001b[38;5;28mself\u001b[39m._is_read_error(error):\n\u001b[32m    472\u001b[39m     \u001b[38;5;66;03m# Read retry?\u001b[39;00m\n\u001b[32m    473\u001b[39m     \u001b[38;5;28;01mif\u001b[39;00m read \u001b[38;5;129;01mis\u001b[39;00m \u001b[38;5;28;01mFalse\u001b[39;00m \u001b[38;5;129;01mor\u001b[39;00m method \u001b[38;5;129;01mis\u001b[39;00m \u001b[38;5;28;01mNone\u001b[39;00m \u001b[38;5;129;01mor\u001b[39;00m \u001b[38;5;129;01mnot\u001b[39;00m \u001b[38;5;28mself\u001b[39m._is_method_retryable(method):\n\u001b[32m--> \u001b[39m\u001b[32m474\u001b[39m         \u001b[38;5;28;01mraise\u001b[39;00m \u001b[43mreraise\u001b[49m\u001b[43m(\u001b[49m\u001b[38;5;28;43mtype\u001b[39;49m\u001b[43m(\u001b[49m\u001b[43merror\u001b[49m\u001b[43m)\u001b[49m\u001b[43m,\u001b[49m\u001b[43m \u001b[49m\u001b[43merror\u001b[49m\u001b[43m,\u001b[49m\u001b[43m \u001b[49m\u001b[43m_stacktrace\u001b[49m\u001b[43m)\u001b[49m\n\u001b[32m    475\u001b[39m     \u001b[38;5;28;01melif\u001b[39;00m read \u001b[38;5;129;01mis\u001b[39;00m \u001b[38;5;129;01mnot\u001b[39;00m \u001b[38;5;28;01mNone\u001b[39;00m:\n\u001b[32m    476\u001b[39m         read -= \u001b[32m1\u001b[39m\n",
      "\u001b[36mFile \u001b[39m\u001b[32mc:\\Users\\clayt\\OneDrive\\Área de Trabalho\\ambiente_virtual_\\venv\\Lib\\site-packages\\urllib3\\util\\util.py:38\u001b[39m, in \u001b[36mreraise\u001b[39m\u001b[34m(tp, value, tb)\u001b[39m\n\u001b[32m     36\u001b[39m \u001b[38;5;28;01mtry\u001b[39;00m:\n\u001b[32m     37\u001b[39m     \u001b[38;5;28;01mif\u001b[39;00m value.__traceback__ \u001b[38;5;129;01mis\u001b[39;00m \u001b[38;5;129;01mnot\u001b[39;00m tb:\n\u001b[32m---> \u001b[39m\u001b[32m38\u001b[39m         \u001b[38;5;28;01mraise\u001b[39;00m value.with_traceback(tb)\n\u001b[32m     39\u001b[39m     \u001b[38;5;28;01mraise\u001b[39;00m value\n\u001b[32m     40\u001b[39m \u001b[38;5;28;01mfinally\u001b[39;00m:\n",
      "\u001b[36mFile \u001b[39m\u001b[32mc:\\Users\\clayt\\OneDrive\\Área de Trabalho\\ambiente_virtual_\\venv\\Lib\\site-packages\\urllib3\\connectionpool.py:787\u001b[39m, in \u001b[36mHTTPConnectionPool.urlopen\u001b[39m\u001b[34m(self, method, url, body, headers, retries, redirect, assert_same_host, timeout, pool_timeout, release_conn, chunked, body_pos, preload_content, decode_content, **response_kw)\u001b[39m\n\u001b[32m    784\u001b[39m response_conn = conn \u001b[38;5;28;01mif\u001b[39;00m \u001b[38;5;129;01mnot\u001b[39;00m release_conn \u001b[38;5;28;01melse\u001b[39;00m \u001b[38;5;28;01mNone\u001b[39;00m\n\u001b[32m    786\u001b[39m \u001b[38;5;66;03m# Make the request on the HTTPConnection object\u001b[39;00m\n\u001b[32m--> \u001b[39m\u001b[32m787\u001b[39m response = \u001b[38;5;28;43mself\u001b[39;49m\u001b[43m.\u001b[49m\u001b[43m_make_request\u001b[49m\u001b[43m(\u001b[49m\n\u001b[32m    788\u001b[39m \u001b[43m    \u001b[49m\u001b[43mconn\u001b[49m\u001b[43m,\u001b[49m\n\u001b[32m    789\u001b[39m \u001b[43m    \u001b[49m\u001b[43mmethod\u001b[49m\u001b[43m,\u001b[49m\n\u001b[32m    790\u001b[39m \u001b[43m    \u001b[49m\u001b[43murl\u001b[49m\u001b[43m,\u001b[49m\n\u001b[32m    791\u001b[39m \u001b[43m    \u001b[49m\u001b[43mtimeout\u001b[49m\u001b[43m=\u001b[49m\u001b[43mtimeout_obj\u001b[49m\u001b[43m,\u001b[49m\n\u001b[32m    792\u001b[39m \u001b[43m    \u001b[49m\u001b[43mbody\u001b[49m\u001b[43m=\u001b[49m\u001b[43mbody\u001b[49m\u001b[43m,\u001b[49m\n\u001b[32m    793\u001b[39m \u001b[43m    \u001b[49m\u001b[43mheaders\u001b[49m\u001b[43m=\u001b[49m\u001b[43mheaders\u001b[49m\u001b[43m,\u001b[49m\n\u001b[32m    794\u001b[39m \u001b[43m    \u001b[49m\u001b[43mchunked\u001b[49m\u001b[43m=\u001b[49m\u001b[43mchunked\u001b[49m\u001b[43m,\u001b[49m\n\u001b[32m    795\u001b[39m \u001b[43m    \u001b[49m\u001b[43mretries\u001b[49m\u001b[43m=\u001b[49m\u001b[43mretries\u001b[49m\u001b[43m,\u001b[49m\n\u001b[32m    796\u001b[39m \u001b[43m    \u001b[49m\u001b[43mresponse_conn\u001b[49m\u001b[43m=\u001b[49m\u001b[43mresponse_conn\u001b[49m\u001b[43m,\u001b[49m\n\u001b[32m    797\u001b[39m \u001b[43m    \u001b[49m\u001b[43mpreload_content\u001b[49m\u001b[43m=\u001b[49m\u001b[43mpreload_content\u001b[49m\u001b[43m,\u001b[49m\n\u001b[32m    798\u001b[39m \u001b[43m    \u001b[49m\u001b[43mdecode_content\u001b[49m\u001b[43m=\u001b[49m\u001b[43mdecode_content\u001b[49m\u001b[43m,\u001b[49m\n\u001b[32m    799\u001b[39m \u001b[43m    \u001b[49m\u001b[43m*\u001b[49m\u001b[43m*\u001b[49m\u001b[43mresponse_kw\u001b[49m\u001b[43m,\u001b[49m\n\u001b[32m    800\u001b[39m \u001b[43m\u001b[49m\u001b[43m)\u001b[49m\n\u001b[32m    802\u001b[39m \u001b[38;5;66;03m# Everything went great!\u001b[39;00m\n\u001b[32m    803\u001b[39m clean_exit = \u001b[38;5;28;01mTrue\u001b[39;00m\n",
      "\u001b[36mFile \u001b[39m\u001b[32mc:\\Users\\clayt\\OneDrive\\Área de Trabalho\\ambiente_virtual_\\venv\\Lib\\site-packages\\urllib3\\connectionpool.py:534\u001b[39m, in \u001b[36mHTTPConnectionPool._make_request\u001b[39m\u001b[34m(self, conn, method, url, body, headers, retries, timeout, chunked, response_conn, preload_content, decode_content, enforce_content_length)\u001b[39m\n\u001b[32m    532\u001b[39m \u001b[38;5;66;03m# Receive the response from the server\u001b[39;00m\n\u001b[32m    533\u001b[39m \u001b[38;5;28;01mtry\u001b[39;00m:\n\u001b[32m--> \u001b[39m\u001b[32m534\u001b[39m     response = \u001b[43mconn\u001b[49m\u001b[43m.\u001b[49m\u001b[43mgetresponse\u001b[49m\u001b[43m(\u001b[49m\u001b[43m)\u001b[49m\n\u001b[32m    535\u001b[39m \u001b[38;5;28;01mexcept\u001b[39;00m (BaseSSLError, \u001b[38;5;167;01mOSError\u001b[39;00m) \u001b[38;5;28;01mas\u001b[39;00m e:\n\u001b[32m    536\u001b[39m     \u001b[38;5;28mself\u001b[39m._raise_timeout(err=e, url=url, timeout_value=read_timeout)\n",
      "\u001b[36mFile \u001b[39m\u001b[32mc:\\Users\\clayt\\OneDrive\\Área de Trabalho\\ambiente_virtual_\\venv\\Lib\\site-packages\\urllib3\\connection.py:565\u001b[39m, in \u001b[36mHTTPConnection.getresponse\u001b[39m\u001b[34m(self)\u001b[39m\n\u001b[32m    562\u001b[39m _shutdown = \u001b[38;5;28mgetattr\u001b[39m(\u001b[38;5;28mself\u001b[39m.sock, \u001b[33m\"\u001b[39m\u001b[33mshutdown\u001b[39m\u001b[33m\"\u001b[39m, \u001b[38;5;28;01mNone\u001b[39;00m)\n\u001b[32m    564\u001b[39m \u001b[38;5;66;03m# Get the response from http.client.HTTPConnection\u001b[39;00m\n\u001b[32m--> \u001b[39m\u001b[32m565\u001b[39m httplib_response = \u001b[38;5;28;43msuper\u001b[39;49m\u001b[43m(\u001b[49m\u001b[43m)\u001b[49m\u001b[43m.\u001b[49m\u001b[43mgetresponse\u001b[49m\u001b[43m(\u001b[49m\u001b[43m)\u001b[49m\n\u001b[32m    567\u001b[39m \u001b[38;5;28;01mtry\u001b[39;00m:\n\u001b[32m    568\u001b[39m     assert_header_parsing(httplib_response.msg)\n",
      "\u001b[36mFile \u001b[39m\u001b[32m~\\anaconda3\\Lib\\http\\client.py:1430\u001b[39m, in \u001b[36mHTTPConnection.getresponse\u001b[39m\u001b[34m(self)\u001b[39m\n\u001b[32m   1428\u001b[39m \u001b[38;5;28;01mtry\u001b[39;00m:\n\u001b[32m   1429\u001b[39m     \u001b[38;5;28;01mtry\u001b[39;00m:\n\u001b[32m-> \u001b[39m\u001b[32m1430\u001b[39m         \u001b[43mresponse\u001b[49m\u001b[43m.\u001b[49m\u001b[43mbegin\u001b[49m\u001b[43m(\u001b[49m\u001b[43m)\u001b[49m\n\u001b[32m   1431\u001b[39m     \u001b[38;5;28;01mexcept\u001b[39;00m \u001b[38;5;167;01mConnectionError\u001b[39;00m:\n\u001b[32m   1432\u001b[39m         \u001b[38;5;28mself\u001b[39m.close()\n",
      "\u001b[36mFile \u001b[39m\u001b[32m~\\anaconda3\\Lib\\http\\client.py:331\u001b[39m, in \u001b[36mHTTPResponse.begin\u001b[39m\u001b[34m(self)\u001b[39m\n\u001b[32m    329\u001b[39m \u001b[38;5;66;03m# read until we get a non-100 response\u001b[39;00m\n\u001b[32m    330\u001b[39m \u001b[38;5;28;01mwhile\u001b[39;00m \u001b[38;5;28;01mTrue\u001b[39;00m:\n\u001b[32m--> \u001b[39m\u001b[32m331\u001b[39m     version, status, reason = \u001b[38;5;28;43mself\u001b[39;49m\u001b[43m.\u001b[49m\u001b[43m_read_status\u001b[49m\u001b[43m(\u001b[49m\u001b[43m)\u001b[49m\n\u001b[32m    332\u001b[39m     \u001b[38;5;28;01mif\u001b[39;00m status != CONTINUE:\n\u001b[32m    333\u001b[39m         \u001b[38;5;28;01mbreak\u001b[39;00m\n",
      "\u001b[36mFile \u001b[39m\u001b[32m~\\anaconda3\\Lib\\http\\client.py:292\u001b[39m, in \u001b[36mHTTPResponse._read_status\u001b[39m\u001b[34m(self)\u001b[39m\n\u001b[32m    291\u001b[39m \u001b[38;5;28;01mdef\u001b[39;00m\u001b[38;5;250m \u001b[39m\u001b[34m_read_status\u001b[39m(\u001b[38;5;28mself\u001b[39m):\n\u001b[32m--> \u001b[39m\u001b[32m292\u001b[39m     line = \u001b[38;5;28mstr\u001b[39m(\u001b[38;5;28;43mself\u001b[39;49m\u001b[43m.\u001b[49m\u001b[43mfp\u001b[49m\u001b[43m.\u001b[49m\u001b[43mreadline\u001b[49m\u001b[43m(\u001b[49m\u001b[43m_MAXLINE\u001b[49m\u001b[43m \u001b[49m\u001b[43m+\u001b[49m\u001b[43m \u001b[49m\u001b[32;43m1\u001b[39;49m\u001b[43m)\u001b[49m, \u001b[33m\"\u001b[39m\u001b[33miso-8859-1\u001b[39m\u001b[33m\"\u001b[39m)\n\u001b[32m    293\u001b[39m     \u001b[38;5;28;01mif\u001b[39;00m \u001b[38;5;28mlen\u001b[39m(line) > _MAXLINE:\n\u001b[32m    294\u001b[39m         \u001b[38;5;28;01mraise\u001b[39;00m LineTooLong(\u001b[33m\"\u001b[39m\u001b[33mstatus line\u001b[39m\u001b[33m\"\u001b[39m)\n",
      "\u001b[36mFile \u001b[39m\u001b[32m~\\anaconda3\\Lib\\socket.py:719\u001b[39m, in \u001b[36mSocketIO.readinto\u001b[39m\u001b[34m(self, b)\u001b[39m\n\u001b[32m    717\u001b[39m     \u001b[38;5;28;01mraise\u001b[39;00m \u001b[38;5;167;01mOSError\u001b[39;00m(\u001b[33m\"\u001b[39m\u001b[33mcannot read from timed out object\u001b[39m\u001b[33m\"\u001b[39m)\n\u001b[32m    718\u001b[39m \u001b[38;5;28;01mtry\u001b[39;00m:\n\u001b[32m--> \u001b[39m\u001b[32m719\u001b[39m     \u001b[38;5;28;01mreturn\u001b[39;00m \u001b[38;5;28;43mself\u001b[39;49m\u001b[43m.\u001b[49m\u001b[43m_sock\u001b[49m\u001b[43m.\u001b[49m\u001b[43mrecv_into\u001b[49m\u001b[43m(\u001b[49m\u001b[43mb\u001b[49m\u001b[43m)\u001b[49m\n\u001b[32m    720\u001b[39m \u001b[38;5;28;01mexcept\u001b[39;00m timeout:\n\u001b[32m    721\u001b[39m     \u001b[38;5;28mself\u001b[39m._timeout_occurred = \u001b[38;5;28;01mTrue\u001b[39;00m\n",
      "\u001b[31mProtocolError\u001b[39m: ('Connection aborted.', ConnectionResetError(10054, 'Foi forçado o cancelamento de uma conexão existente pelo host remoto', None, 10054, None))"
     ]
    }
   ],
   "source": [
    "games = capturar_dados_dos_produtos()\n",
    "games"
   ]
  },
  {
   "cell_type": "code",
   "execution_count": null,
   "id": "d9f980c5",
   "metadata": {},
   "outputs": [],
   "source": [
    "acessar_produtos(categoria='Notebooks')"
   ]
  },
  {
   "cell_type": "code",
   "execution_count": null,
   "id": "b5da6e8a",
   "metadata": {},
   "outputs": [],
   "source": [
    "preencher_filtros(\n",
    "    frete_gratis = False,\n",
    "    parcelamento_sem_juros = True,\n",
    "    envio_internacional = False,\n",
    "    em_oferta = True,\n",
    "    preço_minimo = 1234,\n",
    "    preço_maximo = 7896,\n",
    "    nota = 4,\n",
    ")"
   ]
  },
  {
   "cell_type": "code",
   "execution_count": null,
   "id": "3281743e",
   "metadata": {},
   "outputs": [],
   "source": [
    "notebooks = capturar_dados_dos_produtos()\n",
    "notebooks"
   ]
  }
 ],
 "metadata": {
  "kernelspec": {
   "display_name": "venv",
   "language": "python",
   "name": "python3"
  },
  "language_info": {
   "codemirror_mode": {
    "name": "ipython",
    "version": 3
   },
   "file_extension": ".py",
   "mimetype": "text/x-python",
   "name": "python",
   "nbconvert_exporter": "python",
   "pygments_lexer": "ipython3",
   "version": "3.13.5"
  }
 },
 "nbformat": 4,
 "nbformat_minor": 5
}
