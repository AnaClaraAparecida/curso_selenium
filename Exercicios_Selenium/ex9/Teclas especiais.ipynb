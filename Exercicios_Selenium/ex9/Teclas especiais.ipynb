{
 "cells": [
  {
   "cell_type": "markdown",
   "id": "7c54dbbd",
   "metadata": {},
   "source": [
    "# aula_50 - Teclas especiais "
   ]
  },
  {
   "cell_type": "code",
   "execution_count": null,
   "id": "364d276d",
   "metadata": {
    "vscode": {
     "languageId": "plaintext"
    }
   },
   "outputs": [],
   "source": [
    "from selenium.webdriver.common.by import By\n",
    "from selenium import webdriver\n",
    "from selenium.webdriver.support.ui import Select\n",
    "from selenium.webdriver.support.wait import WebDriverWait\n",
    "from selenium.webdriver.support import expected_conditions as EC\n",
    "from selenium.webdriver.common.action_chains import ActionChains\n",
    "from selenium.webdriver.common.keys import Keys\n",
    "\n",
    "\n",
    "driver = webdriver.Chrome()\n",
    "driver.get(\"https://curso-web-scraping.pages.dev/#/exemplo/9\")"
   ]
  },
  {
   "cell_type": "code",
   "execution_count": null,
   "id": "a4f98eff",
   "metadata": {
    "vscode": {
     "languageId": "plaintext"
    }
   },
   "outputs": [],
   "source": [
    "ActionChains(driver).send_keys(Keys.CONTROL).perform()"
   ]
  },
  {
   "cell_type": "code",
   "execution_count": null,
   "id": "059435a5",
   "metadata": {
    "vscode": {
     "languageId": "plaintext"
    }
   },
   "outputs": [],
   "source": [
    "ActionChains(driver).send_keys(Keys.ALT).perform()"
   ]
  },
  {
   "cell_type": "code",
   "execution_count": null,
   "id": "949b3314",
   "metadata": {
    "vscode": {
     "languageId": "plaintext"
    }
   },
   "outputs": [],
   "source": [
    "ActionChains(driver).send_keys(Keys.SHIFT).perform()"
   ]
  },
  {
   "cell_type": "code",
   "execution_count": null,
   "id": "c96119bb",
   "metadata": {
    "vscode": {
     "languageId": "plaintext"
    }
   },
   "outputs": [],
   "source": [
    "ActionChains(driver).send_keys(Keys.META).perform()"
   ]
  },
  {
   "cell_type": "code",
   "execution_count": null,
   "id": "7dd1e12a",
   "metadata": {
    "vscode": {
     "languageId": "plaintext"
    }
   },
   "outputs": [],
   "source": [
    "ActionChains(driver).send_keys(Keys.COMMAND).perform()"
   ]
  },
  {
   "cell_type": "code",
   "execution_count": null,
   "id": "b72f8dad",
   "metadata": {
    "vscode": {
     "languageId": "plaintext"
    }
   },
   "outputs": [],
   "source": [
    "titulo = driver.find_element(By.CSS_SELECTOR, 'main div.title')\n",
    "ActionChains(driver).double_click(titulo).click(titulo).perform()"
   ]
  },
  {
   "cell_type": "code",
   "execution_count": null,
   "id": "faa39de1",
   "metadata": {
    "vscode": {
     "languageId": "plaintext"
    }
   },
   "outputs": [],
   "source": [
    "(\n",
    "    ActionChains(driver)\n",
    "    .key_down(Keys.CONTROL)\n",
    "    .send_keys('c')\n",
    "    .key_up(Keys.CONTROL)\n",
    "    .perform()\n",
    ")"
   ]
  },
  {
   "cell_type": "code",
   "execution_count": null,
   "id": "0dbfb6ea",
   "metadata": {
    "vscode": {
     "languageId": "plaintext"
    }
   },
   "outputs": [],
   "source": [
    "dir(Keys)"
   ]
  },
  {
   "cell_type": "code",
   "execution_count": null,
   "id": "ce3c78f3",
   "metadata": {
    "vscode": {
     "languageId": "plaintext"
    }
   },
   "outputs": [],
   "source": [
    "(\n",
    "    ActionChains(driver)\n",
    "    # matematica\n",
    "    .send_keys(Keys.ADD)\n",
    "    .send_keys(Keys.SUBTRACT)\n",
    "    .send_keys(Keys.DIVIDE)\n",
    "    .send_keys(Keys.MULTIPLY)\n",
    "    .send_keys(Keys.EQUALS)\n",
    "\n",
    "    # teclas de contexto\n",
    "    .send_keys(Keys.SEMICOLON)\n",
    "    .send_keys(Keys.SEPARATOR)\n",
    "    .send_keys(Keys.SPACE)\n",
    "    .send_keys(Keys.TAB)\n",
    "    .send_keys(Keys.ESCAPE)\n",
    "\n",
    "    .send_keys('1', '2', '3')\n",
    "    .perform()\n",
    ")"
   ]
  }
 ],
 "metadata": {
  "language_info": {
   "name": "python"
  }
 },
 "nbformat": 4,
 "nbformat_minor": 5
}
