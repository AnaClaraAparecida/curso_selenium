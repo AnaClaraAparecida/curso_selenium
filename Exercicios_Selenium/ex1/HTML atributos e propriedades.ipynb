{
 "cells": [
  {
   "cell_type": "markdown",
   "id": "a5480cb6",
   "metadata": {},
   "source": [
    "# aula_28 - atributos e propriedades HTML"
   ]
  },
  {
   "cell_type": "code",
   "execution_count": null,
   "id": "23d4fa1f",
   "metadata": {
    "vscode": {
     "languageId": "plaintext"
    }
   },
   "outputs": [],
   "source": [
    "attr = driver.find_element(By.ID, 'zodiac').get_attribute('id')\n",
    "prop = driver.find_element(By.ID, 'zodiac').get_property('id')\n",
    "\n",
    "attr, prop"
   ]
  },
  {
   "cell_type": "code",
   "execution_count": null,
   "id": "2fe42178",
   "metadata": {
    "vscode": {
     "languageId": "plaintext"
    }
   },
   "outputs": [],
   "source": [
    "attr = driver.find_element(By.ID, 'zodiac').get_attribute('class')\n",
    "prop = driver.find_element(By.ID, 'zodiac').get_property('className')\n",
    "\n",
    "attr, prop"
   ]
  },
  {
   "cell_type": "code",
   "execution_count": null,
   "id": "eaa051a4",
   "metadata": {
    "vscode": {
     "languageId": "plaintext"
    }
   },
   "outputs": [],
   "source": [
    "attr = driver.find_element(By.ID, 'zodiac').get_attribute('data-optional')\n",
    "prop = driver.find_element(By.ID, 'zodiac').get_property('dataset')['optional']\n",
    "\n",
    "attr, prop"
   ]
  }
 ],
 "metadata": {
  "language_info": {
   "name": "python"
  }
 },
 "nbformat": 4,
 "nbformat_minor": 5
}
