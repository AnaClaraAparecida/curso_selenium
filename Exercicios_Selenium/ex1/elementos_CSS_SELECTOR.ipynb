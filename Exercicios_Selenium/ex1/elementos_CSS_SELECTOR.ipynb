{
 "cells": [
  {
   "cell_type": "markdown",
   "id": "e92d19bd",
   "metadata": {},
   "source": [
    "# aula_24 - CSS_SELECTOR"
   ]
  },
  {
   "cell_type": "code",
   "execution_count": null,
   "id": "066cf5de",
   "metadata": {
    "vscode": {
     "languageId": "plaintext"
    }
   },
   "outputs": [],
   "source": [
    "from selenium.webdriver.common.by import By\n",
    "from selenium import webdriver\n",
    "\n",
    "driver = webdriver.Chrome()\n",
    "driver.get(\"https://curso-web-scraping.pages.dev/#/esmplo/1\")"
   ]
  },
  {
   "cell_type": "markdown",
   "id": "1e1e03a6",
   "metadata": {},
   "source": [
    "1. ID"
   ]
  },
  {
   "cell_type": "code",
   "execution_count": null,
   "id": "ca899f2e",
   "metadata": {
    "vscode": {
     "languageId": "plaintext"
    }
   },
   "outputs": [],
   "source": [
    "driver.find_element(By.CSS_SELECTOR, 'div#social')"
   ]
  },
  {
   "cell_type": "markdown",
   "id": "0059cdb1",
   "metadata": {},
   "source": [
    "2. CLASS"
   ]
  },
  {
   "cell_type": "code",
   "execution_count": null,
   "id": "efbf6a24",
   "metadata": {
    "vscode": {
     "languageId": "plaintext"
    }
   },
   "outputs": [],
   "source": [
    "driver.find_elements(By.CSS_SELECTOR, 'input.styled-input.optional-info')"
   ]
  },
  {
   "cell_type": "markdown",
   "id": "e19d7a19",
   "metadata": {},
   "source": [
    "3. PARENTESCO"
   ]
  },
  {
   "cell_type": "code",
   "execution_count": null,
   "id": "b55dad09",
   "metadata": {
    "vscode": {
     "languageId": "plaintext"
    }
   },
   "outputs": [],
   "source": [
    "driver.find_elements(By.CSS_SELECTOR, 'div.main-container input.optional-info')"
   ]
  },
  {
   "cell_type": "code",
   "execution_count": null,
   "id": "db4789db",
   "metadata": {
    "vscode": {
     "languageId": "plaintext"
    }
   },
   "outputs": [],
   "source": [
    "driver.find_elements(By.CSS_SELECTOR, 'div#social > a')"
   ]
  },
  {
   "cell_type": "code",
   "execution_count": null,
   "id": "df688c33",
   "metadata": {
    "vscode": {
     "languageId": "plaintext"
    }
   },
   "outputs": [],
   "source": [
    "main_container = driver.find_elements(By.CSS_SELECTOR, 'div.main-container *')"
   ]
  },
  {
   "cell_type": "code",
   "execution_count": null,
   "id": "72cc2b48",
   "metadata": {
    "vscode": {
     "languageId": "plaintext"
    }
   },
   "outputs": [],
   "source": [
    "main_container = driver.find_elements(By.CSS_SELECTOR, 'div#social > *')"
   ]
  },
  {
   "cell_type": "code",
   "execution_count": null,
   "id": "c432427d",
   "metadata": {
    "vscode": {
     "languageId": "plaintext"
    }
   },
   "outputs": [],
   "source": [
    "for mc in main_container:\n",
    "    print(mc.tag_name, '=>', mc.get_property('className'))"
   ]
  },
  {
   "cell_type": "markdown",
   "id": "0368fe6d",
   "metadata": {},
   "source": [
    "4. PROPRIEDADES E ATRIBUTOS"
   ]
  },
  {
   "cell_type": "code",
   "execution_count": null,
   "id": "2f636a5a",
   "metadata": {
    "vscode": {
     "languageId": "plaintext"
    }
   },
   "outputs": [],
   "source": [
    "driver.find_element(By.CSS_SELECTOR, 'input[name=\"fullname\"]')"
   ]
  },
  {
   "cell_type": "code",
   "execution_count": null,
   "id": "bf9ba4a5",
   "metadata": {
    "vscode": {
     "languageId": "plaintext"
    }
   },
   "outputs": [],
   "source": [
    "driver.find_elements(By.CSS_SELECTOR, 'a[href=\"#\"]')"
   ]
  },
  {
   "cell_type": "code",
   "execution_count": null,
   "id": "16d1ace5",
   "metadata": {
    "vscode": {
     "languageId": "plaintext"
    }
   },
   "outputs": [],
   "source": [
    "driver.find_elements(By.CSS_SELECTOR, 'input[disabled][data-optional=\"true\"]')"
   ]
  },
  {
   "cell_type": "markdown",
   "id": "ef84e4ae",
   "metadata": {},
   "source": [
    "5. SUFIXO"
   ]
  },
  {
   "cell_type": "code",
   "execution_count": null,
   "id": "19b285c7",
   "metadata": {
    "vscode": {
     "languageId": "plaintext"
    }
   },
   "outputs": [],
   "source": [
    "driver.find_elements(By.CSS_SELECTOR, 'input[value$=\"ino\"]')"
   ]
  },
  {
   "cell_type": "code",
   "execution_count": null,
   "id": "8726393c",
   "metadata": {
    "vscode": {
     "languageId": "plaintext"
    }
   },
   "outputs": [],
   "source": [
    "driver.find_elements(By.CSS_SELECTOR, '[class$=\"gram\"]')\n",
    "\n",
    "for g in gram:\n",
    "    valor = g.get_attribute('class')\n",
    "    print(valor)"
   ]
  },
  {
   "cell_type": "markdown",
   "id": "58dcc15a",
   "metadata": {},
   "source": [
    "6. PREFIXO"
   ]
  },
  {
   "cell_type": "code",
   "execution_count": null,
   "id": "77738c9a",
   "metadata": {
    "vscode": {
     "languageId": "plaintext"
    }
   },
   "outputs": [],
   "source": [
    "driver.find_elements(By.CSS_SELECTOR, '[name^=\"user\"]')"
   ]
  },
  {
   "cell_type": "code",
   "execution_count": null,
   "id": "fee1c8ab",
   "metadata": {
    "vscode": {
     "languageId": "plaintext"
    }
   },
   "outputs": [],
   "source": [
    "text_class = driver.find_elements(By.CSS_SELECTOR, '[class|=\"text\"]')\n",
    "\n",
    "for tc in text_class:\n",
    "    print(tc.tag_name, '=>', tc.get_attribute('class'))"
   ]
  },
  {
   "cell_type": "markdown",
   "id": "37b79b49",
   "metadata": {},
   "source": [
    "7. SUBSTRING"
   ]
  },
  {
   "cell_type": "code",
   "execution_count": null,
   "id": "49d67f1e",
   "metadata": {
    "vscode": {
     "languageId": "plaintext"
    }
   },
   "outputs": [],
   "source": [
    "contains_e = driver.find_elements(By.CSS_SELECTOR, 'input[id*=\"e\"]')\n",
    "\n",
    "for ce in contains_e:\n",
    "    valor = ce.get_property('value')\n",
    "    print(valor)"
   ]
  }
 ],
 "metadata": {
  "language_info": {
   "name": "python"
  }
 },
 "nbformat": 4,
 "nbformat_minor": 5
}
