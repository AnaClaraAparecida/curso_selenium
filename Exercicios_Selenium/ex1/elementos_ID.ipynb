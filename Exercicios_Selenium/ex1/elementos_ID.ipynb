{
 "cells": [
  {
   "cell_type": "markdown",
   "id": "e282c5af",
   "metadata": {},
   "source": [
    "# aula_19 - elementos pelo ID"
   ]
  },
  {
   "cell_type": "code",
   "execution_count": null,
   "id": "77324673",
   "metadata": {
    "vscode": {
     "languageId": "plaintext"
    }
   },
   "outputs": [],
   "source": [
    "from selenium import webdriver"
   ]
  },
  {
   "cell_type": "code",
   "execution_count": null,
   "id": "6b838ebf",
   "metadata": {
    "vscode": {
     "languageId": "plaintext"
    }
   },
   "outputs": [],
   "source": [
    "driver = webdriver.Chrome()"
   ]
  },
  {
   "cell_type": "code",
   "execution_count": null,
   "id": "aeebd8ea",
   "metadata": {
    "vscode": {
     "languageId": "plaintext"
    }
   },
   "outputs": [],
   "source": [
    "driver.get(\"https://curso-web-scraping.pages.dev/#/esmplo/1\")"
   ]
  },
  {
   "cell_type": "code",
   "execution_count": null,
   "id": "71cbd43d",
   "metadata": {
    "vscode": {
     "languageId": "plaintext"
    }
   },
   "outputs": [],
   "source": [
    "from selenium.webdriver.common.by import By"
   ]
  },
  {
   "cell_type": "code",
   "execution_count": null,
   "id": "7b121242",
   "metadata": {
    "vscode": {
     "languageId": "plaintext"
    }
   },
   "outputs": [],
   "source": [
    "driver.find_element(By.ID, \"user\").get_property(\"className\")"
   ]
  },
  {
   "cell_type": "code",
   "execution_count": null,
   "id": "373101c6",
   "metadata": {
    "vscode": {
     "languageId": "plaintext"
    }
   },
   "outputs": [],
   "source": [
    "nome = driver.find_element(By.ID, \"user\").get_property(\"value\")\n",
    "profissao = driver.find_element(By.ID, \"role\").get_property(\"value\")\n",
    "signo = driver.find_element(By.ID, \"zodiac\").get_property(\"value\")\n",
    "genero = driver.find_element(By.ID, \"gender\").get_property(\"value\")\n",
    "\n",
    "print(f'''\n",
    "    {nome=},\n",
    "    {profissao=},\n",
    "    {signo=},\n",
    "    {genero=}\n",
    "''')"
   ]
  }
 ],
 "metadata": {
  "language_info": {
   "name": "python"
  }
 },
 "nbformat": 4,
 "nbformat_minor": 5
}
