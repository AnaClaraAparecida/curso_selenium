{
 "cells": [
  {
   "cell_type": "markdown",
   "id": "0400b35f",
   "metadata": {},
   "source": [
    "# aula_23 - elementos pelo CLASS_NAME"
   ]
  },
  {
   "cell_type": "code",
   "execution_count": null,
   "id": "6e56da11",
   "metadata": {
    "vscode": {
     "languageId": "plaintext"
    }
   },
   "outputs": [],
   "source": [
    "from selenium.webdriver.common.by import By\n",
    "from selenium import webdriver\n",
    "\n",
    "driver = webdriver.Chrome()\n",
    "driver.get(\"https://curso-web-scraping.pages.dev/#/esmplo/1\")"
   ]
  },
  {
   "cell_type": "code",
   "execution_count": null,
   "id": "e5af3f55",
   "metadata": {
    "vscode": {
     "languageId": "plaintext"
    }
   },
   "outputs": [],
   "source": [
    "styled_input = driver.find_elements(By.CLASS_NAME, 'styled-input')\n",
    "\n",
    "for s in styled_input:\n",
    "    valor = s.get_property('value')\n",
    "    print(valor)"
   ]
  },
  {
   "cell_type": "code",
   "execution_count": null,
   "id": "546f0178",
   "metadata": {
    "vscode": {
     "languageId": "plaintext"
    }
   },
   "outputs": [],
   "source": [
    "multi_class = driver.find_elements(By.CLASS_NAME, 'styled-input.optional-info')\n",
    "\n",
    "for mc in multi_class:\n",
    "    valor = mc.get_property('value')\n",
    "    print(valor)\n"
   ]
  }
 ],
 "metadata": {
  "language_info": {
   "name": "python"
  }
 },
 "nbformat": 4,
 "nbformat_minor": 5
}
