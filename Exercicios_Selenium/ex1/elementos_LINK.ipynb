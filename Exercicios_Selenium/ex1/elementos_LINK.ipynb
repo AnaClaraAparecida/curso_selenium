{
 "cells": [
  {
   "cell_type": "markdown",
   "id": "0d324a5a",
   "metadata": {},
   "source": [
    "# aula_22 - elementos pelo LINK"
   ]
  },
  {
   "cell_type": "code",
   "execution_count": null,
   "id": "fe270c2d",
   "metadata": {},
   "outputs": [],
   "source": [
    "from selenium.webdriver.common.by import By\n",
    "from selenium import webdriver\n",
    "\n",
    "driver = webdriver.Chrome()\n",
    "driver.get(\"https://curso-web-scraping.pages.dev/#/esmplo/1\")"
   ]
  },
  {
   "cell_type": "code",
   "execution_count": null,
   "id": "d575fd09",
   "metadata": {},
   "outputs": [],
   "source": [
    "driver.find_elements(By.LINK_TEXT, 'Instagram')"
   ]
  },
  {
   "cell_type": "code",
   "execution_count": null,
   "id": "0b34ea43",
   "metadata": {},
   "outputs": [],
   "source": [
    "gram = driver.find_elements(By.PARTIAL_LINK_TEXT, 'gram')\n",
    "for g in gram:\n",
    "    valor = g.text\n",
    "    print(valor)"
   ]
  },
  {
   "cell_type": "code",
   "execution_count": null,
   "id": "9a589251",
   "metadata": {},
   "outputs": [],
   "source": [
    "links = driver.find_element(By.ID, 'social').find_elements(By.TAG_NAME, 'a')\n",
    "\n",
    "for l in links:\n",
    "    valor = l.text\n",
    "\n",
    "    if 'gram' in valor:\n",
    "        print(valor)"
   ]
  }
 ],
 "metadata": {
  "language_info": {
   "name": "python"
  }
 },
 "nbformat": 4,
 "nbformat_minor": 5
}
