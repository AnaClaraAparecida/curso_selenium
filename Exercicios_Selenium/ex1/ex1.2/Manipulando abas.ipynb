{
 "cells": [
  {
   "cell_type": "markdown",
   "id": "7fa87dcc",
   "metadata": {},
   "source": [
    "# aula_44 - Manipulando multiplas abas "
   ]
  },
  {
   "cell_type": "code",
   "execution_count": null,
   "id": "63e7c2f8",
   "metadata": {
    "vscode": {
     "languageId": "plaintext"
    }
   },
   "outputs": [],
   "source": [
    "from selenium.webdriver.common.by import By\n",
    "from selenium import webdriver\n",
    "from selenium.webdriver.support.ui import Select\n",
    "from selenium.webdriver.support.wait import WebDriverWait\n",
    "from selenium.webdriver.support import expected_conditions as EC\n",
    "\n",
    "\n",
    "driver = webdriver.Chrome()\n",
    "driver.get(\"https://curso-web-scraping.pages.dev/#/exemplo/1\")"
   ]
  },
  {
   "cell_type": "code",
   "execution_count": null,
   "id": "b4b7e839",
   "metadata": {
    "vscode": {
     "languageId": "plaintext"
    }
   },
   "outputs": [],
   "source": [
    "driver.window_handles"
   ]
  },
  {
   "cell_type": "code",
   "execution_count": null,
   "id": "b09d1311",
   "metadata": {
    "vscode": {
     "languageId": "plaintext"
    }
   },
   "outputs": [],
   "source": [
    "driver.switch_to.window(window_name= '39AACB8810AC59D171C5A15C6194CE6D')"
   ]
  },
  {
   "cell_type": "code",
   "execution_count": null,
   "id": "413646bb",
   "metadata": {
    "vscode": {
     "languageId": "plaintext"
    }
   },
   "outputs": [],
   "source": [
    "windows = {\n",
    "    'Exemplo 1': 'E86ABE5E72B18D177FE52404AC14B74A',\n",
    "    'Exemplo 2': '43824AA5A8A167E4DB4417CCA09549D7',\n",
    "    'Exemplo 3': '7D59254FB18BA2EC78ED8BA4DC0AF2D8',\n",
    "    'Exemplo 4': 'A399DCE7BBA46D6E2AC44BA2EB36FCEC'\n",
    "}"
   ]
  },
  {
   "cell_type": "code",
   "execution_count": null,
   "id": "c4bc9918",
   "metadata": {
    "vscode": {
     "languageId": "plaintext"
    }
   },
   "outputs": [],
   "source": [
    "driver.switch_to.window(window_name=windows['Exemplo 1'])"
   ]
  },
  {
   "cell_type": "code",
   "execution_count": null,
   "id": "d5010765",
   "metadata": {
    "vscode": {
     "languageId": "plaintext"
    }
   },
   "outputs": [],
   "source": [
    "driver.find_element(By.ID, 'social')"
   ]
  },
  {
   "cell_type": "code",
   "execution_count": null,
   "id": "255b4b2f",
   "metadata": {
    "vscode": {
     "languageId": "plaintext"
    }
   },
   "outputs": [],
   "source": [
    "driver.switch_to.new_window('window')"
   ]
  },
  {
   "cell_type": "code",
   "execution_count": null,
   "id": "2db3c019",
   "metadata": {
    "vscode": {
     "languageId": "plaintext"
    }
   },
   "outputs": [],
   "source": [
    "driver.switch_to.window(window_name=driver.window_handles[-1])"
   ]
  },
  {
   "cell_type": "code",
   "execution_count": null,
   "id": "7ed57c70",
   "metadata": {
    "vscode": {
     "languageId": "plaintext"
    }
   },
   "outputs": [],
   "source": [
    "driver.window_handles"
   ]
  },
  {
   "cell_type": "code",
   "execution_count": null,
   "id": "828b9f9f",
   "metadata": {
    "vscode": {
     "languageId": "plaintext"
    }
   },
   "outputs": [],
   "source": [
    "driver.close()"
   ]
  },
  {
   "cell_type": "code",
   "execution_count": null,
   "id": "586f4052",
   "metadata": {
    "vscode": {
     "languageId": "plaintext"
    }
   },
   "outputs": [],
   "source": [
    "driver.current_url"
   ]
  },
  {
   "cell_type": "code",
   "execution_count": null,
   "id": "9ba1c2d2",
   "metadata": {
    "vscode": {
     "languageId": "plaintext"
    }
   },
   "outputs": [],
   "source": [
    "driver.switch_to.window(window_name=driver.window_handles[0])"
   ]
  },
  {
   "cell_type": "code",
   "execution_count": null,
   "id": "77b1f16c",
   "metadata": {
    "vscode": {
     "languageId": "plaintext"
    }
   },
   "outputs": [],
   "source": [
    "driver.switch_to.new_window('tab')"
   ]
  },
  {
   "cell_type": "code",
   "execution_count": null,
   "id": "183d0fee",
   "metadata": {
    "vscode": {
     "languageId": "plaintext"
    }
   },
   "outputs": [],
   "source": [
    "driver.get(\"https://curso-web-scraping.pages.dev/#/exemplo/5\")"
   ]
  },
  {
   "cell_type": "code",
   "execution_count": null,
   "id": "371e44f1",
   "metadata": {
    "vscode": {
     "languageId": "plaintext"
    }
   },
   "outputs": [],
   "source": [
    "driver.find_element(By.CSS_SELECTOR, 'main button.btn-primary').click()"
   ]
  },
  {
   "cell_type": "code",
   "execution_count": null,
   "id": "5f8d3620",
   "metadata": {
    "vscode": {
     "languageId": "plaintext"
    }
   },
   "outputs": [],
   "source": [
    "alert = driver.switch_to.alert"
   ]
  },
  {
   "cell_type": "code",
   "execution_count": null,
   "id": "c6c56e67",
   "metadata": {
    "vscode": {
     "languageId": "plaintext"
    }
   },
   "outputs": [],
   "source": [
    "alert.text"
   ]
  },
  {
   "cell_type": "code",
   "execution_count": null,
   "id": "4db7fbcd",
   "metadata": {
    "vscode": {
     "languageId": "plaintext"
    }
   },
   "outputs": [],
   "source": [
    "alert.dismiss()"
   ]
  },
  {
   "cell_type": "code",
   "execution_count": null,
   "id": "f103a14c",
   "metadata": {
    "vscode": {
     "languageId": "plaintext"
    }
   },
   "outputs": [],
   "source": [
    "alert.accept()"
   ]
  },
  {
   "cell_type": "code",
   "execution_count": null,
   "id": "137694f4",
   "metadata": {
    "vscode": {
     "languageId": "plaintext"
    }
   },
   "outputs": [],
   "source": [
    "alert.send_keys('Programador Aventureiro')"
   ]
  }
 ],
 "metadata": {
  "language_info": {
   "name": "python"
  }
 },
 "nbformat": 4,
 "nbformat_minor": 5
}
