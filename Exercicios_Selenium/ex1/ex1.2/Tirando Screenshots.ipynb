{
 "cells": [
  {
   "cell_type": "markdown",
   "id": "cc123325",
   "metadata": {},
   "source": [
    "# aula_43 - Tirando Screenshots das paginas"
   ]
  },
  {
   "cell_type": "code",
   "execution_count": null,
   "id": "7459762c",
   "metadata": {
    "vscode": {
     "languageId": "plaintext"
    }
   },
   "outputs": [],
   "source": [
    "from selenium.webdriver.common.by import By\n",
    "from selenium import webdriver\n",
    "from selenium.webdriver.support.ui import Select\n",
    "from selenium.webdriver.support.wait import WebDriverWait\n",
    "from selenium.webdriver.support import expected_conditions as EC\n",
    "\n",
    "\n",
    "driver = webdriver.Chrome()\n",
    "driver.get(\"https://curso-web-scraping.pages.dev/#/exemplo/1\")"
   ]
  },
  {
   "cell_type": "code",
   "execution_count": null,
   "id": "065c295f",
   "metadata": {
    "vscode": {
     "languageId": "plaintext"
    }
   },
   "outputs": [],
   "source": [
    "driver.save_screenshot(filename='screenshots/0.png')"
   ]
  },
  {
   "cell_type": "code",
   "execution_count": null,
   "id": "71d50224",
   "metadata": {
    "vscode": {
     "languageId": "plaintext"
    }
   },
   "outputs": [],
   "source": [
    "driver.get_screenshot_as_file(filename='./screenshots/1.png')"
   ]
  },
  {
   "cell_type": "code",
   "execution_count": null,
   "id": "30ae55cc",
   "metadata": {
    "vscode": {
     "languageId": "plaintext"
    }
   },
   "outputs": [],
   "source": [
    "driver.get_screenshot_as_png()"
   ]
  },
  {
   "cell_type": "code",
   "execution_count": null,
   "id": "49405005",
   "metadata": {
    "vscode": {
     "languageId": "plaintext"
    }
   },
   "outputs": [],
   "source": [
    "with open('./screenshots/2.png', 'wb') as file:\n",
    "    data = driver.get_screenshot_as_png()\n",
    "    file.write(data)"
   ]
  },
  {
   "cell_type": "code",
   "execution_count": null,
   "id": "ebaedee6",
   "metadata": {
    "vscode": {
     "languageId": "plaintext"
    }
   },
   "outputs": [],
   "source": [
    "main = driver.find_element(By.TAG_NAME, 'main')"
   ]
  },
  {
   "cell_type": "code",
   "execution_count": null,
   "id": "c6dc8dc8",
   "metadata": {
    "vscode": {
     "languageId": "plaintext"
    }
   },
   "outputs": [],
   "source": [
    "main.screenshot(filename='./screenshots/3.png')"
   ]
  },
  {
   "cell_type": "code",
   "execution_count": null,
   "id": "ecb0a683",
   "metadata": {
    "vscode": {
     "languageId": "plaintext"
    }
   },
   "outputs": [],
   "source": [
    "social = driver.find_element(By.ID, 'social')\n",
    "social.screenshot(filename='./screenshots/4.png')"
   ]
  },
  {
   "cell_type": "markdown",
   "id": "6ddd0961",
   "metadata": {},
   "source": [
    "~~ salvando em pdf"
   ]
  },
  {
   "cell_type": "code",
   "execution_count": null,
   "id": "8dfb6ecb",
   "metadata": {
    "vscode": {
     "languageId": "plaintext"
    }
   },
   "outputs": [],
   "source": [
    "import base64"
   ]
  },
  {
   "cell_type": "code",
   "execution_count": null,
   "id": "16bc424f",
   "metadata": {
    "vscode": {
     "languageId": "plaintext"
    }
   },
   "outputs": [],
   "source": [
    "with open('./programadora.pdf', 'wb') as file:\n",
    "    data = driver.print_page()\n",
    "    data_converted = base64.b64decode(data)\n",
    "    file.write(data_converted)"
   ]
  },
  {
   "cell_type": "code",
   "execution_count": null,
   "id": "b57a195d",
   "metadata": {
    "vscode": {
     "languageId": "plaintext"
    }
   },
   "outputs": [],
   "source": []
  }
 ],
 "metadata": {
  "language_info": {
   "name": "python"
  }
 },
 "nbformat": 4,
 "nbformat_minor": 5
}
