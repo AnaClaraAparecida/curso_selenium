{
 "cells": [
  {
   "cell_type": "markdown",
   "id": "ef292830",
   "metadata": {},
   "source": [
    "# aula_25 - XPATH"
   ]
  },
  {
   "cell_type": "code",
   "execution_count": null,
   "id": "42c61369",
   "metadata": {
    "vscode": {
     "languageId": "plaintext"
    }
   },
   "outputs": [],
   "source": [
    "from selenium.webdriver.common.by import By\n",
    "from selenium import webdriver\n",
    "\n",
    "driver = webdriver.Chrome()\n",
    "driver.get(\"https://curso-web-scraping.pages.dev/#/esmplo/1\")"
   ]
  },
  {
   "cell_type": "markdown",
   "id": "d409fe08",
   "metadata": {},
   "source": [
    "1. CAMINHO ABSOLUTO"
   ]
  },
  {
   "cell_type": "code",
   "execution_count": null,
   "id": "256eea37",
   "metadata": {
    "vscode": {
     "languageId": "plaintext"
    }
   },
   "outputs": [],
   "source": [
    "driver.find_elements(By.XPATH, '/html/body/div/div/div[2]')"
   ]
  },
  {
   "cell_type": "markdown",
   "id": "30c3d719",
   "metadata": {},
   "source": [
    "2. BUSCA POT TAG"
   ]
  },
  {
   "cell_type": "code",
   "execution_count": null,
   "id": "8fd3a0ea",
   "metadata": {
    "vscode": {
     "languageId": "plaintext"
    }
   },
   "outputs": [],
   "source": [
    "driver.find_elements(By.XPATH, '//input')"
   ]
  },
  {
   "cell_type": "markdown",
   "id": "21a717a0",
   "metadata": {},
   "source": [
    "3. BUSCANDO POR POSIÇAO"
   ]
  },
  {
   "cell_type": "code",
   "execution_count": null,
   "id": "6eae9e94",
   "metadata": {
    "vscode": {
     "languageId": "plaintext"
    }
   },
   "outputs": [],
   "source": [
    "inputs = driver.find_elements(By.XPATH, '//input[1] | //input[4]')\n",
    "\n",
    "for i in inputs:\n",
    "    valor = i.get_property('value')\n",
    "    print(valor)"
   ]
  },
  {
   "cell_type": "markdown",
   "id": "ea6b292a",
   "metadata": {},
   "source": [
    "4. BUSCANDO POR ATRIBUTOS"
   ]
  },
  {
   "cell_type": "code",
   "execution_count": null,
   "id": "d8732064",
   "metadata": {
    "vscode": {
     "languageId": "plaintext"
    }
   },
   "outputs": [],
   "source": [
    "driver.find_elements(By.XPATH, '//input[@id=\"user\"]')\n"
   ]
  },
  {
   "cell_type": "code",
   "execution_count": null,
   "id": "211de513",
   "metadata": {
    "vscode": {
     "languageId": "plaintext"
    }
   },
   "outputs": [],
   "source": [
    "driver.find_elements(By.XPATH, '//div[@id=\"social\"]/a[1]')"
   ]
  }
 ],
 "metadata": {
  "language_info": {
   "name": "python"
  }
 },
 "nbformat": 4,
 "nbformat_minor": 5
}
