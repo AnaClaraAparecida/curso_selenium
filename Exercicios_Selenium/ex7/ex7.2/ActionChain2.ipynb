{
 "cells": [
  {
   "cell_type": "markdown",
   "id": "ecc346da",
   "metadata": {},
   "source": [
    "# aula_48 - ActionChains/2"
   ]
  },
  {
   "cell_type": "code",
   "execution_count": null,
   "id": "e35b0ad5",
   "metadata": {
    "vscode": {
     "languageId": "plaintext"
    }
   },
   "outputs": [],
   "source": [
    "from selenium.webdriver.common.by import By\n",
    "from selenium import webdriver\n",
    "from selenium.webdriver.support.ui import Select\n",
    "from selenium.webdriver.support.wait import WebDriverWait\n",
    "from selenium.webdriver.support import expected_conditions as EC\n",
    "\n",
    "\n",
    "driver = webdriver.Chrome()\n",
    "driver.get(\"https://curso-web-scraping.pages.dev/#/exemplo/8\")"
   ]
  },
  {
   "cell_type": "code",
   "execution_count": null,
   "id": "45bca52f",
   "metadata": {
    "vscode": {
     "languageId": "plaintext"
    }
   },
   "outputs": [],
   "source": [
    "proximo = driver.find_element(By.XPATH, '//main//button[contains(text(), \"Próxima\")]')"
   ]
  },
  {
   "cell_type": "markdown",
   "id": "fe21bbbb",
   "metadata": {},
   "source": [
    "~~ pause / click_and_hold / release"
   ]
  },
  {
   "cell_type": "code",
   "execution_count": null,
   "id": "12680fda",
   "metadata": {
    "vscode": {
     "languageId": "plaintext"
    }
   },
   "outputs": [],
   "source": [
    "ActionChains(driver).click(proximo).pause(5).click(proximo).perform()"
   ]
  },
  {
   "cell_type": "code",
   "execution_count": null,
   "id": "dcaba72d",
   "metadata": {
    "vscode": {
     "languageId": "plaintext"
    }
   },
   "outputs": [],
   "source": [
    "ActionChains(driver).click_and_hold(proximo).pause(3).release().perform()"
   ]
  },
  {
   "cell_type": "markdown",
   "id": "fa3d879c",
   "metadata": {},
   "source": [
    "~~ drag_and_drop"
   ]
  },
  {
   "cell_type": "code",
   "execution_count": null,
   "id": "cb1eef2f",
   "metadata": {
    "vscode": {
     "languageId": "plaintext"
    }
   },
   "outputs": [],
   "source": [
    "driver.get(\"https://curso-web-scraping.pages.dev/#/exemplo/9\")"
   ]
  },
  {
   "cell_type": "code",
   "execution_count": null,
   "id": "f97ef25d",
   "metadata": {
    "vscode": {
     "languageId": "plaintext"
    }
   },
   "outputs": [],
   "source": [
    "drag_source = driver.find_element(By.ID, 'drag-source')\n",
    "drag_target = driver.find_element(By.ID, 'drag-target')"
   ]
  },
  {
   "cell_type": "code",
   "execution_count": null,
   "id": "f1efdd23",
   "metadata": {
    "vscode": {
     "languageId": "plaintext"
    }
   },
   "outputs": [],
   "source": [
    "ActionChains(driver).drag_and_drop(source=drag_source, target=drag_target).perform()"
   ]
  },
  {
   "cell_type": "markdown",
   "id": "c4ffa6ea",
   "metadata": {},
   "source": [
    "~~ context_click"
   ]
  },
  {
   "cell_type": "code",
   "execution_count": null,
   "id": "29b251f8",
   "metadata": {
    "vscode": {
     "languageId": "plaintext"
    }
   },
   "outputs": [],
   "source": [
    "img = driver.find_element(By.ID, 'main-image')"
   ]
  },
  {
   "cell_type": "code",
   "execution_count": null,
   "id": "0f7f8cb3",
   "metadata": {
    "vscode": {
     "languageId": "plaintext"
    }
   },
   "outputs": [],
   "source": [
    "ActionChains(driver).context_click(img).perform()"
   ]
  },
  {
   "cell_type": "markdown",
   "id": "8d304283",
   "metadata": {},
   "source": [
    "~~ enviar teclas "
   ]
  },
  {
   "cell_type": "code",
   "execution_count": null,
   "id": "39d49578",
   "metadata": {
    "vscode": {
     "languageId": "plaintext"
    }
   },
   "outputs": [],
   "source": [
    "from selenium.webdriver.common.keys import Keys"
   ]
  },
  {
   "cell_type": "code",
   "execution_count": null,
   "id": "f750f0fa",
   "metadata": {
    "vscode": {
     "languageId": "plaintext"
    }
   },
   "outputs": [],
   "source": [
    "ActionChains(driver).key_down(Keys.CONTROL).send_keys('c').key_up(Keys.CONTROL).perform()"
   ]
  },
  {
   "cell_type": "code",
   "execution_count": null,
   "id": "24165621",
   "metadata": {
    "vscode": {
     "languageId": "plaintext"
    }
   },
   "outputs": [],
   "source": [
    "titulo = driver.find_element(By.CSS_SELECTOR, 'main div.title')\n",
    "ActionChains(driver).double_click(titulo).click(titulo).perform()"
   ]
  },
  {
   "cell_type": "code",
   "execution_count": null,
   "id": "9d3eaa73",
   "metadata": {
    "vscode": {
     "languageId": "plaintext"
    }
   },
   "outputs": [],
   "source": [
    "ActionChains(driver).key_down(Keys.META).send_keys('c').key_up(Keys.META).perform()"
   ]
  },
  {
   "cell_type": "code",
   "execution_count": null,
   "id": "3474ecfb",
   "metadata": {
    "vscode": {
     "languageId": "plaintext"
    }
   },
   "outputs": [],
   "source": [
    "from pandas.io.clipboard import clipboard_set, clipboard_get"
   ]
  },
  {
   "cell_type": "code",
   "execution_count": null,
   "id": "c2c7773b",
   "metadata": {
    "vscode": {
     "languageId": "plaintext"
    }
   },
   "outputs": [],
   "source": [
    "clipboard_get()"
   ]
  },
  {
   "cell_type": "code",
   "execution_count": null,
   "id": "fe8053c3",
   "metadata": {
    "vscode": {
     "languageId": "plaintext"
    }
   },
   "outputs": [],
   "source": [
    "clipboard_set('Programadora')"
   ]
  },
  {
   "cell_type": "code",
   "execution_count": null,
   "id": "3e476247",
   "metadata": {
    "vscode": {
     "languageId": "plaintext"
    }
   },
   "outputs": [],
   "source": [
    "clipboard_get()"
   ]
  },
  {
   "cell_type": "code",
   "execution_count": null,
   "id": "a3c32ed0",
   "metadata": {
    "vscode": {
     "languageId": "plaintext"
    }
   },
   "outputs": [],
   "source": [
    "!pip install clipboard"
   ]
  },
  {
   "cell_type": "code",
   "execution_count": null,
   "id": "cdd73b02",
   "metadata": {
    "vscode": {
     "languageId": "plaintext"
    }
   },
   "outputs": [],
   "source": []
  }
 ],
 "metadata": {
  "language_info": {
   "name": "python"
  }
 },
 "nbformat": 4,
 "nbformat_minor": 5
}
