{
 "cells": [
  {
   "cell_type": "markdown",
   "id": "7a44291f",
   "metadata": {},
   "source": [
    "# aula_49 - ActionChais/3"
   ]
  },
  {
   "cell_type": "code",
   "execution_count": null,
   "id": "319e6c86",
   "metadata": {
    "vscode": {
     "languageId": "plaintext"
    }
   },
   "outputs": [],
   "source": [
    "from selenium.webdriver.common.by import By\n",
    "from selenium import webdriver\n",
    "from selenium.webdriver.support.ui import Select\n",
    "from selenium.webdriver.support.wait import WebDriverWait\n",
    "from selenium.webdriver.support import expected_conditions as EC\n",
    "\n",
    "\n",
    "driver = webdriver.Chrome()\n",
    "driver.get(\"https://curso-web-scraping.pages.dev/#/exemplo/2\")"
   ]
  },
  {
   "cell_type": "code",
   "execution_count": null,
   "id": "57a33770",
   "metadata": {
    "vscode": {
     "languageId": "plaintext"
    }
   },
   "outputs": [],
   "source": [
    "email = driver.find_element(By.NAME, 'email')\n",
    "senha = driver.find_element(By.NAME, 'senha')"
   ]
  },
  {
   "cell_type": "code",
   "execution_count": null,
   "id": "0aa29b45",
   "metadata": {
    "vscode": {
     "languageId": "plaintext"
    }
   },
   "outputs": [],
   "source": [
    "(\n",
    "    ActionChains(driver)\n",
    "    .send_keys_to_element(email, 'anaclara.010@gmial.com')\n",
    "    .send_keys_to_element(senha, '123')\n",
    "    .send_keys_to_element(email, Keys.ENTER)\n",
    "    .perform()\n",
    ")"
   ]
  },
  {
   "cell_type": "markdown",
   "id": "dcd045a1",
   "metadata": {},
   "source": [
    "~~ encaderar açoes "
   ]
  },
  {
   "cell_type": "code",
   "execution_count": null,
   "id": "0b9df323",
   "metadata": {
    "vscode": {
     "languageId": "plaintext"
    }
   },
   "outputs": [],
   "source": [
    "actions = ActionChains(driver)"
   ]
  },
  {
   "cell_type": "code",
   "execution_count": null,
   "id": "fb8701e8",
   "metadata": {
    "vscode": {
     "languageId": "plaintext"
    }
   },
   "outputs": [],
   "source": [
    "actions.click(email)\n",
    "actions.key_down(Keys.META)\n",
    "actions.send_keys('a')\n",
    "actions.key_up(Keys.META)\n",
    "actions.send_keys(Keys.DELETE)\n",
    "\n",
    "actions.click(senha)\n",
    "actions.key_down(Keys.META)\n",
    "actions.send_keys('a')\n",
    "actions.key_up(Keys.META)\n",
    "actions.send_keys(Keys.DELETE)"
   ]
  },
  {
   "cell_type": "code",
   "execution_count": null,
   "id": "a66f98c0",
   "metadata": {
    "vscode": {
     "languageId": "plaintext"
    }
   },
   "outputs": [],
   "source": [
    "actions.perform()"
   ]
  }
 ],
 "metadata": {
  "language_info": {
   "name": "python"
  }
 },
 "nbformat": 4,
 "nbformat_minor": 5
}
