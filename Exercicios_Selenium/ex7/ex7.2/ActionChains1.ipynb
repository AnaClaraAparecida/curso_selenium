{
 "cells": [
  {
   "cell_type": "markdown",
   "id": "ece87789",
   "metadata": {},
   "source": [
    "# aula_47 - ActionChains/1"
   ]
  },
  {
   "cell_type": "code",
   "execution_count": null,
   "id": "5984d146",
   "metadata": {
    "vscode": {
     "languageId": "plaintext"
    }
   },
   "outputs": [],
   "source": [
    "from selenium.webdriver.common.by import By\n",
    "from selenium import webdriver\n",
    "from selenium.webdriver.support.ui import Select\n",
    "from selenium.webdriver.support.wait import WebDriverWait\n",
    "from selenium.webdriver.support import expected_conditions as EC\n",
    "\n",
    "\n",
    "driver = webdriver.Chrome()\n",
    "driver.get(\"https://curso-web-scraping.pages.dev/#/exemplo/7\")"
   ]
  },
  {
   "cell_type": "code",
   "execution_count": null,
   "id": "73e0a9a8",
   "metadata": {
    "vscode": {
     "languageId": "plaintext"
    }
   },
   "outputs": [],
   "source": [
    "from selenium.webdriver.common.action_chains import ActionChains"
   ]
  },
  {
   "cell_type": "code",
   "execution_count": null,
   "id": "2c35c768",
   "metadata": {
    "vscode": {
     "languageId": "plaintext"
    }
   },
   "outputs": [],
   "source": [
    "img = driver.find_element(By.ID, 'imagem_0')"
   ]
  },
  {
   "cell_type": "code",
   "execution_count": null,
   "id": "321c03b4",
   "metadata": {
    "vscode": {
     "languageId": "plaintext"
    }
   },
   "outputs": [],
   "source": [
    "ActionChains(driver).move_to_element(img).perform()\n"
   ]
  },
  {
   "cell_type": "code",
   "execution_count": null,
   "id": "3ba85b49",
   "metadata": {
    "vscode": {
     "languageId": "plaintext"
    }
   },
   "outputs": [],
   "source": [
    "img = driver.find_element(By.ID, 'imagem_0')\n",
    "ActionChains(driver).move_to_element(img).perform() "
   ]
  },
  {
   "cell_type": "markdown",
   "id": "1e0de31a",
   "metadata": {},
   "source": [
    "~~ move_by_offset"
   ]
  },
  {
   "cell_type": "code",
   "execution_count": null,
   "id": "3d6e4b94",
   "metadata": {
    "vscode": {
     "languageId": "plaintext"
    }
   },
   "outputs": [],
   "source": [
    "ActionChains(driver).move_to_element(img).perform()"
   ]
  },
  {
   "cell_type": "code",
   "execution_count": null,
   "id": "1b6bf707",
   "metadata": {
    "vscode": {
     "languageId": "plaintext"
    }
   },
   "outputs": [],
   "source": [
    "ActionChains(driver).move_by_offset(xoffset=140, yoffset=0).perform()"
   ]
  },
  {
   "cell_type": "code",
   "execution_count": null,
   "id": "7393ce6c",
   "metadata": {
    "vscode": {
     "languageId": "plaintext"
    }
   },
   "outputs": [],
   "source": [
    "ActionChains(driver).move_by_offset(xoffset=0, yoffset=80).perform()"
   ]
  },
  {
   "cell_type": "code",
   "execution_count": null,
   "id": "9aa84996",
   "metadata": {
    "vscode": {
     "languageId": "plaintext"
    }
   },
   "outputs": [],
   "source": [
    "ActionChains(driver).move_by_offset(xoffset=0, yoffset=80).perform()"
   ]
  },
  {
   "cell_type": "code",
   "execution_count": null,
   "id": "f3dc0d07",
   "metadata": {
    "vscode": {
     "languageId": "plaintext"
    }
   },
   "outputs": [],
   "source": [
    "ActionChains(driver).move_to_element(img).perform()"
   ]
  },
  {
   "cell_type": "code",
   "execution_count": null,
   "id": "683b4361",
   "metadata": {
    "vscode": {
     "languageId": "plaintext"
    }
   },
   "outputs": [],
   "source": [
    "ActionChains(driver).move_by_offset(xoffset=140, yoffset=-80).perform()"
   ]
  },
  {
   "cell_type": "markdown",
   "id": "c0041e4b",
   "metadata": {},
   "source": [
    "~~ scroll_to_element / scroll_by_amount / scroll_from_origem"
   ]
  },
  {
   "cell_type": "code",
   "execution_count": null,
   "id": "dbe50c36",
   "metadata": {
    "vscode": {
     "languageId": "plaintext"
    }
   },
   "outputs": [],
   "source": [
    "img = driver.find_element(By.ID, 'imagem_26')"
   ]
  },
  {
   "cell_type": "code",
   "execution_count": null,
   "id": "0dbc7c01",
   "metadata": {
    "vscode": {
     "languageId": "plaintext"
    }
   },
   "outputs": [],
   "source": [
    "ActionChains(driver).scroll_to_element(img).perform"
   ]
  },
  {
   "cell_type": "code",
   "execution_count": null,
   "id": "67290c2f",
   "metadata": {
    "vscode": {
     "languageId": "plaintext"
    }
   },
   "outputs": [],
   "source": [
    "ActionChains(driver).scroll_by_amount(delta_x=0, delta_y=300).perform()"
   ]
  },
  {
   "cell_type": "code",
   "execution_count": null,
   "id": "f2ceb793",
   "metadata": {
    "vscode": {
     "languageId": "plaintext"
    }
   },
   "outputs": [],
   "source": [
    "from selenium.webdriver.common.actions.wheel_input import ScrollOrigin"
   ]
  },
  {
   "cell_type": "code",
   "execution_count": null,
   "id": "feeb31b7",
   "metadata": {
    "vscode": {
     "languageId": "plaintext"
    }
   },
   "outputs": [],
   "source": [
    "img = driver.find_element(By.ID, 'imagem_0')\n",
    "scroll_origin = ScrollOrigin.from_element(img)\n",
    "\n",
    "ActionChains(driver).scroll_from_origin(scroll_origin=scroll_origin, delta_x=0, delta_y=2000).perform()"
   ]
  },
  {
   "cell_type": "markdown",
   "id": "b1dae3e7",
   "metadata": {},
   "source": [
    "~~ click / double_click"
   ]
  },
  {
   "cell_type": "code",
   "execution_count": null,
   "id": "3a2fa789",
   "metadata": {
    "vscode": {
     "languageId": "plaintext"
    }
   },
   "outputs": [],
   "source": [
    "driver.get(\"https://curso-web-scraping.pages.dev/#/exemplo/8\")"
   ]
  },
  {
   "cell_type": "code",
   "execution_count": null,
   "id": "800b26e0",
   "metadata": {
    "vscode": {
     "languageId": "plaintext"
    }
   },
   "outputs": [],
   "source": [
    "proximo = driver.find_element(By.XPATH, '//main//button[contains(text(), \"Próxima\")]')"
   ]
  },
  {
   "cell_type": "code",
   "execution_count": null,
   "id": "8352b0ac",
   "metadata": {
    "vscode": {
     "languageId": "plaintext"
    }
   },
   "outputs": [],
   "source": [
    "ActionChains(driver).click(proximo).perform()"
   ]
  },
  {
   "cell_type": "code",
   "execution_count": null,
   "id": "eb42529f",
   "metadata": {
    "vscode": {
     "languageId": "plaintext"
    }
   },
   "outputs": [],
   "source": [
    "ActionChains(driver).double_click(proximo).perform()"
   ]
  }
 ],
 "metadata": {
  "language_info": {
   "name": "python"
  }
 },
 "nbformat": 4,
 "nbformat_minor": 5
}
