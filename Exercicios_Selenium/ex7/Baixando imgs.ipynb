{
 "cells": [
  {
   "cell_type": "markdown",
   "id": "7affb73f",
   "metadata": {},
   "source": [
    "# aula_40 - Baixando imgs presentes nas pags"
   ]
  },
  {
   "cell_type": "code",
   "execution_count": null,
   "id": "afcf6a13",
   "metadata": {
    "vscode": {
     "languageId": "plaintext"
    }
   },
   "outputs": [],
   "source": [
    "from selenium.webdriver.common.by import By\n",
    "from selenium import webdriver\n",
    "from selenium.webdriver.support.ui import Select\n",
    "from selenium.webdriver.support.wait import WebDriverWait\n",
    "from selenium.webdriver.support import expected_conditions as EC\n",
    "\n",
    "\n",
    "driver = webdriver.Chrome()\n",
    "driver.get(\"https://curso-web-scraping.pages.dev/#/exemplo/7\")"
   ]
  },
  {
   "cell_type": "code",
   "execution_count": null,
   "id": "657b5fe3",
   "metadata": {
    "vscode": {
     "languageId": "plaintext"
    }
   },
   "outputs": [],
   "source": [
    "driver.implicitly_wait(time_to_wait=10)"
   ]
  },
  {
   "cell_type": "code",
   "execution_count": null,
   "id": "59dbe058",
   "metadata": {
    "vscode": {
     "languageId": "plaintext"
    }
   },
   "outputs": [],
   "source": [
    "galeria = driver.find_element(By.ID, 'galeria')\n",
    "imagens = galeria.find_elements(By.TAG_NAME, 'img')\n",
    "imagens"
   ]
  },
  {
   "cell_type": "code",
   "execution_count": null,
   "id": "080774a3",
   "metadata": {
    "vscode": {
     "languageId": "plaintext"
    }
   },
   "outputs": [],
   "source": [
    "# opçao mais curta\n",
    "imagens = driver.find_elements(By.CSS_SELECTOR, '#galeria img')\n",
    "imagens"
   ]
  },
  {
   "cell_type": "code",
   "execution_count": null,
   "id": "8073dc12",
   "metadata": {
    "vscode": {
     "languageId": "plaintext"
    }
   },
   "outputs": [],
   "source": [
    "import urllib.request\n",
    "import os"
   ]
  },
  {
   "cell_type": "code",
   "execution_count": null,
   "id": "daeea24d",
   "metadata": {
    "vscode": {
     "languageId": "plaintext"
    }
   },
   "outputs": [],
   "source": [
    "for img in imagens:\n",
    "    img_src = img.get_property('src')\n",
    "    img_id = img.get_property('id')\n",
    "    print(img_id, img_src)\n",
    "\n",
    "    if not os.path.exists('./imagens'):\n",
    "        os.mkdir('./imagens')\n",
    "\n",
    "    file = img_id + '.jpg'\n",
    "    filename = os.path.join('./imagens', file)\n",
    "    urllib.request.urlretrieve(img_src, filename)"
   ]
  },
  {
   "cell_type": "code",
   "execution_count": null,
   "id": "0ffa12e4",
   "metadata": {
    "vscode": {
     "languageId": "plaintext"
    }
   },
   "outputs": [],
   "source": [
    "os.path.exists('./imagens')"
   ]
  }
 ],
 "metadata": {
  "language_info": {
   "name": "python"
  }
 },
 "nbformat": 4,
 "nbformat_minor": 5
}
