{
 "cells": [
  {
   "cell_type": "markdown",
   "id": "95c03369",
   "metadata": {},
   "source": [
    "# aula_35 - wait, aguardando componentes"
   ]
  },
  {
   "cell_type": "code",
   "execution_count": null,
   "id": "96d09fd4",
   "metadata": {
    "vscode": {
     "languageId": "plaintext"
    }
   },
   "outputs": [],
   "source": [
    "from selenium.webdriver.common.by import By\n",
    "from selenium import webdriver\n",
    "\n",
    "driver = webdriver.Chrome()\n",
    "driver.get(\"https://curso-web-scraping.pages.dev/#/esmplo/1\")"
   ]
  },
  {
   "cell_type": "code",
   "execution_count": null,
   "id": "599b0455",
   "metadata": {
    "vscode": {
     "languageId": "plaintext"
    }
   },
   "outputs": [],
   "source": [
    "driver.refresh()\n",
    "driver.find_element(By.ID, 'vantagens')"
   ]
  },
  {
   "cell_type": "code",
   "execution_count": null,
   "id": "99fbfd23",
   "metadata": {
    "vscode": {
     "languageId": "plaintext"
    }
   },
   "outputs": [],
   "source": [
    "from selenium.webdriver.support.wait import WebDriverWait\n",
    "from selenium.webdriver.support import expected_conditions as EC"
   ]
  },
  {
   "cell_type": "code",
   "execution_count": null,
   "id": "f748286a",
   "metadata": {
    "vscode": {
     "languageId": "plaintext"
    }
   },
   "outputs": [],
   "source": [
    "wait = WebDriverWait(driver=driver, timeout=5)"
   ]
  },
  {
   "cell_type": "code",
   "execution_count": null,
   "id": "3f3a6f91",
   "metadata": {
    "vscode": {
     "languageId": "plaintext"
    }
   },
   "outputs": [],
   "source": [
    "driver.refresh()\n",
    "wait.until(EC.presence_of_element_located(locator=(By.ID, 'vantagens')))"
   ]
  },
  {
   "cell_type": "markdown",
   "id": "f28c8bc8",
   "metadata": {},
   "source": [
    "~~ O timeout, é o tempo limite que ele deve aguardar ate levantar uma exceçao "
   ]
  },
  {
   "cell_type": "code",
   "execution_count": null,
   "id": "0087a79f",
   "metadata": {
    "vscode": {
     "languageId": "plaintext"
    }
   },
   "outputs": [],
   "source": [
    "driver.refresh()\n",
    "wait = WebDriverWait(driver=driver, timeout=50)\n",
    "wait.until(EC.presence_of_element_located(locator=(By.ID, 'vantagens')))"
   ]
  },
  {
   "cell_type": "markdown",
   "id": "a57a284b",
   "metadata": {},
   "source": [
    "~~ Tempo entre cada verificaçao "
   ]
  },
  {
   "cell_type": "code",
   "execution_count": null,
   "id": "2b99d0c4",
   "metadata": {
    "vscode": {
     "languageId": "plaintext"
    }
   },
   "outputs": [],
   "source": [
    "driver.refresh()\n",
    "wait = WebDriverWait(driver=driver, timeout=50, poll_frequency=10)\n",
    "wait.until(EC.presence_of_element_located(locator=(By.ID, 'vantagens')))"
   ]
  },
  {
   "cell_type": "markdown",
   "id": "ff8be8f1",
   "metadata": {},
   "source": [
    "~~ Personalizar as Exceptions"
   ]
  },
  {
   "cell_type": "code",
   "execution_count": null,
   "id": "9ba16c09",
   "metadata": {
    "vscode": {
     "languageId": "plaintext"
    }
   },
   "outputs": [],
   "source": [
    "driver.refresh()\n",
    "wait = WebDriverWait(driver=driver, timeout=2,)\n",
    "try:\n",
    "    wait.until(\n",
    "        method=EC.presence_of_element_located(locator=(By.ID, 'vantagens')),\n",
    "        message='Não foi encontrado o componente de ID=\"vantagens\"'\n",
    "    )\n",
    "except Exception as e:\n",
    "    print(e.msg)"
   ]
  },
  {
   "cell_type": "markdown",
   "id": "df36572a",
   "metadata": {},
   "source": [
    "~~ Exemplos de uso \n",
    "\n",
    "- Lojas com tabelas de produtos \n",
    "- Internet lenta\n",
    "- Alta latência"
   ]
  },
  {
   "cell_type": "code",
   "execution_count": null,
   "id": "3c73b47c",
   "metadata": {
    "vscode": {
     "languageId": "plaintext"
    }
   },
   "outputs": [],
   "source": [
    "driver.get(\"https://curso-web-scraping.pages.dev/#/exemplo/4\")"
   ]
  },
  {
   "cell_type": "code",
   "execution_count": null,
   "id": "b163dc64",
   "metadata": {
    "vscode": {
     "languageId": "plaintext"
    }
   },
   "outputs": [],
   "source": [
    "driver.implicitly_wait(time_to_wait=10)"
   ]
  },
  {
   "cell_type": "code",
   "execution_count": null,
   "id": "52346919",
   "metadata": {
    "vscode": {
     "languageId": "plaintext"
    }
   },
   "outputs": [],
   "source": [
    "driver.refresh()\n",
    "driver.find_element(By.ID, 'vantagens')"
   ]
  }
 ],
 "metadata": {
  "language_info": {
   "name": "python"
  }
 },
 "nbformat": 4,
 "nbformat_minor": 5
}
