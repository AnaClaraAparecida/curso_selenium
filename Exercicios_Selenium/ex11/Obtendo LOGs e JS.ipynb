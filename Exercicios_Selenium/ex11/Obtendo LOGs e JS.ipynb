{
 "cells": [
  {
   "cell_type": "markdown",
   "id": "cf9aa2a6",
   "metadata": {},
   "source": [
    "# aula_55 - Obtendo LOGs e executando JacaScript "
   ]
  },
  {
   "cell_type": "code",
   "execution_count": null,
   "id": "3b61a0a7",
   "metadata": {
    "vscode": {
     "languageId": "plaintext"
    }
   },
   "outputs": [],
   "source": [
    "from selenium.webdriver.common.by import By\n",
    "from selenium import webdriver\n",
    "from selenium.webdriver.support.ui import Select\n",
    "from selenium.webdriver.support.wait import WebDriverWait\n",
    "from selenium.webdriver.support import expected_conditions as EC\n",
    "from selenium.webdriver.common.action_chains import ActionChains\n",
    "from selenium.webdriver.common.keys import Keys\n",
    "\n",
    "\n",
    "driver = webdriver.Chrome()\n",
    "driver.get(\"https://curso-web-scraping.pages.dev/#/exemplo/11\")"
   ]
  },
  {
   "cell_type": "code",
   "execution_count": null,
   "id": "d75aa160",
   "metadata": {
    "vscode": {
     "languageId": "plaintext"
    }
   },
   "outputs": [],
   "source": [
    "driver.log_types"
   ]
  },
  {
   "cell_type": "code",
   "execution_count": null,
   "id": "f84a7d2b",
   "metadata": {
    "vscode": {
     "languageId": "plaintext"
    }
   },
   "outputs": [],
   "source": [
    "driver.get_log('browser')"
   ]
  },
  {
   "cell_type": "code",
   "execution_count": null,
   "id": "34668d79",
   "metadata": {
    "vscode": {
     "languageId": "plaintext"
    }
   },
   "outputs": [],
   "source": [
    "driver.get_log('driver')"
   ]
  },
  {
   "cell_type": "code",
   "execution_count": null,
   "id": "70d17fdc",
   "metadata": {
    "vscode": {
     "languageId": "plaintext"
    }
   },
   "outputs": [],
   "source": [
    "driver.get('https://www.magazineluiza.com.br')"
   ]
  },
  {
   "cell_type": "code",
   "execution_count": null,
   "id": "4bf3f28b",
   "metadata": {
    "vscode": {
     "languageId": "plaintext"
    }
   },
   "outputs": [],
   "source": [
    "driver.get_log('browser')"
   ]
  },
  {
   "cell_type": "code",
   "execution_count": null,
   "id": "be51d7e1",
   "metadata": {
    "vscode": {
     "languageId": "plaintext"
    }
   },
   "outputs": [],
   "source": [
    "driver.get(\"https://curso-web-scraping.pages.dev/#/exemplo/11\")"
   ]
  },
  {
   "cell_type": "markdown",
   "id": "a3642e8b",
   "metadata": {},
   "source": [
    "~~ execute JavaScript"
   ]
  },
  {
   "cell_type": "code",
   "execution_count": null,
   "id": "26922e74",
   "metadata": {
    "vscode": {
     "languageId": "plaintext"
    }
   },
   "outputs": [],
   "source": [
    "driver.execute_script('return document.title')"
   ]
  },
  {
   "cell_type": "code",
   "execution_count": null,
   "id": "54e3f8ea",
   "metadata": {
    "vscode": {
     "languageId": "plaintext"
    }
   },
   "outputs": [],
   "source": [
    "driver.execute_script('console.log(\"Ola mundo\")')"
   ]
  },
  {
   "cell_type": "code",
   "execution_count": null,
   "id": "b958b7de",
   "metadata": {
    "vscode": {
     "languageId": "plaintext"
    }
   },
   "outputs": [],
   "source": [
    "driver.execute_script(\"setInterval(() => console.log('ola mundo'), 1000)\")"
   ]
  },
  {
   "cell_type": "code",
   "execution_count": null,
   "id": "47b7b68c",
   "metadata": {
    "vscode": {
     "languageId": "plaintext"
    }
   },
   "outputs": [],
   "source": [
    "driver.execute_script(\"\"\"\n",
    "\n",
    "Array(30).fill(0).map((_, index) => console.error('Erro ${index} encontrado?'))\n",
    "\n",
    "\"\"\")"
   ]
  }
 ],
 "metadata": {
  "language_info": {
   "name": "python"
  }
 },
 "nbformat": 4,
 "nbformat_minor": 5
}
