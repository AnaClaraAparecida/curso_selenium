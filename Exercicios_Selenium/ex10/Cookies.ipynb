{
 "cells": [
  {
   "cell_type": "markdown",
   "id": "6b43aae8",
   "metadata": {},
   "source": [
    "# aula_53 - Cookies"
   ]
  },
  {
   "cell_type": "code",
   "execution_count": null,
   "id": "e83db832",
   "metadata": {
    "vscode": {
     "languageId": "plaintext"
    }
   },
   "outputs": [],
   "source": [
    "from selenium.webdriver.common.by import By\n",
    "from selenium import webdriver\n",
    "from selenium.webdriver.support.ui import Select\n",
    "from selenium.webdriver.support.wait import WebDriverWait\n",
    "from selenium.webdriver.support import expected_conditions as EC\n",
    "from selenium.webdriver.common.action_chains import ActionChains\n",
    "from selenium.webdriver.common.keys import Keys\n",
    "\n",
    "\n",
    "driver = webdriver.Chrome()\n",
    "driver.get(\"https://curso-web-scraping.pages.dev/#/exemplo/10\")"
   ]
  },
  {
   "cell_type": "code",
   "execution_count": null,
   "id": "c3553f29",
   "metadata": {
    "vscode": {
     "languageId": "plaintext"
    }
   },
   "outputs": [],
   "source": [
    "driver.get_cookies()"
   ]
  },
  {
   "cell_type": "code",
   "execution_count": null,
   "id": "d57c3e19",
   "metadata": {
    "vscode": {
     "languageId": "plaintext"
    }
   },
   "outputs": [],
   "source": [
    "cookie = {'name': 'usuario', 'value': 'Dalton'}"
   ]
  },
  {
   "cell_type": "code",
   "execution_count": null,
   "id": "42c6d8bf",
   "metadata": {
    "vscode": {
     "languageId": "plaintext"
    }
   },
   "outputs": [],
   "source": [
    "driver.add_cookie(cookie)"
   ]
  },
  {
   "cell_type": "code",
   "execution_count": null,
   "id": "d78920dc",
   "metadata": {
    "vscode": {
     "languageId": "plaintext"
    }
   },
   "outputs": [],
   "source": [
    "driver.get_cookie('usuario')"
   ]
  },
  {
   "cell_type": "code",
   "execution_count": null,
   "id": "635b5c32",
   "metadata": {
    "vscode": {
     "languageId": "plaintext"
    }
   },
   "outputs": [],
   "source": [
    "driver.delete_cookie('usuario')"
   ]
  },
  {
   "cell_type": "code",
   "execution_count": null,
   "id": "c6b52b24",
   "metadata": {
    "vscode": {
     "languageId": "plaintext"
    }
   },
   "outputs": [],
   "source": [
    "driver.delete_all_cookies()"
   ]
  },
  {
   "cell_type": "markdown",
   "id": "cba6cb3b",
   "metadata": {},
   "source": [
    "Google"
   ]
  },
  {
   "cell_type": "code",
   "execution_count": null,
   "id": "01bf0b9a",
   "metadata": {
    "vscode": {
     "languageId": "plaintext"
    }
   },
   "outputs": [],
   "source": [
    "driver.get('https://google.com')"
   ]
  },
  {
   "cell_type": "markdown",
   "id": "c27af08c",
   "metadata": {},
   "source": [
    "Magazine Luiza"
   ]
  },
  {
   "cell_type": "code",
   "execution_count": null,
   "id": "2c2d6c2e",
   "metadata": {
    "vscode": {
     "languageId": "plaintext"
    }
   },
   "outputs": [],
   "source": [
    "driver.get('https://www.magazineluiza.com.br')"
   ]
  },
  {
   "cell_type": "code",
   "execution_count": null,
   "id": "b0f2d9dd",
   "metadata": {
    "vscode": {
     "languageId": "plaintext"
    }
   },
   "outputs": [],
   "source": [
    "carrinho_vazio = driver.get_cookies()\n",
    "len(carrinho_vazio)"
   ]
  },
  {
   "cell_type": "code",
   "execution_count": null,
   "id": "b29b3af9",
   "metadata": {
    "vscode": {
     "languageId": "plaintext"
    }
   },
   "outputs": [],
   "source": [
    "carrinho_cheio = driver.get_cookies()\n",
    "len(carrinho_vazio)"
   ]
  },
  {
   "cell_type": "code",
   "execution_count": null,
   "id": "661bc8ab",
   "metadata": {
    "vscode": {
     "languageId": "plaintext"
    }
   },
   "outputs": [],
   "source": [
    "driver.delete_all_cookies()"
   ]
  }
 ],
 "metadata": {
  "language_info": {
   "name": "python"
  }
 },
 "nbformat": 4,
 "nbformat_minor": 5
}
