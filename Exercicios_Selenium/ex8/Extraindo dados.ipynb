{
 "cells": [
  {
   "cell_type": "markdown",
   "id": "34f66b45",
   "metadata": {},
   "source": [
    "# aula_41 - Extraindo dados paginados"
   ]
  },
  {
   "cell_type": "code",
   "execution_count": null,
   "id": "c575e93b",
   "metadata": {
    "vscode": {
     "languageId": "plaintext"
    }
   },
   "outputs": [],
   "source": [
    "from selenium.webdriver.common.by import By\n",
    "from selenium import webdriver\n",
    "from selenium.webdriver.support.ui import Select\n",
    "from selenium.webdriver.support.wait import WebDriverWait\n",
    "from selenium.webdriver.support import expected_conditions as EC\n",
    "\n",
    "\n",
    "driver = webdriver.Chrome()\n",
    "driver.get(\"https://curso-web-scraping.pages.dev/#/exemplo/7\")\n",
    "\n",
    "driver.implicitly_wait(time_to_wait=10)"
   ]
  },
  {
   "cell_type": "code",
   "execution_count": null,
   "id": "831aa7e3",
   "metadata": {
    "vscode": {
     "languageId": "plaintext"
    }
   },
   "outputs": [],
   "source": [
    "tabela = driver.find_element(By.ID, 'tabela-usuarios')"
   ]
  },
  {
   "cell_type": "code",
   "execution_count": null,
   "id": "315faa29",
   "metadata": {
    "vscode": {
     "languageId": "plaintext"
    }
   },
   "outputs": [],
   "source": [
    "linhas = tabela.find_elements(By.CSS_SELECTOR, 'tbody tr')\n",
    "linhas"
   ]
  },
  {
   "cell_type": "code",
   "execution_count": null,
   "id": "39021dc5",
   "metadata": {
    "vscode": {
     "languageId": "plaintext"
    }
   },
   "outputs": [],
   "source": [
    "from dataclasses import dataclass\n",
    "\n",
    "@dataclass\n",
    "class Usuario:\n",
    "    avatar: str\n",
    "    nome: str\n",
    "    profissao: str\n",
    "    email: str\n",
    "    perfil: str\n",
    "    estado: str"
   ]
  },
  {
   "cell_type": "code",
   "execution_count": null,
   "id": "7060d78a",
   "metadata": {
    "vscode": {
     "languageId": "plaintext"
    }
   },
   "outputs": [],
   "source": [
    "registros = []\n",
    "\n",
    "for linha in linhas:\n",
    "    dados = linha.get_property('children')\n",
    "\n",
    "    # for dado in dados:\n",
    "        # print(dado.text)\n",
    "\n",
    "    registro = Usuario(\n",
    "        avatar = dados[0].find_element(By.TAG_NAME, 'img').get_property('src'),\n",
    "        nome = dados[1].text,\n",
    "        profissao = dados[2].text,\n",
    "        email = dados[3].text,\n",
    "        perfil = dados[4].text,\n",
    "        estado = dados[5].text\n",
    "    )\n",
    "\n",
    "    registros.append(registro)"
   ]
  },
  {
   "cell_type": "code",
   "execution_count": null,
   "id": "d6ca4d69",
   "metadata": {
    "vscode": {
     "languageId": "plaintext"
    }
   },
   "outputs": [],
   "source": [
    "registros"
   ]
  },
  {
   "cell_type": "code",
   "execution_count": null,
   "id": "3692171f",
   "metadata": {
    "vscode": {
     "languageId": "plaintext"
    }
   },
   "outputs": [],
   "source": [
    "proximo = driver.find_element(By.XPATH, '//main//button[contains(text(), \"Próxima\")]')\n",
    "proximo\n",
    "\n",
    "proximo.click()"
   ]
  },
  {
   "cell_type": "markdown",
   "id": "45fa29bd",
   "metadata": {},
   "source": [
    "~~ Automatizando"
   ]
  },
  {
   "cell_type": "code",
   "execution_count": null,
   "id": "e09d90cf",
   "metadata": {
    "vscode": {
     "languageId": "plaintext"
    }
   },
   "outputs": [],
   "source": [
    "def raspar_dados_da_tabela():\n",
    "    linhas = driver.find_elements(By.CSS_SELECTOR, 'tbody tr')\n",
    "\n",
    "    registros = []\n",
    "\n",
    "    for linha in linhas:\n",
    "        dados = linha.get_property('children')\n",
    "\n",
    "        registro = Usuario(\n",
    "            avatar = dados[0].find_element(By.TAG_NAME, 'img').get_property('src'),\n",
    "            nome = dados[1].text,\n",
    "            profissao = dados[2].text,\n",
    "            email = dados[3].text,\n",
    "            perfil = dados[4].text,\n",
    "            estado = dados[5].text\n",
    "        )\n",
    "\n",
    "        registros.append(registro)\n",
    "\n",
    "    return registros"
   ]
  },
  {
   "cell_type": "code",
   "execution_count": null,
   "id": "3eeff25f",
   "metadata": {
    "vscode": {
     "languageId": "plaintext"
    }
   },
   "outputs": [],
   "source": [
    "dados_da_tabela = []\n",
    "\n",
    "while True:\n",
    "    dados = raspar_dados_da_tabela()\n",
    "    dados_da_tabela.extend(dados)\n",
    "\n",
    "    try: \n",
    "        proximo = driver.find_element(By.XPATH, '//main//button[contains(text(), \"Próxima\")]')\n",
    "        proximo.click()\n",
    "    except Exception as e:\n",
    "        break\n"
   ]
  },
  {
   "cell_type": "code",
   "execution_count": null,
   "id": "d58ac1dd",
   "metadata": {
    "vscode": {
     "languageId": "plaintext"
    }
   },
   "outputs": [],
   "source": [
    "len(dados_da_tabela)"
   ]
  }
 ],
 "metadata": {
  "language_info": {
   "name": "python"
  }
 },
 "nbformat": 4,
 "nbformat_minor": 5
}
