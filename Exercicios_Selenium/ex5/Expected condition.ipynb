{
 "cells": [
  {
   "cell_type": "markdown",
   "id": "8fd589b7",
   "metadata": {},
   "source": [
    "# aula_36 - Expected Conditions"
   ]
  },
  {
   "cell_type": "code",
   "execution_count": null,
   "id": "1f2cd0ee",
   "metadata": {
    "vscode": {
     "languageId": "plaintext"
    }
   },
   "outputs": [],
   "source": [
    "from selenium.webdriver.common.by import By\n",
    "from selenium import webdriver\n",
    "from selenium.webdriver.support.ui import Select\n",
    "from selenium.webdriver.support.wait import WebDriverWait\n",
    "from selenium.webdriver.support import expected_conditions as EC\n",
    "\n",
    "\n",
    "driver = webdriver.Chrome()\n",
    "driver.get(\"https://curso-web-scraping.pages.dev/#/exemplo/5\")"
   ]
  },
  {
   "cell_type": "code",
   "execution_count": null,
   "id": "25a52a81",
   "metadata": {
    "vscode": {
     "languageId": "plaintext"
    }
   },
   "outputs": [],
   "source": [
    "wait = WebDriverWait(driver=driver, timeout=30, poll_frequency=1)"
   ]
  },
  {
   "cell_type": "markdown",
   "id": "c68b7fbf",
   "metadata": {},
   "source": [
    "1. title_is"
   ]
  },
  {
   "cell_type": "code",
   "execution_count": null,
   "id": "40f1a832",
   "metadata": {
    "vscode": {
     "languageId": "plaintext"
    }
   },
   "outputs": [],
   "source": [
    "driver.refresh()\n",
    "%time wait.until(EC.title_is(title='Programador'))"
   ]
  },
  {
   "cell_type": "markdown",
   "id": "3abb3474",
   "metadata": {},
   "source": [
    "1.2 title_contains"
   ]
  },
  {
   "cell_type": "code",
   "execution_count": null,
   "id": "99e687b5",
   "metadata": {
    "vscode": {
     "languageId": "plaintext"
    }
   },
   "outputs": [],
   "source": [
    "driver.refresh()\n",
    "%time wait.until(EC.title_is(title='Aventureiro'))"
   ]
  },
  {
   "cell_type": "markdown",
   "id": "d5e3b495",
   "metadata": {},
   "source": [
    "2. presence_of_element_located"
   ]
  },
  {
   "cell_type": "code",
   "execution_count": null,
   "id": "4f487392",
   "metadata": {
    "vscode": {
     "languageId": "plaintext"
    }
   },
   "outputs": [],
   "source": [
    "driver.refresh()\n",
    "%time wait.until(EC.presence_of_element_located(locator=(By.ID, 'star1')))"
   ]
  },
  {
   "cell_type": "markdown",
   "id": "37be047f",
   "metadata": {},
   "source": [
    "2.2 presence_of_all_elements_located"
   ]
  },
  {
   "cell_type": "code",
   "execution_count": null,
   "id": "eb583cdf",
   "metadata": {
    "vscode": {
     "languageId": "plaintext"
    }
   },
   "outputs": [],
   "source": [
    "driver.refresh()\n",
    "%time wait.until(EC.presence_of_all_elements_located(locator=(By.NAME, 'stars')))"
   ]
  },
  {
   "cell_type": "markdown",
   "id": "94c971bc",
   "metadata": {},
   "source": [
    "3. visibility_of_element_located"
   ]
  },
  {
   "cell_type": "code",
   "execution_count": null,
   "id": "325b6d5c",
   "metadata": {
    "vscode": {
     "languageId": "plaintext"
    }
   },
   "outputs": [],
   "source": [
    "driver.refresh()\n",
    "%time wait.until(EC.visibility_of_element_located(locator=(By.ID, 'star3')))"
   ]
  },
  {
   "cell_type": "markdown",
   "id": "a2602bd3",
   "metadata": {},
   "source": [
    "4. element_to_be_clickable"
   ]
  },
  {
   "cell_type": "code",
   "execution_count": null,
   "id": "b3c41a40",
   "metadata": {
    "vscode": {
     "languageId": "plaintext"
    }
   },
   "outputs": [],
   "source": [
    "driver.refresh()\n",
    "%time wait.until(EC.element_to_be_clickable(mark=(By.ID, 'telegram')))"
   ]
  },
  {
   "cell_type": "markdown",
   "id": "692db919",
   "metadata": {},
   "source": [
    "5. staleness_of"
   ]
  },
  {
   "cell_type": "code",
   "execution_count": null,
   "id": "94095410",
   "metadata": {
    "vscode": {
     "languageId": "plaintext"
    }
   },
   "outputs": [],
   "source": [
    "driver.refresh()\n",
    "star = driver.find_element(By.ID, 'star4')\n",
    "%time wait.until(EC.staleness_of(element=star))"
   ]
  },
  {
   "cell_type": "markdown",
   "id": "cc7e66f2",
   "metadata": {},
   "source": [
    "6. element_attribute_to_include"
   ]
  },
  {
   "cell_type": "code",
   "execution_count": null,
   "id": "8f404a73",
   "metadata": {
    "vscode": {
     "languageId": "plaintext"
    }
   },
   "outputs": [],
   "source": [
    "%%time\n",
    "driver.refresh()\n",
    "wait.until(\n",
    "    EC.element_attribute_to_include(\n",
    "        locator=(By.ID, 'star5'),\n",
    "        attribute_='name'\n",
    "    )\n",
    ")"
   ]
  },
  {
   "cell_type": "markdown",
   "id": "2ae731f7",
   "metadata": {},
   "source": [
    "7. alert_is_present"
   ]
  },
  {
   "cell_type": "code",
   "execution_count": null,
   "id": "da657ab8",
   "metadata": {
    "vscode": {
     "languageId": "plaintext"
    }
   },
   "outputs": [],
   "source": [
    "driver.refresh()\n",
    "# Trigger an alert using JavaScript\n",
    "driver.execute_script(\"alert('Hello!');\")\n",
    "%time wait.until(EC.alert_is_present())"
   ]
  }
 ],
 "metadata": {
  "language_info": {
   "name": "python"
  }
 },
 "nbformat": 4,
 "nbformat_minor": 5
}
