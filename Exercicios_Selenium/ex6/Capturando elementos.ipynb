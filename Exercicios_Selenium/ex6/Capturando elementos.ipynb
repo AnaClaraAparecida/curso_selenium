{
 "cells": [
  {
   "cell_type": "markdown",
   "id": "0249d0c9",
   "metadata": {},
   "source": [
    "# aula_39- Capturando atributos dos elementos"
   ]
  },
  {
   "cell_type": "code",
   "execution_count": null,
   "id": "44aa76ce",
   "metadata": {
    "vscode": {
     "languageId": "plaintext"
    }
   },
   "outputs": [],
   "source": [
    "from selenium.webdriver.common.by import By\n",
    "from selenium import webdriver\n",
    "from selenium.webdriver.support.ui import Select\n",
    "from selenium.webdriver.support.wait import WebDriverWait\n",
    "from selenium.webdriver.support import expected_conditions as EC\n",
    "\n",
    "\n",
    "driver = webdriver.Chrome()\n",
    "driver.get(\"https://curso-web-scraping.pages.dev/#/exemplo/6\")"
   ]
  },
  {
   "cell_type": "code",
   "execution_count": null,
   "id": "b274e347",
   "metadata": {
    "vscode": {
     "languageId": "plaintext"
    }
   },
   "outputs": [],
   "source": [
    "estados = driver.find_element(By.ID, 'estados')"
   ]
  },
  {
   "cell_type": "markdown",
   "id": "2bb098ab",
   "metadata": {},
   "source": [
    "~~ attribute"
   ]
  },
  {
   "cell_type": "code",
   "execution_count": null,
   "id": "90be9285",
   "metadata": {
    "vscode": {
     "languageId": "plaintext"
    }
   },
   "outputs": [],
   "source": [
    "estados.get_attribute('class')"
   ]
  },
  {
   "cell_type": "code",
   "execution_count": null,
   "id": "5a0d223f",
   "metadata": {
    "vscode": {
     "languageId": "plaintext"
    }
   },
   "outputs": [],
   "source": [
    "estados.get_attribute('id')"
   ]
  },
  {
   "cell_type": "markdown",
   "id": "cd70ee47",
   "metadata": {},
   "source": [
    "~~ property"
   ]
  },
  {
   "cell_type": "code",
   "execution_count": null,
   "id": "ea42ab87",
   "metadata": {
    "vscode": {
     "languageId": "plaintext"
    }
   },
   "outputs": [],
   "source": [
    "estados.get_property('className')"
   ]
  },
  {
   "cell_type": "code",
   "execution_count": null,
   "id": "796c480e",
   "metadata": {
    "vscode": {
     "languageId": "plaintext"
    }
   },
   "outputs": [],
   "source": [
    "estados.get_property('id')"
   ]
  },
  {
   "cell_type": "code",
   "execution_count": null,
   "id": "cbaceb71",
   "metadata": {
    "vscode": {
     "languageId": "plaintext"
    }
   },
   "outputs": [],
   "source": [
    "children = estados.get_property('children')\n",
    "\n",
    "for child in children:\n",
    "   # print(child.text)\n",
    "\n",
    "   cchild = child.get_property('children')\n",
    "\n",
    "   for cc in cchild:\n",
    "    if cc.tag_name == 'label':\n",
    "        print(cc.text)\n",
    "\n",
    "    if cc.tag_name == 'div':\n",
    "        print('\\t -', cc.text)\n"
   ]
  },
  {
   "cell_type": "code",
   "execution_count": null,
   "id": "4c5f3ce5",
   "metadata": {
    "vscode": {
     "languageId": "plaintext"
    }
   },
   "outputs": [],
   "source": [
    "estados.get_property('dataset')"
   ]
  },
  {
   "cell_type": "code",
   "execution_count": null,
   "id": "fa07f712",
   "metadata": {
    "vscode": {
     "languageId": "plaintext"
    }
   },
   "outputs": [],
   "source": [
    "from IPython.display import HTML\n",
    "HTML(estados.get_property('outerHTML'))"
   ]
  },
  {
   "cell_type": "markdown",
   "id": "cd3e4b5e",
   "metadata": {},
   "source": [
    "~~ size"
   ]
  },
  {
   "cell_type": "code",
   "execution_count": null,
   "id": "8289c55c",
   "metadata": {
    "vscode": {
     "languageId": "plaintext"
    }
   },
   "outputs": [],
   "source": [
    "estados.size"
   ]
  },
  {
   "cell_type": "markdown",
   "id": "832aead5",
   "metadata": {},
   "source": [
    "~~ location"
   ]
  },
  {
   "cell_type": "code",
   "execution_count": null,
   "id": "f461ef6a",
   "metadata": {
    "vscode": {
     "languageId": "plaintext"
    }
   },
   "outputs": [],
   "source": [
    "estados.location"
   ]
  },
  {
   "cell_type": "markdown",
   "id": "9b195b39",
   "metadata": {},
   "source": [
    "~~ rect"
   ]
  },
  {
   "cell_type": "code",
   "execution_count": null,
   "id": "bd0f3d6d",
   "metadata": {
    "vscode": {
     "languageId": "plaintext"
    }
   },
   "outputs": [],
   "source": [
    "estados.rect"
   ]
  },
  {
   "cell_type": "markdown",
   "id": "8215fc54",
   "metadata": {},
   "source": [
    "~~ value_of_css_property"
   ]
  },
  {
   "cell_type": "code",
   "execution_count": null,
   "id": "b581c7ef",
   "metadata": {
    "vscode": {
     "languageId": "plaintext"
    }
   },
   "outputs": [],
   "source": [
    "estados.value_of_css_property('border-bottom-style')"
   ]
  },
  {
   "cell_type": "code",
   "execution_count": null,
   "id": "f03f5bbc",
   "metadata": {
    "vscode": {
     "languageId": "plaintext"
    }
   },
   "outputs": [],
   "source": [
    "estados.value_of_css_property('font-weight')"
   ]
  },
  {
   "cell_type": "markdown",
   "id": "b32946a0",
   "metadata": {},
   "source": [
    "~~ tag_name"
   ]
  },
  {
   "cell_type": "code",
   "execution_count": null,
   "id": "aca5b790",
   "metadata": {
    "vscode": {
     "languageId": "plaintext"
    }
   },
   "outputs": [],
   "source": [
    "print(estados.tag_name)\n",
    "\n",
    "for estado in estados.get_property('children'):\n",
    "    print(' -', estado.tag_name)"
   ]
  }
 ],
 "metadata": {
  "language_info": {
   "name": "python"
  }
 },
 "nbformat": 4,
 "nbformat_minor": 5
}
