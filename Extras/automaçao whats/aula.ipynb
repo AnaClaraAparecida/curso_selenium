{
 "cells": [
  {
   "cell_type": "code",
   "execution_count": 6,
   "id": "45c62f6f",
   "metadata": {},
   "outputs": [
    {
     "data": {
      "text/plain": [
       "'OK'"
      ]
     },
     "execution_count": 6,
     "metadata": {},
     "output_type": "execute_result"
    }
   ],
   "source": [
    "import pyautogui\n",
    "from time import sleep\n",
    "\n",
    "# hotkey -> combinar teclas \n",
    "# press -> Pressionar\n",
    "# write -> escrever\n",
    "\n",
    "# print(pyautogui.KEYBOARD_KEYS) -> teclas do seu teclado\n",
    "\n",
    "pyautogui.alert('NAO MEXA EM NADA ATE O CODIGO ACABAR')\n",
    "pyautogui.press('winleft')\n",
    "sleep(2)\n",
    "\n",
    "pyautogui.write('chrome')\n",
    "sleep(2)\n",
    "\n",
    "pyautogui.press('enter')\n",
    "sleep(3)\n",
    "\n",
    "pyautogui.write('https://web.whatsapp.com/')\n",
    "sleep(1)\n",
    "\n",
    "pyautogui.press('enter')\n",
    "sleep(8)\n",
    "\n",
    "pyautogui.hotkey('ctrl', 'alt', 'n')\n",
    "sleep(1)\n",
    "\n",
    "pyautogui.write('ana')\n",
    "sleep(1)\n",
    "\n",
    "pyautogui.press('enter')\n",
    "\n",
    "pyautogui.write('heloo word!')\n",
    "sleep(1)\n",
    "\n",
    "pyautogui.press('enter')\n",
    " \n",
    "pyautogui.alert('CODIGO FINALIZADO! PODE VOLTAR A USA-LO')"
   ]
  },
  {
   "cell_type": "code",
   "execution_count": null,
   "id": "69e71a92",
   "metadata": {},
   "outputs": [],
   "source": []
  }
 ],
 "metadata": {
  "kernelspec": {
   "display_name": "venv",
   "language": "python",
   "name": "python3"
  },
  "language_info": {
   "codemirror_mode": {
    "name": "ipython",
    "version": 3
   },
   "file_extension": ".py",
   "mimetype": "text/x-python",
   "name": "python",
   "nbconvert_exporter": "python",
   "pygments_lexer": "ipython3",
   "version": "3.13.5"
  }
 },
 "nbformat": 4,
 "nbformat_minor": 5
}
