{
 "cells": [
  {
   "cell_type": "code",
   "execution_count": null,
   "id": "2aa66990",
   "metadata": {},
   "outputs": [
    {
     "data": {
      "text/plain": [
       "'OK'"
      ]
     },
     "execution_count": 4,
     "metadata": {},
     "output_type": "execute_result"
    }
   ],
   "source": [
    "\n",
    "import pyautogui as pa\n",
    "import random\n",
    "import time\n",
    "\n",
    "time.sleep(5)\n",
    "\n",
    "msgs = ['pai', 'papito', 'todo poderoso', 'paizao', 'papis', 'eu sou linda, absoluta']\n",
    "\n",
    "pa.alert('NAO MEXA EM NADA ATE O CODIGO ACABAR')\n",
    "pa.press('winleft')\n",
    "time.sleep(2)\n",
    "\n",
    "pa.write('chrome')\n",
    "time.sleep(2)\n",
    "\n",
    "pa.press('enter')\n",
    "time.sleep(3)\n",
    "\n",
    "pa.write('https://web.whatsapp.com/')\n",
    "time.sleep(1)\n",
    "\n",
    "pa.press('enter')\n",
    "time.sleep(8)\n",
    "\n",
    "pa.hotkey('ctrl', 'alt', 'n')\n",
    "time.sleep(1)\n",
    "\n",
    "pa.write('Bya')\n",
    "time.sleep(1)\n",
    "\n",
    "pa.press('enter')\n",
    "\n",
    "for m in range(20):\n",
    "    msg = random.choice(msgs)\n",
    "    pa.write(msg)\n",
    "    time.sleep(1)\n",
    "    pa.press('enter')\n",
    " \n",
    "pa.alert('CODIGO FINALIZADO! PODE VOLTAR A USA-LO')\n"
   ]
  }
 ],
 "metadata": {
  "kernelspec": {
   "display_name": "venv",
   "language": "python",
   "name": "python3"
  },
  "language_info": {
   "codemirror_mode": {
    "name": "ipython",
    "version": 3
   },
   "file_extension": ".py",
   "mimetype": "text/x-python",
   "name": "python",
   "nbconvert_exporter": "python",
   "pygments_lexer": "ipython3",
   "version": "3.13.5"
  }
 },
 "nbformat": 4,
 "nbformat_minor": 5
}
