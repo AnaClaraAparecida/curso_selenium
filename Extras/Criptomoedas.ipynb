{
 "cells": [
  {
   "cell_type": "markdown",
   "id": "c8b97bcc",
   "metadata": {},
   "source": [
    "# aula_56 - Obter dados de Criptomoedas"
   ]
  },
  {
   "cell_type": "code",
   "execution_count": 16,
   "id": "cab9c859",
   "metadata": {},
   "outputs": [],
   "source": [
    "from selenium import webdriver \n",
    "from selenium.webdriver.common.by import By\n",
    "import pandas as pd\n",
    "from io import StringIO"
   ]
  },
  {
   "cell_type": "code",
   "execution_count": 3,
   "id": "fdd5be31",
   "metadata": {},
   "outputs": [],
   "source": [
    "driver = webdriver.Chrome()\n",
    "driver.get('https://www.coingecko.com/pt')\n",
    "driver.implicitly_wait(5)"
   ]
  },
  {
   "cell_type": "code",
   "execution_count": null,
   "id": "56eca74c",
   "metadata": {},
   "outputs": [],
   "source": [
    "driver.execute_script('Modal.show(\"currency_selector\")')\n",
    "driver.find_element(By.CSS_SELECTOR, 'div[data-iso-code=\"brl\"]').click()"
   ]
  },
  {
   "cell_type": "code",
   "execution_count": 11,
   "id": "350ec599",
   "metadata": {},
   "outputs": [],
   "source": [
    "\n",
    "button = driver.find_element(By.CSS_SELECTOR, 'div.gecko-pagination-selector button')\n",
    "driver.execute_script(\"arguments[0].scrollIntoView(true);\", button)\n",
    "driver.execute_script(\"arguments[0].click();\", button)\n",
    "\n",
    "\n",
    "import time\n",
    "time.sleep(1)\n",
    "\n",
    "option = driver.find_element(By.CSS_SELECTOR, 'span[data-url=\"/pt?items=300\"]')\n",
    "driver.execute_script(\"arguments[0].click();\", option)"
   ]
  },
  {
   "cell_type": "code",
   "execution_count": 23,
   "id": "409b2ee9",
   "metadata": {},
   "outputs": [],
   "source": [
    "dados_coletados = []\n",
    "\n",
    "df = pd.read_html(\n",
    "    io = StringIO(driver.page_source),\n",
    "    thousands = '.', \n",
    "    decimal = ',', \n",
    "    skiprows = 1, \n",
    ")[0]"
   ]
  },
  {
   "cell_type": "code",
   "execution_count": 24,
   "id": "0eb772cb",
   "metadata": {},
   "outputs": [],
   "source": [
    "df.columns = ['favorito', 'id', 'moeda', 'açao', 'preço', 'variaçao_1h', 'variaçao_24h',\n",
    "            'variaçao_7d', 'variaçao_30d', 'volume_24', 'capitalizaçao_de_mercado', 'fdv', 'fdv_sobre_capitalizaçao', 'grafico_variaçao']"
   ]
  },
  {
   "cell_type": "code",
   "execution_count": 25,
   "id": "5e7d5119",
   "metadata": {},
   "outputs": [],
   "source": [
    "dados_coletados.append(df)"
   ]
  },
  {
   "cell_type": "code",
   "execution_count": 26,
   "id": "53bb84ab",
   "metadata": {},
   "outputs": [],
   "source": [
    "driver.find_element(By.CSS_SELECTOR, 'a[aria-label=\"next\"]').click()"
   ]
  },
  {
   "cell_type": "code",
   "execution_count": 27,
   "id": "9b99cd90",
   "metadata": {},
   "outputs": [],
   "source": [
    "driver.close()"
   ]
  },
  {
   "cell_type": "markdown",
   "id": "11ecf913",
   "metadata": {},
   "source": []
  },
  {
   "cell_type": "code",
   "execution_count": null,
   "id": "9fe74861",
   "metadata": {},
   "outputs": [],
   "source": [
    "with webdriver.Chrome() as driver:\n",
    "    driver.get('https://www.coingecko.com/pt')\n",
    "    driver.implicitly_wait(15)\n",
    "\n",
    "    driver.execute_script('Modal.show(\"currency_selector\")')\n",
    "    driver.find_element(By.CSS_SELECTOR, 'div[data-iso-code=\"brl\"]').click()\n",
    "\n",
    "\n",
    "    button = driver.find_element(By.CSS_SELECTOR, 'div.gecko-pagination-selector button')\n",
    "    driver.execute_script(\"arguments[0].scrollIntoView(true);\", button)\n",
    "    driver.execute_script(\"arguments[0].click();\", button)\n",
    "\n",
    "    import time\n",
    "    time.sleep(1)\n",
    "\n",
    "    option = driver.find_element(By.CSS_SELECTOR, 'span[data-url=\"/pt?items=300\"]')\n",
    "    driver.execute_script(\"arguments[0].click();\", option)\n",
    "\n",
    "    dados_coletados = []\n",
    "\n",
    "    while True:\n",
    "        df = pd.read_html(\n",
    "            io = StringIO(driver.page_source),\n",
    "            thousands = '.', \n",
    "            decimal = ',', \n",
    "            skiprows = 1, \n",
    "        )[0]\n",
    "\n",
    "        df.columns = ['favorito', 'id', 'moeda', 'açao', 'preço', 'variaçao_1h', 'variaçao_24h',\n",
    "            'variaçao_7d', 'variaçao_30d', 'volume_24', 'capitalizaçao_de_mercado', 'fdv', 'fdv_sobre_capitalizaçao', 'grafico_variaçao']\n",
    "\n",
    "        dados_coletados.append(df)\n",
    "\n",
    "        try:\n",
    "            driver.find_element(By.CSS_SELECTOR, 'a[aria-label=\"next\"]').click()\n",
    "        except:\n",
    "            print(f'Encerrando a execuçao na pagina {driver.current_url}')\n",
    "            break"
   ]
  }
 ],
 "metadata": {
  "kernelspec": {
   "display_name": "venv",
   "language": "python",
   "name": "python3"
  },
  "language_info": {
   "codemirror_mode": {
    "name": "ipython",
    "version": 3
   },
   "file_extension": ".py",
   "mimetype": "text/x-python",
   "name": "python",
   "nbconvert_exporter": "python",
   "pygments_lexer": "ipython3",
   "version": "3.13.5"
  }
 },
 "nbformat": 4,
 "nbformat_minor": 5
}
