{
 "cells": [
  {
   "cell_type": "markdown",
   "id": "a0189ae2",
   "metadata": {},
   "source": [
    "# aula_54 - Utilities"
   ]
  },
  {
   "cell_type": "code",
   "execution_count": 2,
   "id": "0eea03fb",
   "metadata": {},
   "outputs": [],
   "source": [
    "\n",
    "from selenium.webdriver.common import utils"
   ]
  },
  {
   "cell_type": "markdown",
   "id": "2a93613f",
   "metadata": {},
   "source": [
    "~~ Obtem o IP de um site "
   ]
  },
  {
   "cell_type": "code",
   "execution_count": 3,
   "id": "5bb3d4d4",
   "metadata": {},
   "outputs": [
    {
     "data": {
      "text/plain": [
       "'172.217.30.14'"
      ]
     },
     "execution_count": 3,
     "metadata": {},
     "output_type": "execute_result"
    }
   ],
   "source": [
    "utils.find_connectable_ip(host='google.com')"
   ]
  },
  {
   "cell_type": "code",
   "execution_count": 4,
   "id": "d646e90f",
   "metadata": {},
   "outputs": [
    {
     "name": "stdout",
     "output_type": "stream",
     "text": [
      "\n",
      "Disparando google.com [172.217.30.14] com 32 bytes de dados:\n",
      "Resposta de 172.217.30.14: bytes=32 tempo=8ms TTL=116\n",
      "Resposta de 172.217.30.14: bytes=32 tempo=14ms TTL=116\n",
      "Resposta de 172.217.30.14: bytes=32 tempo=7ms TTL=116\n",
      "Resposta de 172.217.30.14: bytes=32 tempo=9ms TTL=116\n",
      "\n",
      "Estat�sticas do Ping para 172.217.30.14:\n",
      "    Pacotes: Enviados = 4, Recebidos = 4, Perdidos = 0 (0% de\n",
      "             perda),\n",
      "Aproximar um n�mero redondo de vezes em milissegundos:\n",
      "    M�nimo = 7ms, M�ximo = 14ms, M�dia = 9ms\n"
     ]
    }
   ],
   "source": [
    "!ping google.com"
   ]
  },
  {
   "cell_type": "markdown",
   "id": "923acdf2",
   "metadata": {},
   "source": [
    "~~ retornar uma porta livre no sistema "
   ]
  },
  {
   "cell_type": "code",
   "execution_count": 10,
   "id": "9ae45134",
   "metadata": {},
   "outputs": [
    {
     "data": {
      "text/plain": [
       "62760"
      ]
     },
     "execution_count": 10,
     "metadata": {},
     "output_type": "execute_result"
    }
   ],
   "source": [
    "utils.free_port()"
   ]
  },
  {
   "cell_type": "code",
   "execution_count": 11,
   "id": "3138d4e5",
   "metadata": {},
   "outputs": [
    {
     "name": "stderr",
     "output_type": "stream",
     "text": [
      "'lsof' n�o � reconhecido como um comando interno\n",
      "ou externo, um programa oper�vel ou um arquivo em lotes.\n"
     ]
    }
   ],
   "source": [
    "!lsof -i :8000"
   ]
  },
  {
   "cell_type": "code",
   "execution_count": 12,
   "id": "9c0a2b5f",
   "metadata": {},
   "outputs": [
    {
     "name": "stderr",
     "output_type": "stream",
     "text": [
      "'lsof' n�o � reconhecido como um comando interno\n",
      "ou externo, um programa oper�vel ou um arquivo em lotes.\n"
     ]
    }
   ],
   "source": [
    "!lsof -i :62760"
   ]
  },
  {
   "cell_type": "markdown",
   "id": "4e713b2f",
   "metadata": {},
   "source": [
    "~~ testar uma conexão em uma port aspecifica "
   ]
  },
  {
   "cell_type": "code",
   "execution_count": 13,
   "id": "307d1e4b",
   "metadata": {},
   "outputs": [
    {
     "data": {
      "text/plain": [
       "False"
      ]
     },
     "execution_count": 13,
     "metadata": {},
     "output_type": "execute_result"
    }
   ],
   "source": [
    "utils.is_connectable(port=8000, host='localhost')"
   ]
  },
  {
   "cell_type": "code",
   "execution_count": 14,
   "id": "3112eb57",
   "metadata": {},
   "outputs": [
    {
     "data": {
      "text/plain": [
       "False"
      ]
     },
     "execution_count": 14,
     "metadata": {},
     "output_type": "execute_result"
    }
   ],
   "source": [
    "utils.is_connectable(port=62760, host='localhost')"
   ]
  },
  {
   "cell_type": "code",
   "execution_count": 15,
   "id": "eb7eced1",
   "metadata": {},
   "outputs": [
    {
     "data": {
      "text/plain": [
       "False"
      ]
     },
     "execution_count": 15,
     "metadata": {},
     "output_type": "execute_result"
    }
   ],
   "source": [
    "utils.is_connectable(port=8000, host='google.com')"
   ]
  }
 ],
 "metadata": {
  "kernelspec": {
   "display_name": "venv",
   "language": "python",
   "name": "python3"
  },
  "language_info": {
   "codemirror_mode": {
    "name": "ipython",
    "version": 3
   },
   "file_extension": ".py",
   "mimetype": "text/x-python",
   "name": "python",
   "nbconvert_exporter": "python",
   "pygments_lexer": "ipython3",
   "version": "3.13.5"
  }
 },
 "nbformat": 4,
 "nbformat_minor": 5
}
